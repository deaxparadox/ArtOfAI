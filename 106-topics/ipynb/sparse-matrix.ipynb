{
 "cells": [
  {
   "cell_type": "markdown",
   "metadata": {},
   "source": [
    "# Table of content\n",
    "\n",
    "- Sparse matrix representation\n",
    "    - [CSR](#csr-representation)\n",
    "    - [DOK](#dok-representation)\n",
    "    - [LIL](#lil-representation)\n"
   ]
  },
  {
   "cell_type": "markdown",
   "metadata": {},
   "source": [
    "# A simple, sparse matrix\n",
    "\n",
    "A simple, sparse matrix will be constructed to show the representation formats of a sparse matrix in Python."
   ]
  },
  {
   "cell_type": "code",
   "execution_count": 2,
   "metadata": {},
   "outputs": [],
   "source": [
    "import numpy as np\n",
    "from scipy import sparse"
   ]
  },
  {
   "cell_type": "code",
   "execution_count": 4,
   "metadata": {},
   "outputs": [
    {
     "name": "stdout",
     "output_type": "stream",
     "text": [
      "[[0 0 0 3 0 0 4]\n",
      " [0 5 0 0 0 0 0]\n",
      " [0 0 5 0 0 4 0]\n",
      " [4 0 0 0 0 0 1]\n",
      " [0 2 0 0 3 0 0]]\n"
     ]
    }
   ],
   "source": [
    "X = np.array([[0,0,0,3,0,0,4],\n",
    "              [0,5,0,0,0,0,0],\n",
    "              [0,0,5,0,0,4,0],\n",
    "              [4,0,0,0,0,0,1],\n",
    "              [0,2,0,0,3,0,0]])\n",
    "print(X)"
   ]
  },
  {
   "cell_type": "markdown",
   "metadata": {},
   "source": [
    "There's many zeros in this matrix, so let's calculate the sparsity of the matrix:"
   ]
  },
  {
   "cell_type": "code",
   "execution_count": 5,
   "metadata": {},
   "outputs": [
    {
     "name": "stdout",
     "output_type": "stream",
     "text": [
      "The sparsity of X is  0.7428571428571429\n"
     ]
    }
   ],
   "source": [
    "sparsity = 1.0 - (np.count_nonzero(X) / X.size)\n",
    "print(\"The sparsity of X is \", sparsity)"
   ]
  },
  {
   "cell_type": "markdown",
   "metadata": {},
   "source": [
    "### CSR representation\n",
    "\n",
    "\n",
    "We can convert  this **dense** matrix into a sparse matrix by using the `sparse.csr_matrix()` function. The row/column indices of nonzero values are stored in a *Compressed Sparse Row (CSR)* matrix:"
   ]
  },
  {
   "cell_type": "code",
   "execution_count": 7,
   "metadata": {},
   "outputs": [
    {
     "name": "stdout",
     "output_type": "stream",
     "text": [
      "\n",
      "Type of sparse matrix representation: <class 'scipy.sparse._csr.csr_matrix'>\n",
      "\n",
      "Sparse Matrix:\n",
      "  (0, 3)\t3\n",
      "  (0, 6)\t4\n",
      "  (1, 1)\t5\n",
      "  (2, 2)\t5\n",
      "  (2, 5)\t4\n",
      "  (3, 0)\t4\n",
      "  (3, 6)\t1\n",
      "  (4, 1)\t2\n",
      "  (4, 4)\t3\n",
      "\n",
      "Sparse Data: [3 4 5 5 4 4 1 2 3]\n",
      "\n",
      "Indices of columns: [3 6 1 2 5 0 6 1 4]\n",
      "\n",
      "Pointers for data: [0 2 3 5 7 9]\n",
      "\n"
     ]
    }
   ],
   "source": [
    "# Convert X to a sparse Matrix\n",
    "\n",
    "S1 = sparse.csr_matrix(X)\n",
    "\n",
    "print(f\"\"\"\n",
    "Type of sparse matrix representation: {type(S1)}\n",
    "\n",
    "Sparse Matrix:\\n{S1}\n",
    "\n",
    "Sparse Data: {S1.data}\n",
    "\n",
    "Indices of columns: {S1.indices}\n",
    "\n",
    "Pointers for data: {S1.indptr}\n",
    "\"\"\")"
   ]
  },
  {
   "cell_type": "markdown",
   "metadata": {},
   "source": [
    "### DOK representation\n",
    "\n",
    "Another efficient structure for constructing sparse matrices is the **Dictionary of Keys (DOK)**, where a python dictionary is used to represent non-zero values of sparse matrix.\n",
    "\n",
    "In this representation, `keys()` is used for indices, and `values()` is used for values of non-zero elements:"
   ]
  },
  {
   "cell_type": "code",
   "execution_count": 9,
   "metadata": {},
   "outputs": [
    {
     "name": "stdout",
     "output_type": "stream",
     "text": [
      "\n",
      "Type of sparse matrix representation: <class 'scipy.sparse._dok.dok_matrix'>\n",
      "\n",
      "Sparse Matrix:\n",
      "  (0, 3)\t3\n",
      "  (0, 6)\t4\n",
      "  (1, 1)\t5\n",
      "  (2, 2)\t5\n",
      "  (2, 5)\t4\n",
      "  (3, 0)\t4\n",
      "  (3, 6)\t1\n",
      "  (4, 1)\t2\n",
      "  (4, 4)\t3\n",
      "\n",
      "Keys in dictionary: dict_keys([(0, 3), (0, 6), (1, 1), (2, 2), (2, 5), (3, 0), (3, 6), (4, 1), (4, 4)])\n",
      "\n",
      "Values in dictionary: dict_values([3, 4, 5, 5, 4, 4, 1, 2, 3])\n",
      "\n"
     ]
    }
   ],
   "source": [
    "S2 = sparse.dok_matrix(X)\n",
    "\n",
    "print(f\"\"\"\n",
    "Type of sparse matrix representation: {type(S2)}\n",
    "\n",
    "Sparse Matrix:\\n{S2}\n",
    "\n",
    "Keys in dictionary: {S2.keys()}\n",
    "\n",
    "Values in dictionary: {S2.values()}\n",
    "\"\"\")"
   ]
  },
  {
   "cell_type": "markdown",
   "metadata": {},
   "source": [
    "### LIL representation\n",
    "\n",
    "The Last representation format shown here is a row-based **list of lists sparse (LIL)** matrix. The first list stores column indices for each row, and the second list is used to store the element's row values."
   ]
  },
  {
   "cell_type": "code",
   "execution_count": 10,
   "metadata": {},
   "outputs": [
    {
     "name": "stdout",
     "output_type": "stream",
     "text": [
      "\n",
      "Type of sparse matrix representation: <class 'scipy.sparse._lil.lil_matrix'>\n",
      "\n",
      "Sparse Matrix:\n",
      "  (0, 3)\t3\n",
      "  (0, 6)\t4\n",
      "  (1, 1)\t5\n",
      "  (2, 2)\t5\n",
      "  (2, 5)\t4\n",
      "  (3, 0)\t4\n",
      "  (3, 6)\t1\n",
      "  (4, 1)\t2\n",
      "  (4, 4)\t3\n",
      "\n",
      "Lists for rows: [list([3, 6]) list([1]) list([2, 5]) list([0, 6]) list([1, 4])]\n",
      "\n",
      "Lists for columns: [list([3, 4]) list([5]) list([5, 4]) list([4, 1]) list([2, 3])]\n",
      "\n"
     ]
    }
   ],
   "source": [
    "S3 = sparse.lil_matrix(X)\n",
    "\n",
    "print(f\"\"\"\n",
    "Type of sparse matrix representation: {type(S3)}\n",
    "\n",
    "Sparse Matrix:\\n{S3}\n",
    "\n",
    "Lists for rows: {S3.rows}\n",
    "\n",
    "Lists for columns: {S3.data}\n",
    "\"\"\")"
   ]
  },
  {
   "cell_type": "markdown",
   "metadata": {},
   "source": [
    "In `scipy.sparse` package, there is also a `todense()` function for converting a sparse matrix to a dense matrix:"
   ]
  },
  {
   "cell_type": "code",
   "execution_count": 11,
   "metadata": {},
   "outputs": [
    {
     "name": "stdout",
     "output_type": "stream",
     "text": [
      "[[0 0 0 3 0 0 4]\n",
      " [0 5 0 0 0 0 0]\n",
      " [0 0 5 0 0 4 0]\n",
      " [4 0 0 0 0 0 1]\n",
      " [0 2 0 0 3 0 0]]\n"
     ]
    }
   ],
   "source": [
    "# Convert the sparse matrix to a dense matrix\n",
    "\n",
    "X  = S1.todense()\n",
    "\n",
    "print(X)"
   ]
  },
  {
   "cell_type": "markdown",
   "metadata": {},
   "source": [
    "This can be useful when exploring data, but if your dataset is large, the dense matrix won't fit in memory and may cause an error."
   ]
  },
  {
   "cell_type": "markdown",
   "metadata": {},
   "source": [
    "# Sparse Matrix from a real dataset"
   ]
  },
  {
   "cell_type": "markdown",
   "metadata": {},
   "source": []
  },
  {
   "cell_type": "markdown",
   "metadata": {},
   "source": []
  }
 ],
 "metadata": {
  "kernelspec": {
   "display_name": "artofai",
   "language": "python",
   "name": "python3"
  },
  "language_info": {
   "codemirror_mode": {
    "name": "ipython",
    "version": 3
   },
   "file_extension": ".py",
   "mimetype": "text/x-python",
   "name": "python",
   "nbconvert_exporter": "python",
   "pygments_lexer": "ipython3",
   "version": "3.12.0"
  }
 },
 "nbformat": 4,
 "nbformat_minor": 2
}
