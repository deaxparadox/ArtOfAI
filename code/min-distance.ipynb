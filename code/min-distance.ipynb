{
 "cells": [
  {
   "cell_type": "markdown",
   "metadata": {
    "vscode": {
     "languageId": "plaintext"
    }
   },
   "source": [
    "# Minimum edit distance algorithm\n",
    "\n",
    "The minimum edit distance algorithm, am example of the class of dynamic programming algorithms."
   ]
  },
  {
   "cell_type": "markdown",
   "metadata": {},
   "source": [
    "```\n",
    "function MIN-EDIT-DISTANCE(source, target) returns min-distance\n",
    "\n",
    "    n←LENGTH(source)\n",
    "    m←LENGTH(target)\n",
    "\n",
    "    Create a distance matrix D[n+1,m+1]\n",
    "\n",
    "    # Initialization: the zeroth row and column is the distance from the empty string\n",
    "    D[0,0] = 0\n",
    "    \n",
    "    for each row i from 1 to n do\n",
    "        D[i,0]←D[i-1,0] + del-cost(source[i])\n",
    "    \n",
    "    for each column j from 1 to m do\n",
    "        D[0,j]←D[0,j-1] + ins-cost(target[j])\n",
    "    \n",
    "    # Recurrence relation:\n",
    "    for each row i from 1 to n do\n",
    "        for each column j from 1 to m do\n",
    "            D[i,j]←MIN( D[i−1, j] + del-cost(source[i]),\n",
    "                D[i−1, j−1] + sub-cost(source[i],target[j]),\n",
    "                    D[i, j−1] + ins-cost(target[j]))\n",
    "\n",
    "    # Termination\n",
    "    return D[n,m]\n",
    "```"
   ]
  },
  {
   "cell_type": "code",
   "execution_count": 3,
   "metadata": {},
   "outputs": [],
   "source": [
    "from typing import Any"
   ]
  },
  {
   "cell_type": "code",
   "execution_count": 4,
   "metadata": {},
   "outputs": [],
   "source": [
    "def create_matrix(m: int, n: int, /, *, default: Any = None,) -> list[list[Any]]:\n",
    "    \"\"\"\n",
    "    if default is not provided, then `None` will be assigned to each position in matrix.\n",
    "    \"\"\"\n",
    "    outer = []\n",
    "    \n",
    "    for i in range(n):\n",
    "        inner = []\n",
    "        for j in range(m):\n",
    "            inner.append(None)\n",
    "        outer.append(inner)\n",
    "    return outer\n",
    "    "
   ]
  },
  {
   "cell_type": "code",
   "execution_count": null,
   "metadata": {},
   "outputs": [],
   "source": [
    "def min_edit_distance(source, target) -> int:\n",
    "    n = len(source)\n",
    "    m = len(target)\n",
    "    \n",
    "    \n",
    "    # creating matrix of n,m\n",
    "    D = create_matrix(n+1, m+1)\n",
    "    \n",
    "    # Initialization: the zeroth row and column is the distance from the empty string\n",
    "    D[0, 0] = 0\n",
    "    \n",
    "    for i in range(1, n):\n",
    "        D[i, 0]    \n",
    "    "
   ]
  }
 ],
 "metadata": {
  "kernelspec": {
   "display_name": "artofai",
   "language": "python",
   "name": "python3"
  },
  "language_info": {
   "codemirror_mode": {
    "name": "ipython",
    "version": 3
   },
   "file_extension": ".py",
   "mimetype": "text/x-python",
   "name": "python",
   "nbconvert_exporter": "python",
   "pygments_lexer": "ipython3",
   "version": "3.12.0"
  }
 },
 "nbformat": 4,
 "nbformat_minor": 2
}
