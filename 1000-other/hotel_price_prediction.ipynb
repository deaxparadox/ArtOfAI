{
 "cells": [
  {
   "cell_type": "markdown",
   "metadata": {},
   "source": [
    "[Kaggle notebook](https://www.kaggle.com/code/pmassouf/hotel-price-prediction/notebook)"
   ]
  },
  {
   "cell_type": "code",
   "execution_count": 2,
   "metadata": {},
   "outputs": [],
   "source": [
    "import numpy as np\n",
    "import pandas as pd\n",
    "import seaborn as sns\n",
    "import matplotlib.pyplot as plt\n",
    "from scipy import stats\n",
    "\n",
    "from sklearn.model_selection import  cross_val_score\n",
    "from sklearn.model_selection import train_test_split\n",
    "from sklearn.linear_model import LinearRegression\n",
    "from sklearn.ensemble import RandomForestRegressor\n",
    "from sklearn.ensemble import GradientBoostingClassifier"
   ]
  },
  {
   "cell_type": "code",
   "execution_count": 3,
   "metadata": {},
   "outputs": [],
   "source": [
    "import aoai"
   ]
  },
  {
   "cell_type": "code",
   "execution_count": 8,
   "metadata": {},
   "outputs": [],
   "source": [
    "%config Completer.use_jedi = False"
   ]
  },
  {
   "cell_type": "code",
   "execution_count": 5,
   "metadata": {},
   "outputs": [
    {
     "name": "stdout",
     "output_type": "stream",
     "text": [
      "C:\\Users\\91930\\Documents\\GITHUB\\ArtOfAI\\dataset\\kaggle\\hotel_booking_dataset\\HotelFinalDataset.xlsx\n"
     ]
    }
   ],
   "source": [
    "__dataset_object = aoai.Dataset()\n",
    "__dataset_object.list(\"Hotel\")"
   ]
  },
  {
   "cell_type": "code",
   "execution_count": 6,
   "metadata": {},
   "outputs": [],
   "source": [
    "__dataset_path = __dataset_object.get(\"Hotel\")[0]"
   ]
  },
  {
   "cell_type": "code",
   "execution_count": 9,
   "metadata": {},
   "outputs": [],
   "source": [
    "df = pd.read_excel(__dataset_path, sheet_name=\"HotelFinalDataset.xlsx\")"
   ]
  },
  {
   "cell_type": "code",
   "execution_count": 10,
   "metadata": {},
   "outputs": [
    {
     "data": {
      "text/html": [
       "<div>\n",
       "<style scoped>\n",
       "    .dataframe tbody tr th:only-of-type {\n",
       "        vertical-align: middle;\n",
       "    }\n",
       "\n",
       "    .dataframe tbody tr th {\n",
       "        vertical-align: top;\n",
       "    }\n",
       "\n",
       "    .dataframe thead th {\n",
       "        text-align: right;\n",
       "    }\n",
       "</style>\n",
       "<table border=\"1\" class=\"dataframe\">\n",
       "  <thead>\n",
       "    <tr style=\"text-align: right;\">\n",
       "      <th></th>\n",
       "      <th>Unnamed: 0</th>\n",
       "      <th>Name</th>\n",
       "      <th>Place</th>\n",
       "      <th>Type</th>\n",
       "      <th>Price</th>\n",
       "      <th>ReviewsCount</th>\n",
       "      <th>Rating</th>\n",
       "      <th>City</th>\n",
       "      <th>State</th>\n",
       "    </tr>\n",
       "  </thead>\n",
       "  <tbody>\n",
       "    <tr>\n",
       "      <th>0</th>\n",
       "      <td>0</td>\n",
       "      <td>BUNK Hotel Amsterdam</td>\n",
       "      <td>Amsterdam Noord, Amsterdam</td>\n",
       "      <td>Bunk Pod for 2</td>\n",
       "      <td>₹ 7,887</td>\n",
       "      <td>778.0</td>\n",
       "      <td>8.4</td>\n",
       "      <td>Amsterdam Noord</td>\n",
       "      <td>Amsterdam</td>\n",
       "    </tr>\n",
       "    <tr>\n",
       "      <th>1</th>\n",
       "      <td>1</td>\n",
       "      <td>YOTEL Amsterdam</td>\n",
       "      <td>Amsterdam Noord, Amsterdam</td>\n",
       "      <td>Premium Double Room</td>\n",
       "      <td>₹ 15,267</td>\n",
       "      <td>500.0</td>\n",
       "      <td>8.1</td>\n",
       "      <td>Amsterdam Noord</td>\n",
       "      <td>Amsterdam</td>\n",
       "    </tr>\n",
       "    <tr>\n",
       "      <th>2</th>\n",
       "      <td>2</td>\n",
       "      <td>Multatuli Hotel</td>\n",
       "      <td>Amsterdam City Center, Amsterdam</td>\n",
       "      <td>Double Room</td>\n",
       "      <td>₹ 13,063</td>\n",
       "      <td>1605.0</td>\n",
       "      <td>7.4</td>\n",
       "      <td>Amsterdam City Center</td>\n",
       "      <td>Amsterdam</td>\n",
       "    </tr>\n",
       "    <tr>\n",
       "      <th>3</th>\n",
       "      <td>3</td>\n",
       "      <td>nhow Amsterdam Rai</td>\n",
       "      <td>Zuideramstel, Amsterdam</td>\n",
       "      <td>nhow Double or Twin Room with View</td>\n",
       "      <td>₹ 12,854</td>\n",
       "      <td>500.0</td>\n",
       "      <td>9.0</td>\n",
       "      <td>Zuideramstel</td>\n",
       "      <td>Amsterdam</td>\n",
       "    </tr>\n",
       "    <tr>\n",
       "      <th>4</th>\n",
       "      <td>4</td>\n",
       "      <td>Motel One Amsterdam</td>\n",
       "      <td>Zuideramstel, Amsterdam</td>\n",
       "      <td>Double Room</td>\n",
       "      <td>₹ 9,471</td>\n",
       "      <td>500.0</td>\n",
       "      <td>8.8</td>\n",
       "      <td>Zuideramstel</td>\n",
       "      <td>Amsterdam</td>\n",
       "    </tr>\n",
       "  </tbody>\n",
       "</table>\n",
       "</div>"
      ],
      "text/plain": [
       "   Unnamed: 0                  Name                             Place  \\\n",
       "0           0  BUNK Hotel Amsterdam        Amsterdam Noord, Amsterdam   \n",
       "1           1       YOTEL Amsterdam        Amsterdam Noord, Amsterdam   \n",
       "2           2       Multatuli Hotel  Amsterdam City Center, Amsterdam   \n",
       "3           3    nhow Amsterdam Rai           Zuideramstel, Amsterdam   \n",
       "4           4   Motel One Amsterdam           Zuideramstel, Amsterdam   \n",
       "\n",
       "                                 Type     Price  ReviewsCount  Rating  \\\n",
       "0                      Bunk Pod for 2   ₹ 7,887         778.0     8.4   \n",
       "1                 Premium Double Room  ₹ 15,267         500.0     8.1   \n",
       "2                         Double Room  ₹ 13,063        1605.0     7.4   \n",
       "3  nhow Double or Twin Room with View  ₹ 12,854         500.0     9.0   \n",
       "4                         Double Room   ₹ 9,471         500.0     8.8   \n",
       "\n",
       "                    City       State  \n",
       "0        Amsterdam Noord   Amsterdam  \n",
       "1        Amsterdam Noord   Amsterdam  \n",
       "2  Amsterdam City Center   Amsterdam  \n",
       "3           Zuideramstel   Amsterdam  \n",
       "4           Zuideramstel   Amsterdam  "
      ]
     },
     "execution_count": 10,
     "metadata": {},
     "output_type": "execute_result"
    }
   ],
   "source": [
    "df.head()"
   ]
  },
  {
   "cell_type": "markdown",
   "metadata": {},
   "source": [
    "We can remove the first column as it is the same as the index of the dataset. The place column is also redundant with the City and State columns"
   ]
  },
  {
   "cell_type": "code",
   "execution_count": 11,
   "metadata": {},
   "outputs": [],
   "source": [
    "df = df.drop([\"Unnamed: 0\", \"Place\"], axis=1)"
   ]
  },
  {
   "cell_type": "code",
   "execution_count": 12,
   "metadata": {},
   "outputs": [
    {
     "data": {
      "text/html": [
       "<div>\n",
       "<style scoped>\n",
       "    .dataframe tbody tr th:only-of-type {\n",
       "        vertical-align: middle;\n",
       "    }\n",
       "\n",
       "    .dataframe tbody tr th {\n",
       "        vertical-align: top;\n",
       "    }\n",
       "\n",
       "    .dataframe thead th {\n",
       "        text-align: right;\n",
       "    }\n",
       "</style>\n",
       "<table border=\"1\" class=\"dataframe\">\n",
       "  <thead>\n",
       "    <tr style=\"text-align: right;\">\n",
       "      <th></th>\n",
       "      <th>Name</th>\n",
       "      <th>Type</th>\n",
       "      <th>Price</th>\n",
       "      <th>ReviewsCount</th>\n",
       "      <th>Rating</th>\n",
       "      <th>City</th>\n",
       "      <th>State</th>\n",
       "    </tr>\n",
       "  </thead>\n",
       "  <tbody>\n",
       "    <tr>\n",
       "      <th>0</th>\n",
       "      <td>BUNK Hotel Amsterdam</td>\n",
       "      <td>Bunk Pod for 2</td>\n",
       "      <td>₹ 7,887</td>\n",
       "      <td>778.0</td>\n",
       "      <td>8.4</td>\n",
       "      <td>Amsterdam Noord</td>\n",
       "      <td>Amsterdam</td>\n",
       "    </tr>\n",
       "    <tr>\n",
       "      <th>1</th>\n",
       "      <td>YOTEL Amsterdam</td>\n",
       "      <td>Premium Double Room</td>\n",
       "      <td>₹ 15,267</td>\n",
       "      <td>500.0</td>\n",
       "      <td>8.1</td>\n",
       "      <td>Amsterdam Noord</td>\n",
       "      <td>Amsterdam</td>\n",
       "    </tr>\n",
       "    <tr>\n",
       "      <th>2</th>\n",
       "      <td>Multatuli Hotel</td>\n",
       "      <td>Double Room</td>\n",
       "      <td>₹ 13,063</td>\n",
       "      <td>1605.0</td>\n",
       "      <td>7.4</td>\n",
       "      <td>Amsterdam City Center</td>\n",
       "      <td>Amsterdam</td>\n",
       "    </tr>\n",
       "    <tr>\n",
       "      <th>3</th>\n",
       "      <td>nhow Amsterdam Rai</td>\n",
       "      <td>nhow Double or Twin Room with View</td>\n",
       "      <td>₹ 12,854</td>\n",
       "      <td>500.0</td>\n",
       "      <td>9.0</td>\n",
       "      <td>Zuideramstel</td>\n",
       "      <td>Amsterdam</td>\n",
       "    </tr>\n",
       "    <tr>\n",
       "      <th>4</th>\n",
       "      <td>Motel One Amsterdam</td>\n",
       "      <td>Double Room</td>\n",
       "      <td>₹ 9,471</td>\n",
       "      <td>500.0</td>\n",
       "      <td>8.8</td>\n",
       "      <td>Zuideramstel</td>\n",
       "      <td>Amsterdam</td>\n",
       "    </tr>\n",
       "  </tbody>\n",
       "</table>\n",
       "</div>"
      ],
      "text/plain": [
       "                   Name                                Type     Price  \\\n",
       "0  BUNK Hotel Amsterdam                      Bunk Pod for 2   ₹ 7,887   \n",
       "1       YOTEL Amsterdam                 Premium Double Room  ₹ 15,267   \n",
       "2       Multatuli Hotel                         Double Room  ₹ 13,063   \n",
       "3    nhow Amsterdam Rai  nhow Double or Twin Room with View  ₹ 12,854   \n",
       "4   Motel One Amsterdam                         Double Room   ₹ 9,471   \n",
       "\n",
       "   ReviewsCount  Rating                   City       State  \n",
       "0         778.0     8.4        Amsterdam Noord   Amsterdam  \n",
       "1         500.0     8.1        Amsterdam Noord   Amsterdam  \n",
       "2        1605.0     7.4  Amsterdam City Center   Amsterdam  \n",
       "3         500.0     9.0           Zuideramstel   Amsterdam  \n",
       "4         500.0     8.8           Zuideramstel   Amsterdam  "
      ]
     },
     "execution_count": 12,
     "metadata": {},
     "output_type": "execute_result"
    }
   ],
   "source": [
    "df.head()"
   ]
  },
  {
   "cell_type": "markdown",
   "metadata": {},
   "source": [
    "We can see that we don't seem to have many features to work with. We will have to create more.\n",
    "\n",
    "### Data preparation and Feature Engineering"
   ]
  },
  {
   "cell_type": "code",
   "execution_count": 16,
   "metadata": {},
   "outputs": [
    {
     "data": {
      "text/plain": [
       "Name              0\n",
       "Type              0\n",
       "Price             0\n",
       "ReviewsCount     13\n",
       "Rating           10\n",
       "City              0\n",
       "State           392\n",
       "dtype: int64"
      ]
     },
     "execution_count": 16,
     "metadata": {},
     "output_type": "execute_result"
    }
   ],
   "source": [
    "df.isna().sum()"
   ]
  },
  {
   "cell_type": "markdown",
   "metadata": {},
   "source": [
    "There are NaN values in multiple columns. We will remove rows with NaN values in ReviewsCount and Rating. For state we'll use one hot vectors"
   ]
  },
  {
   "cell_type": "markdown",
   "metadata": {},
   "source": []
  }
 ],
 "metadata": {
  "kernelspec": {
   "display_name": "artofai",
   "language": "python",
   "name": "python3"
  },
  "language_info": {
   "codemirror_mode": {
    "name": "ipython",
    "version": 3
   },
   "file_extension": ".py",
   "mimetype": "text/x-python",
   "name": "python",
   "nbconvert_exporter": "python",
   "pygments_lexer": "ipython3",
   "version": "3.12.0"
  }
 },
 "nbformat": 4,
 "nbformat_minor": 2
}
