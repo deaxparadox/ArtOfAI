{
 "cells": [
  {
   "cell_type": "code",
   "execution_count": 1,
   "metadata": {},
   "outputs": [],
   "source": [
    "import os\n",
    "import sys\n",
    "import aoai"
   ]
  },
  {
   "cell_type": "code",
   "execution_count": 2,
   "metadata": {},
   "outputs": [],
   "source": [
    "DATA_DESCRIPTION  = os.path.join(aoai.BASE_DIR, 'dataset', \"movie-genre-data\", \"description.txt\")\n",
    "TEST_DATA = os.path.join(aoai.BASE_DIR, 'dataset', \"movie-genre-data\", \"test_data.txt\")\n",
    "TRAIN_DATA = os.path.join(aoai.BASE_DIR, 'dataset', \"movie-genre-data\", \"train_data.txt\")\n",
    "TEST_DATA_SOLUTION = os.path.join(aoai.BASE_DIR, 'dataset', \"movie-genre-data\", \"test_data_solution.txt\")"
   ]
  },
  {
   "cell_type": "code",
   "execution_count": 3,
   "metadata": {},
   "outputs": [],
   "source": [
    "import pandas as pd\n",
    "import numpy as np\n",
    "import matplotlib.pyplot as plt\n",
    "import seaborn as sns\n",
    "from collections import Counter\n"
   ]
  },
  {
   "cell_type": "code",
   "execution_count": 4,
   "metadata": {},
   "outputs": [],
   "source": [
    "columns = [\"id\", \"title\", \"genre\", \"description\"]"
   ]
  },
  {
   "cell_type": "code",
   "execution_count": 5,
   "metadata": {},
   "outputs": [
    {
     "name": "stderr",
     "output_type": "stream",
     "text": [
      "C:\\Users\\91930\\AppData\\Local\\Temp\\ipykernel_30516\\2404244812.py:1: ParserWarning: Falling back to the 'python' engine because the 'c' engine does not support regex separators (separators > 1 char and different from '\\s+' are interpreted as regex); you can avoid this warning by specifying engine='python'.\n",
      "  df = pd.read_csv(TRAIN_DATA, sep=\" ::: \", names=columns, header=None)\n"
     ]
    }
   ],
   "source": [
    "df = pd.read_csv(TRAIN_DATA, sep=\" ::: \", names=columns, header=None)"
   ]
  },
  {
   "cell_type": "code",
   "execution_count": 6,
   "metadata": {},
   "outputs": [],
   "source": [
    "df.index+=1"
   ]
  },
  {
   "cell_type": "markdown",
   "metadata": {},
   "source": [
    "Dropping `id` column, from the data frame."
   ]
  },
  {
   "cell_type": "code",
   "execution_count": 7,
   "metadata": {},
   "outputs": [],
   "source": [
    "df = df.drop(\"id\", axis=1)"
   ]
  },
  {
   "cell_type": "code",
   "execution_count": 8,
   "metadata": {},
   "outputs": [
    {
     "data": {
      "text/html": [
       "<div>\n",
       "<style scoped>\n",
       "    .dataframe tbody tr th:only-of-type {\n",
       "        vertical-align: middle;\n",
       "    }\n",
       "\n",
       "    .dataframe tbody tr th {\n",
       "        vertical-align: top;\n",
       "    }\n",
       "\n",
       "    .dataframe thead th {\n",
       "        text-align: right;\n",
       "    }\n",
       "</style>\n",
       "<table border=\"1\" class=\"dataframe\">\n",
       "  <thead>\n",
       "    <tr style=\"text-align: right;\">\n",
       "      <th></th>\n",
       "      <th>title</th>\n",
       "      <th>genre</th>\n",
       "      <th>description</th>\n",
       "    </tr>\n",
       "  </thead>\n",
       "  <tbody>\n",
       "    <tr>\n",
       "      <th>1</th>\n",
       "      <td>Oscar et la dame rose (2009)</td>\n",
       "      <td>drama</td>\n",
       "      <td>Listening in to a conversation between his doc...</td>\n",
       "    </tr>\n",
       "    <tr>\n",
       "      <th>2</th>\n",
       "      <td>Cupid (1997)</td>\n",
       "      <td>thriller</td>\n",
       "      <td>A brother and sister with a past incestuous re...</td>\n",
       "    </tr>\n",
       "    <tr>\n",
       "      <th>3</th>\n",
       "      <td>Young, Wild and Wonderful (1980)</td>\n",
       "      <td>adult</td>\n",
       "      <td>As the bus empties the students for their fiel...</td>\n",
       "    </tr>\n",
       "    <tr>\n",
       "      <th>4</th>\n",
       "      <td>The Secret Sin (1915)</td>\n",
       "      <td>drama</td>\n",
       "      <td>To help their unemployed father make ends meet...</td>\n",
       "    </tr>\n",
       "    <tr>\n",
       "      <th>5</th>\n",
       "      <td>The Unrecovered (2007)</td>\n",
       "      <td>drama</td>\n",
       "      <td>The film's title refers not only to the un-rec...</td>\n",
       "    </tr>\n",
       "    <tr>\n",
       "      <th>...</th>\n",
       "      <td>...</td>\n",
       "      <td>...</td>\n",
       "      <td>...</td>\n",
       "    </tr>\n",
       "    <tr>\n",
       "      <th>54210</th>\n",
       "      <td>\"Bonino\" (1953)</td>\n",
       "      <td>comedy</td>\n",
       "      <td>This short-lived NBC live sitcom centered on B...</td>\n",
       "    </tr>\n",
       "    <tr>\n",
       "      <th>54211</th>\n",
       "      <td>Dead Girls Don't Cry (????)</td>\n",
       "      <td>horror</td>\n",
       "      <td>The NEXT Generation of EXPLOITATION. The siste...</td>\n",
       "    </tr>\n",
       "    <tr>\n",
       "      <th>54212</th>\n",
       "      <td>Ronald Goedemondt: Ze bestaan echt (2008)</td>\n",
       "      <td>documentary</td>\n",
       "      <td>Ze bestaan echt, is a stand-up comedy about gr...</td>\n",
       "    </tr>\n",
       "    <tr>\n",
       "      <th>54213</th>\n",
       "      <td>Make Your Own Bed (1944)</td>\n",
       "      <td>comedy</td>\n",
       "      <td>Walter and Vivian live in the country and have...</td>\n",
       "    </tr>\n",
       "    <tr>\n",
       "      <th>54214</th>\n",
       "      <td>Nature's Fury: Storm of the Century (2006)</td>\n",
       "      <td>history</td>\n",
       "      <td>On Labor Day Weekend, 1935, the most intense h...</td>\n",
       "    </tr>\n",
       "  </tbody>\n",
       "</table>\n",
       "<p>54214 rows × 3 columns</p>\n",
       "</div>"
      ],
      "text/plain": [
       "                                            title        genre  \\\n",
       "1                    Oscar et la dame rose (2009)        drama   \n",
       "2                                    Cupid (1997)     thriller   \n",
       "3                Young, Wild and Wonderful (1980)        adult   \n",
       "4                           The Secret Sin (1915)        drama   \n",
       "5                          The Unrecovered (2007)        drama   \n",
       "...                                           ...          ...   \n",
       "54210                             \"Bonino\" (1953)       comedy   \n",
       "54211                 Dead Girls Don't Cry (????)       horror   \n",
       "54212   Ronald Goedemondt: Ze bestaan echt (2008)  documentary   \n",
       "54213                    Make Your Own Bed (1944)       comedy   \n",
       "54214  Nature's Fury: Storm of the Century (2006)      history   \n",
       "\n",
       "                                             description  \n",
       "1      Listening in to a conversation between his doc...  \n",
       "2      A brother and sister with a past incestuous re...  \n",
       "3      As the bus empties the students for their fiel...  \n",
       "4      To help their unemployed father make ends meet...  \n",
       "5      The film's title refers not only to the un-rec...  \n",
       "...                                                  ...  \n",
       "54210  This short-lived NBC live sitcom centered on B...  \n",
       "54211  The NEXT Generation of EXPLOITATION. The siste...  \n",
       "54212  Ze bestaan echt, is a stand-up comedy about gr...  \n",
       "54213  Walter and Vivian live in the country and have...  \n",
       "54214  On Labor Day Weekend, 1935, the most intense h...  \n",
       "\n",
       "[54214 rows x 3 columns]"
      ]
     },
     "execution_count": 8,
     "metadata": {},
     "output_type": "execute_result"
    }
   ],
   "source": [
    "df"
   ]
  },
  {
   "cell_type": "code",
   "execution_count": 9,
   "metadata": {},
   "outputs": [
    {
     "data": {
      "text/plain": [
       "(0, 0)"
      ]
     },
     "execution_count": 9,
     "metadata": {},
     "output_type": "execute_result"
    }
   ],
   "source": [
    "df['genre'].isna().sum(), df['title'].isna().sum()"
   ]
  },
  {
   "cell_type": "markdown",
   "metadata": {},
   "source": [
    "Check any duplicate in `title`."
   ]
  },
  {
   "cell_type": "code",
   "execution_count": 10,
   "metadata": {},
   "outputs": [
    {
     "data": {
      "text/plain": [
       "True"
      ]
     },
     "execution_count": 10,
     "metadata": {},
     "output_type": "execute_result"
    }
   ],
   "source": [
    "len(df['title'].unique()) == len(df['title'])"
   ]
  },
  {
   "cell_type": "markdown",
   "metadata": {},
   "source": [
    "Counting number of movies in each genre."
   ]
  },
  {
   "cell_type": "code",
   "execution_count": 11,
   "metadata": {},
   "outputs": [],
   "source": [
    "df_genre_count = df['genre'].value_counts()\n",
    "df_genre_values = df['genre'].unique()"
   ]
  },
  {
   "cell_type": "code",
   "execution_count": 12,
   "metadata": {},
   "outputs": [
    {
     "data": {
      "text/plain": [
       "(genre\n",
       " drama          13613\n",
       " documentary    13096\n",
       " comedy          7447\n",
       " short           5073\n",
       " horror          2204\n",
       " thriller        1591\n",
       " action          1315\n",
       " western         1032\n",
       " reality-tv       884\n",
       " family           784\n",
       " adventure        775\n",
       " music            731\n",
       " romance          672\n",
       " sci-fi           647\n",
       " adult            590\n",
       " crime            505\n",
       " animation        498\n",
       " sport            432\n",
       " talk-show        391\n",
       " fantasy          323\n",
       " mystery          319\n",
       " musical          277\n",
       " biography        265\n",
       " history          243\n",
       " game-show        194\n",
       " news             181\n",
       " war              132\n",
       " Name: count, dtype: int64,\n",
       " array(['drama', 'thriller', 'adult', 'documentary', 'comedy', 'crime',\n",
       "        'reality-tv', 'horror', 'sport', 'animation', 'action', 'fantasy',\n",
       "        'short', 'sci-fi', 'music', 'adventure', 'talk-show', 'western',\n",
       "        'family', 'mystery', 'history', 'news', 'biography', 'romance',\n",
       "        'game-show', 'musical', 'war'], dtype=object))"
      ]
     },
     "execution_count": 12,
     "metadata": {},
     "output_type": "execute_result"
    }
   ],
   "source": [
    "df_genre_count, df_genre_values"
   ]
  },
  {
   "cell_type": "code",
   "execution_count": 13,
   "metadata": {},
   "outputs": [],
   "source": [
    "genre_count_dict = {}\n",
    "genres = list(df_genre_values)\n",
    "for g in genres:\n",
    "    genre_count_dict[g] = df_genre_count[g]"
   ]
  },
  {
   "cell_type": "code",
   "execution_count": 14,
   "metadata": {},
   "outputs": [
    {
     "data": {
      "text/plain": [
       "{'drama': 13613,\n",
       " 'thriller': 1591,\n",
       " 'adult': 590,\n",
       " 'documentary': 13096,\n",
       " 'comedy': 7447,\n",
       " 'crime': 505,\n",
       " 'reality-tv': 884,\n",
       " 'horror': 2204,\n",
       " 'sport': 432,\n",
       " 'animation': 498,\n",
       " 'action': 1315,\n",
       " 'fantasy': 323,\n",
       " 'short': 5073,\n",
       " 'sci-fi': 647,\n",
       " 'music': 731,\n",
       " 'adventure': 775,\n",
       " 'talk-show': 391,\n",
       " 'western': 1032,\n",
       " 'family': 784,\n",
       " 'mystery': 319,\n",
       " 'history': 243,\n",
       " 'news': 181,\n",
       " 'biography': 265,\n",
       " 'romance': 672,\n",
       " 'game-show': 194,\n",
       " 'musical': 277,\n",
       " 'war': 132}"
      ]
     },
     "execution_count": 14,
     "metadata": {},
     "output_type": "execute_result"
    }
   ],
   "source": [
    "genre_count_dict"
   ]
  },
  {
   "cell_type": "code",
   "execution_count": 15,
   "metadata": {},
   "outputs": [],
   "source": [
    "def seperate_genre_count(genre: dict) -> tuple[list[str], list[int]]:\n",
    "    names, values = [], []\n",
    "    for k in genre.keys():\n",
    "        names.append(k)\n",
    "        values.append(genre[k])\n",
    "    return names, values"
   ]
  },
  {
   "cell_type": "code",
   "execution_count": 16,
   "metadata": {},
   "outputs": [],
   "source": [
    "genre_name, genre_count = seperate_genre_count(genre_count_dict)"
   ]
  },
  {
   "cell_type": "markdown",
   "metadata": {},
   "source": [
    "Plotting the bar graph."
   ]
  },
  {
   "cell_type": "code",
   "execution_count": 17,
   "metadata": {},
   "outputs": [
    {
     "data": {
      "image/png": "[encoded data removed]",
      "text/plain": [
       "<Figure size 2000x800 with 1 Axes>"
      ]
     },
     "metadata": {},
     "output_type": "display_data"
    }
   ],
   "source": [
    "# fig, ax = plt.subplots(nrows=20, ncols=8)\n",
    "# ax.bar(genre_name, genre_count)\n",
    "# ax.set_ylabel(\"Total\")\n",
    "# ax.set_xlabel(\"Genre\")\n",
    "# ax.legend(title=\"Genre Count Graph\")\n",
    "\n",
    "\n",
    "plt.figure(figsize=(20, 8))\n",
    "plt.bar(genre_name, genre_count, color=['red', 'green', 'blue', 'orange', 'purple'])\n",
    "plt.title(\"Genre Count\")\n",
    "plt.xlabel(\"Genre\")\n",
    "plt.ylabel('Count')\n",
    "plt.tight_layout()\n",
    "plt.xticks(rotation=45)\n",
    "plt.grid()\n",
    "plt.show()"
   ]
  },
  {
   "cell_type": "code",
   "execution_count": 18,
   "metadata": {},
   "outputs": [
    {
     "name": "stdout",
     "output_type": "stream",
     "text": [
      "The most watched genre is: drama\n"
     ]
    }
   ],
   "source": [
    "highest = df_genre_count.idxmax()\n",
    "\n",
    "print(\"The most watched genre is:\", highest)\n"
   ]
  }
 ],
 "metadata": {
  "kernelspec": {
   "display_name": "artofai",
   "language": "python",
   "name": "python3"
  },
  "language_info": {
   "codemirror_mode": {
    "name": "ipython",
    "version": 3
   },
   "file_extension": ".py",
   "mimetype": "text/x-python",
   "name": "python",
   "nbconvert_exporter": "python",
   "pygments_lexer": "ipython3",
   "version": "3.12.0"
  }
 },
 "nbformat": 4,
 "nbformat_minor": 2
}
