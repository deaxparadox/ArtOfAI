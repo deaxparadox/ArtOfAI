{
 "cells": [
  {
   "cell_type": "code",
   "execution_count": 21,
   "id": "1d77b239",
   "metadata": {},
   "outputs": [],
   "source": [
    "import numpy as np\n",
    "import pandas as pd\n",
    "import matplotlib.pyplot as plt"
   ]
  },
  {
   "cell_type": "code",
   "execution_count": 22,
   "id": "a7654cae",
   "metadata": {},
   "outputs": [],
   "source": [
    "import random\n",
    "import datetime"
   ]
  },
  {
   "cell_type": "code",
   "execution_count": 23,
   "id": "4eb7cdc9",
   "metadata": {},
   "outputs": [],
   "source": [
    "marks = {\n",
    "    \"physics\": [random.randint(0, 100) for _ in range(100)],\n",
    "    \"math\": [random.randint(10, 100) for _ in range(100)],\n",
    "    \"english\": [random.randint(30, 100) for _ in range(100)],\n",
    "    \"chemistry\": [random.randint(15, 100) for _ in range(100)],\n",
    "    \"biology\": [random.randint(12, 100) for _ in range(100)]\n",
    "}"
   ]
  },
  {
   "cell_type": "code",
   "execution_count": 24,
   "id": "b8259345",
   "metadata": {},
   "outputs": [],
   "source": [
    "marks_df = pd.DataFrame(marks)"
   ]
  },
  {
   "cell_type": "code",
   "execution_count": 25,
   "id": "3a1b0e0a",
   "metadata": {
    "scrolled": false
   },
   "outputs": [
    {
     "data": {
      "text/html": [
       "<div>\n",
       "<style scoped>\n",
       "    .dataframe tbody tr th:only-of-type {\n",
       "        vertical-align: middle;\n",
       "    }\n",
       "\n",
       "    .dataframe tbody tr th {\n",
       "        vertical-align: top;\n",
       "    }\n",
       "\n",
       "    .dataframe thead th {\n",
       "        text-align: right;\n",
       "    }\n",
       "</style>\n",
       "<table border=\"1\" class=\"dataframe\">\n",
       "  <thead>\n",
       "    <tr style=\"text-align: right;\">\n",
       "      <th></th>\n",
       "      <th>physics</th>\n",
       "      <th>math</th>\n",
       "      <th>english</th>\n",
       "      <th>chemistry</th>\n",
       "      <th>biology</th>\n",
       "    </tr>\n",
       "  </thead>\n",
       "  <tbody>\n",
       "    <tr>\n",
       "      <th>0</th>\n",
       "      <td>23</td>\n",
       "      <td>72</td>\n",
       "      <td>90</td>\n",
       "      <td>82</td>\n",
       "      <td>27</td>\n",
       "    </tr>\n",
       "    <tr>\n",
       "      <th>1</th>\n",
       "      <td>8</td>\n",
       "      <td>62</td>\n",
       "      <td>59</td>\n",
       "      <td>28</td>\n",
       "      <td>76</td>\n",
       "    </tr>\n",
       "    <tr>\n",
       "      <th>2</th>\n",
       "      <td>37</td>\n",
       "      <td>66</td>\n",
       "      <td>79</td>\n",
       "      <td>76</td>\n",
       "      <td>53</td>\n",
       "    </tr>\n",
       "    <tr>\n",
       "      <th>3</th>\n",
       "      <td>96</td>\n",
       "      <td>33</td>\n",
       "      <td>60</td>\n",
       "      <td>73</td>\n",
       "      <td>16</td>\n",
       "    </tr>\n",
       "    <tr>\n",
       "      <th>4</th>\n",
       "      <td>90</td>\n",
       "      <td>18</td>\n",
       "      <td>61</td>\n",
       "      <td>82</td>\n",
       "      <td>64</td>\n",
       "    </tr>\n",
       "    <tr>\n",
       "      <th>...</th>\n",
       "      <td>...</td>\n",
       "      <td>...</td>\n",
       "      <td>...</td>\n",
       "      <td>...</td>\n",
       "      <td>...</td>\n",
       "    </tr>\n",
       "    <tr>\n",
       "      <th>95</th>\n",
       "      <td>15</td>\n",
       "      <td>87</td>\n",
       "      <td>33</td>\n",
       "      <td>42</td>\n",
       "      <td>33</td>\n",
       "    </tr>\n",
       "    <tr>\n",
       "      <th>96</th>\n",
       "      <td>26</td>\n",
       "      <td>54</td>\n",
       "      <td>42</td>\n",
       "      <td>56</td>\n",
       "      <td>61</td>\n",
       "    </tr>\n",
       "    <tr>\n",
       "      <th>97</th>\n",
       "      <td>63</td>\n",
       "      <td>80</td>\n",
       "      <td>57</td>\n",
       "      <td>84</td>\n",
       "      <td>97</td>\n",
       "    </tr>\n",
       "    <tr>\n",
       "      <th>98</th>\n",
       "      <td>77</td>\n",
       "      <td>17</td>\n",
       "      <td>76</td>\n",
       "      <td>70</td>\n",
       "      <td>32</td>\n",
       "    </tr>\n",
       "    <tr>\n",
       "      <th>99</th>\n",
       "      <td>48</td>\n",
       "      <td>35</td>\n",
       "      <td>94</td>\n",
       "      <td>77</td>\n",
       "      <td>92</td>\n",
       "    </tr>\n",
       "  </tbody>\n",
       "</table>\n",
       "<p>100 rows × 5 columns</p>\n",
       "</div>"
      ],
      "text/plain": [
       "    physics  math  english  chemistry  biology\n",
       "0        23    72       90         82       27\n",
       "1         8    62       59         28       76\n",
       "2        37    66       79         76       53\n",
       "3        96    33       60         73       16\n",
       "4        90    18       61         82       64\n",
       "..      ...   ...      ...        ...      ...\n",
       "95       15    87       33         42       33\n",
       "96       26    54       42         56       61\n",
       "97       63    80       57         84       97\n",
       "98       77    17       76         70       32\n",
       "99       48    35       94         77       92\n",
       "\n",
       "[100 rows x 5 columns]"
      ]
     },
     "execution_count": 25,
     "metadata": {},
     "output_type": "execute_result"
    }
   ],
   "source": [
    "marks_df"
   ]
  },
  {
   "cell_type": "code",
   "execution_count": 26,
   "id": "ec4cab79",
   "metadata": {},
   "outputs": [
    {
     "name": "stdout",
     "output_type": "stream",
     "text": [
      "46.6\n"
     ]
    }
   ],
   "source": [
    "print((sum([*marks_df.iloc[1, :]])/500)*100)"
   ]
  },
  {
   "cell_type": "code",
   "execution_count": 27,
   "id": "9cc3777e",
   "metadata": {},
   "outputs": [],
   "source": [
    "def calculate_percentage(row):\n",
    "    return (sum(row)/500)*100"
   ]
  },
  {
   "cell_type": "code",
   "execution_count": 28,
   "id": "448a8ebd",
   "metadata": {},
   "outputs": [],
   "source": [
    "percentage = marks_df.apply(calculate_percentage, axis=1)"
   ]
  },
  {
   "cell_type": "code",
   "execution_count": 29,
   "id": "28478aa3",
   "metadata": {},
   "outputs": [],
   "source": [
    "marks_df['percentage'] = percentage"
   ]
  },
  {
   "cell_type": "code",
   "execution_count": 30,
   "id": "d63578c7",
   "metadata": {},
   "outputs": [],
   "source": [
    "marks_df['physics'] = marks_df['physics'].astype(float)\n",
    "marks_df['chemistry'] = marks_df['chemistry'].astype(float)\n",
    "marks_df['math'] = marks_df['math'].astype(float)\n",
    "marks_df['biology'] = marks_df['biology'].astype(float)\n",
    "marks_df['english'] = marks_df['english'].astype(float)"
   ]
  },
  {
   "cell_type": "code",
   "execution_count": 31,
   "id": "34d3f5f5",
   "metadata": {
    "scrolled": true
   },
   "outputs": [
    {
     "data": {
      "text/html": [
       "<div>\n",
       "<style scoped>\n",
       "    .dataframe tbody tr th:only-of-type {\n",
       "        vertical-align: middle;\n",
       "    }\n",
       "\n",
       "    .dataframe tbody tr th {\n",
       "        vertical-align: top;\n",
       "    }\n",
       "\n",
       "    .dataframe thead th {\n",
       "        text-align: right;\n",
       "    }\n",
       "</style>\n",
       "<table border=\"1\" class=\"dataframe\">\n",
       "  <thead>\n",
       "    <tr style=\"text-align: right;\">\n",
       "      <th></th>\n",
       "      <th>physics</th>\n",
       "      <th>math</th>\n",
       "      <th>english</th>\n",
       "      <th>chemistry</th>\n",
       "      <th>biology</th>\n",
       "      <th>percentage</th>\n",
       "    </tr>\n",
       "  </thead>\n",
       "  <tbody>\n",
       "    <tr>\n",
       "      <th>0</th>\n",
       "      <td>23.0</td>\n",
       "      <td>72.0</td>\n",
       "      <td>90.0</td>\n",
       "      <td>82.0</td>\n",
       "      <td>27.0</td>\n",
       "      <td>58.8</td>\n",
       "    </tr>\n",
       "    <tr>\n",
       "      <th>1</th>\n",
       "      <td>8.0</td>\n",
       "      <td>62.0</td>\n",
       "      <td>59.0</td>\n",
       "      <td>28.0</td>\n",
       "      <td>76.0</td>\n",
       "      <td>46.6</td>\n",
       "    </tr>\n",
       "    <tr>\n",
       "      <th>2</th>\n",
       "      <td>37.0</td>\n",
       "      <td>66.0</td>\n",
       "      <td>79.0</td>\n",
       "      <td>76.0</td>\n",
       "      <td>53.0</td>\n",
       "      <td>62.2</td>\n",
       "    </tr>\n",
       "    <tr>\n",
       "      <th>3</th>\n",
       "      <td>96.0</td>\n",
       "      <td>33.0</td>\n",
       "      <td>60.0</td>\n",
       "      <td>73.0</td>\n",
       "      <td>16.0</td>\n",
       "      <td>55.6</td>\n",
       "    </tr>\n",
       "    <tr>\n",
       "      <th>4</th>\n",
       "      <td>90.0</td>\n",
       "      <td>18.0</td>\n",
       "      <td>61.0</td>\n",
       "      <td>82.0</td>\n",
       "      <td>64.0</td>\n",
       "      <td>63.0</td>\n",
       "    </tr>\n",
       "  </tbody>\n",
       "</table>\n",
       "</div>"
      ],
      "text/plain": [
       "   physics  math  english  chemistry  biology  percentage\n",
       "0     23.0  72.0     90.0       82.0     27.0        58.8\n",
       "1      8.0  62.0     59.0       28.0     76.0        46.6\n",
       "2     37.0  66.0     79.0       76.0     53.0        62.2\n",
       "3     96.0  33.0     60.0       73.0     16.0        55.6\n",
       "4     90.0  18.0     61.0       82.0     64.0        63.0"
      ]
     },
     "execution_count": 31,
     "metadata": {},
     "output_type": "execute_result"
    }
   ],
   "source": [
    "marks_df.iloc[:5, :]"
   ]
  },
  {
   "cell_type": "code",
   "execution_count": 32,
   "id": "2d30b40c",
   "metadata": {},
   "outputs": [],
   "source": [
    "features = ['physics', 'chemistry', 'math', 'english', 'biology']"
   ]
  },
  {
   "cell_type": "code",
   "execution_count": 33,
   "id": "fe998837",
   "metadata": {},
   "outputs": [],
   "source": [
    "def check_best_score_subject(row):\n",
    "    high_feature, high_mark = None, None\n",
    "    for f in features:\n",
    "        if high_feature is None and high_mark is None:\n",
    "            high_feature = f\n",
    "            high_mark = row[f]\n",
    "        if row[f] > high_mark:\n",
    "            high_mark = row[f]\n",
    "            high_feature = f\n",
    "    return high_feature"
   ]
  },
  {
   "cell_type": "markdown",
   "id": "026eb110",
   "metadata": {},
   "source": [
    "Best score column for each student"
   ]
  },
  {
   "cell_type": "code",
   "execution_count": 34,
   "id": "55a3077b",
   "metadata": {},
   "outputs": [],
   "source": [
    "marks_df[\"best score subject\"] = marks_df.apply(check_best_score_subject, axis=1)"
   ]
  },
  {
   "cell_type": "code",
   "execution_count": 35,
   "id": "9636a7ed",
   "metadata": {},
   "outputs": [
    {
     "data": {
      "text/html": [
       "<div>\n",
       "<style scoped>\n",
       "    .dataframe tbody tr th:only-of-type {\n",
       "        vertical-align: middle;\n",
       "    }\n",
       "\n",
       "    .dataframe tbody tr th {\n",
       "        vertical-align: top;\n",
       "    }\n",
       "\n",
       "    .dataframe thead th {\n",
       "        text-align: right;\n",
       "    }\n",
       "</style>\n",
       "<table border=\"1\" class=\"dataframe\">\n",
       "  <thead>\n",
       "    <tr style=\"text-align: right;\">\n",
       "      <th></th>\n",
       "      <th>physics</th>\n",
       "      <th>math</th>\n",
       "      <th>english</th>\n",
       "      <th>chemistry</th>\n",
       "      <th>biology</th>\n",
       "      <th>percentage</th>\n",
       "      <th>best score subject</th>\n",
       "    </tr>\n",
       "  </thead>\n",
       "  <tbody>\n",
       "    <tr>\n",
       "      <th>0</th>\n",
       "      <td>23.0</td>\n",
       "      <td>72.0</td>\n",
       "      <td>90.0</td>\n",
       "      <td>82.0</td>\n",
       "      <td>27.0</td>\n",
       "      <td>58.8</td>\n",
       "      <td>english</td>\n",
       "    </tr>\n",
       "    <tr>\n",
       "      <th>1</th>\n",
       "      <td>8.0</td>\n",
       "      <td>62.0</td>\n",
       "      <td>59.0</td>\n",
       "      <td>28.0</td>\n",
       "      <td>76.0</td>\n",
       "      <td>46.6</td>\n",
       "      <td>biology</td>\n",
       "    </tr>\n",
       "    <tr>\n",
       "      <th>2</th>\n",
       "      <td>37.0</td>\n",
       "      <td>66.0</td>\n",
       "      <td>79.0</td>\n",
       "      <td>76.0</td>\n",
       "      <td>53.0</td>\n",
       "      <td>62.2</td>\n",
       "      <td>english</td>\n",
       "    </tr>\n",
       "    <tr>\n",
       "      <th>3</th>\n",
       "      <td>96.0</td>\n",
       "      <td>33.0</td>\n",
       "      <td>60.0</td>\n",
       "      <td>73.0</td>\n",
       "      <td>16.0</td>\n",
       "      <td>55.6</td>\n",
       "      <td>physics</td>\n",
       "    </tr>\n",
       "    <tr>\n",
       "      <th>4</th>\n",
       "      <td>90.0</td>\n",
       "      <td>18.0</td>\n",
       "      <td>61.0</td>\n",
       "      <td>82.0</td>\n",
       "      <td>64.0</td>\n",
       "      <td>63.0</td>\n",
       "      <td>physics</td>\n",
       "    </tr>\n",
       "  </tbody>\n",
       "</table>\n",
       "</div>"
      ],
      "text/plain": [
       "   physics  math  english  chemistry  biology  percentage best score subject\n",
       "0     23.0  72.0     90.0       82.0     27.0        58.8            english\n",
       "1      8.0  62.0     59.0       28.0     76.0        46.6            biology\n",
       "2     37.0  66.0     79.0       76.0     53.0        62.2            english\n",
       "3     96.0  33.0     60.0       73.0     16.0        55.6            physics\n",
       "4     90.0  18.0     61.0       82.0     64.0        63.0            physics"
      ]
     },
     "execution_count": 35,
     "metadata": {},
     "output_type": "execute_result"
    }
   ],
   "source": [
    "marks_df.iloc[:5, :]"
   ]
  },
  {
   "cell_type": "markdown",
   "id": "8771c5fa",
   "metadata": {},
   "source": [
    "Checking minimum and maximum marks in each subject"
   ]
  },
  {
   "cell_type": "code",
   "execution_count": 36,
   "id": "314d0cc2",
   "metadata": {},
   "outputs": [
    {
     "data": {
      "text/plain": [
       "(0.0, 100.0)"
      ]
     },
     "execution_count": 36,
     "metadata": {},
     "output_type": "execute_result"
    }
   ],
   "source": [
    "marks_df['physics'].min(), marks_df['physics'].max()"
   ]
  },
  {
   "cell_type": "code",
   "execution_count": 37,
   "id": "c222a549",
   "metadata": {},
   "outputs": [
    {
     "data": {
      "text/plain": [
       "(10.0, 100.0)"
      ]
     },
     "execution_count": 37,
     "metadata": {},
     "output_type": "execute_result"
    }
   ],
   "source": [
    "marks_df['math'].min(), marks_df['math'].max()"
   ]
  },
  {
   "cell_type": "code",
   "execution_count": 38,
   "id": "caf1b1ba",
   "metadata": {},
   "outputs": [
    {
     "data": {
      "text/plain": [
       "(15.0, 99.0)"
      ]
     },
     "execution_count": 38,
     "metadata": {},
     "output_type": "execute_result"
    }
   ],
   "source": [
    "marks_df['chemistry'].min(), marks_df['chemistry'].max()"
   ]
  },
  {
   "cell_type": "code",
   "execution_count": 39,
   "id": "c7822acb",
   "metadata": {},
   "outputs": [
    {
     "data": {
      "text/plain": [
       "(12.0, 99.0)"
      ]
     },
     "execution_count": 39,
     "metadata": {},
     "output_type": "execute_result"
    }
   ],
   "source": [
    "marks_df['biology'].min(), marks_df['biology'].max()"
   ]
  },
  {
   "cell_type": "code",
   "execution_count": 40,
   "id": "efd4b7b3",
   "metadata": {},
   "outputs": [
    {
     "data": {
      "text/plain": [
       "(30.0, 30.0)"
      ]
     },
     "execution_count": 40,
     "metadata": {},
     "output_type": "execute_result"
    }
   ],
   "source": [
    "marks_df['english'].min(), marks_df['english'].min()"
   ]
  },
  {
   "cell_type": "code",
   "execution_count": null,
   "id": "2cb83d10",
   "metadata": {},
   "outputs": [],
   "source": []
  }
 ],
 "metadata": {
  "kernelspec": {
   "display_name": "Python 3 (ipykernel)",
   "language": "python",
   "name": "python3"
  },
  "language_info": {
   "codemirror_mode": {
    "name": "ipython",
    "version": 3
   },
   "file_extension": ".py",
   "mimetype": "text/x-python",
   "name": "python",
   "nbconvert_exporter": "python",
   "pygments_lexer": "ipython3",
   "version": "3.12.0"
  }
 },
 "nbformat": 4,
 "nbformat_minor": 5
}
