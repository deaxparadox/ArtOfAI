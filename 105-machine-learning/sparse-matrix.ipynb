{
 "cells": [
  {
   "cell_type": "markdown",
   "metadata": {},
   "source": [
    "# Sparse Matrix"
   ]
  },
  {
   "cell_type": "markdown",
   "metadata": {},
   "source": [
    "A sparse matrix is a special case of a matrix in which the number of zero element is much higher than the number of non-zero elements. As a rule of thumb, *if 2/3 of the total elements in a matrix are zeros, it can be called a sparse matrix*. Using a sparse matrix representation -- where only the non-zero values are stored -- the space used for representing data and the time for scanning the matrix are reduced significantly."
   ]
  }
 ],
 "metadata": {
  "kernelspec": {
   "display_name": "artofai",
   "language": "python",
   "name": "python3"
  },
  "language_info": {
   "codemirror_mode": {
    "name": "ipython",
    "version": 3
   },
   "file_extension": ".py",
   "mimetype": "text/x-python",
   "name": "python",
   "nbconvert_exporter": "python",
   "pygments_lexer": "ipython3",
   "version": "3.12.0"
  }
 },
 "nbformat": 4,
 "nbformat_minor": 2
}
