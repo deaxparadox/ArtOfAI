{
 "cells": [
  {
   "cell_type": "markdown",
   "metadata": {},
   "source": [
    "# TF-IDF (Term Frequency-Inverse Document Frequency)\n",
    "\n",
    "TF-IDF stands for Term Frequency Inverse Document Frequency of records. It can be defined as the calculation of how relevant a word in a series of corpus is to a text. The meaning increase proportionally to the number of times in the text a word appears but is compensated by the word frequency in the corpus (data-set)."
   ]
  },
  {
   "cell_type": "markdown",
   "metadata": {},
   "source": [
    "### Terminology"
   ]
  },
  {
   "cell_type": "markdown",
   "metadata": {},
   "source": [
    "- **Term Frequency:** In document *d*, the frequency represents the number of instances of given word *t*. Therefore, we can see that it become more relevant when a words appears in the text, which is rational. Since the ordering of terms is not significant, we can use a vector to describe the text in the bag of term models. For each specific term in the paper, there is an entry with the value being the term frequency.\n",
    "\n",
    "The weight of a term that occurs in a document is simply proportional to the term frequency.\n",
    "\n",
    "![tfidf](tfidf.png)\n"
   ]
  },
  {
   "cell_type": "markdown",
   "metadata": {},
   "source": [
    "- **Document Frequency:** This tests the meaning of the text, which is very is very similar to TF, in the whole corpus collection. The only difference is that in document *d*, TF is the frequency counter for a term *t*, while df is the number of occurences in the document set N in the term t. In other words, the number of papers in which the words is present is DF.\n",
    "\n",
    "df(t) = occurrence of t in documents"
   ]
  },
  {
   "cell_type": "markdown",
   "metadata": {},
   "source": [
    "- **Inverse Document Frequency:** Mainly, it tests how relevant the word in. The key aim of the search is to locate the appropriate records that fit the demand. Since tf considers all terms equally significant, it is therefore not only possible to use the term frequencies to measure the weight of the term in the paper. First, find the document frequency of a term *t* by counting the number of documents containing the term\n",
    "\n",
    "df(t) = N(t)\n",
    "\n",
    "where,\n",
    "- df(t) = Document frequency of a term t\n",
    "- N(t) = Number of documents containing the term t\n",
    "\n",
    "Term frequency is the number of instances of a term in a single document only; although the frequency of the documents in the number of separate documents in which the term appears, it depends on the entire corpus.\n",
    "\n",
    "**The IDF of the word in the number of documents in the corpus separated by the frequency of the text.**\n",
    "\n",
    "idf(t) = N/df(T) = N/N(t)"
   ]
  },
  {
   "cell_type": "markdown",
   "metadata": {},
   "source": [
    "The most common word is supposed to be considered less significant, but the element (most definite integrers) seems to harsh. We then take the logarithm (with base 2) of the inverse frequency of the paper. So the *idf* of the term *t* becomes:\n",
    "\n",
    "idf(t) = log(N / df(t))"
   ]
  },
  {
   "cell_type": "markdown",
   "metadata": {},
   "source": [
    "- **Computation**: *tf-idf* is one of the best metrics to determine how significant a term is to a text in a series of a corpus. *tf-idf* is a weighting system that assigns a weight to each word in a document based on its term frequency (*tf*) and and the reciprocal document frequency (*tf*)(*idf*). The words with higher scores of weigh are deemed to be more significant."
   ]
  },
  {
   "cell_type": "markdown",
   "metadata": {},
   "source": [
    "Usually, the *tf-idf* weight consists of two terms:\n",
    "\n",
    "- **Normalized Term Frequency (tf)**\n",
    "- **Inverse Document Frequency (idf)**\n",
    "\n",
    "\n",
    "```\n",
    "tf-idf(t, d) = tf(t, d) * idf(t)\n",
    "```"
   ]
  },
  {
   "cell_type": "code",
   "execution_count": 1,
   "metadata": {},
   "outputs": [],
   "source": [
    "from sklearn.feature_extraction.text import TfidfVectorizer"
   ]
  },
  {
   "cell_type": "code",
   "execution_count": 2,
   "metadata": {},
   "outputs": [],
   "source": [
    "# collection strings from documents and create a corpus having a \n",
    "# collection of strings from the documents d0, d1, and d2.\n",
    "\n",
    "d0 = \"Geeks for geeks\"\n",
    "d1 = \"Geeks\"\n",
    "d2 = \"r2j\"\n",
    "\n",
    "\n",
    "# merge documents into a single corpus\n",
    "\n",
    "\n",
    "string = [d0, d1, d2]\n"
   ]
  },
  {
   "cell_type": "code",
   "execution_count": 3,
   "metadata": {},
   "outputs": [],
   "source": [
    "# get if-idf values from fit_tramsform() method.\n",
    "\n",
    "tfidf = TfidfVectorizer()\n",
    "\n",
    "# get tf-idf values\n",
    "result = tfidf.fit_transform(string)"
   ]
  },
  {
   "cell_type": "code",
   "execution_count": 4,
   "metadata": {},
   "outputs": [
    {
     "name": "stdout",
     "output_type": "stream",
     "text": [
      "idf values:\n",
      "for : 1.6931471805599454\n",
      "geeks : 1.2876820724517808\n",
      "r2j : 1.6931471805599454\n"
     ]
    }
   ],
   "source": [
    "# display idf values ofthe words present in the corpus.\n",
    "\n",
    "print(\"idf values:\")\n",
    "for ele1, ele2 in zip(tfidf.get_feature_names_out(), tfidf.idf_):\n",
    "    print(ele1, \":\", ele2)"
   ]
  },
  {
   "cell_type": "code",
   "execution_count": 6,
   "metadata": {},
   "outputs": [
    {
     "name": "stdout",
     "output_type": "stream",
     "text": [
      "Word indexes:\n",
      "{'geeks': 1, 'for': 0, 'r2j': 2}\n",
      "\n",
      "tf-idf value:\n",
      "  (0, 0)\t0.5493512310263033\n",
      "  (0, 1)\t0.8355915419449176\n",
      "  (1, 1)\t1.0\n",
      "  (2, 2)\t1.0\n",
      "\n",
      "tf-idf values in matrix form:\n",
      "[[0.54935123 0.83559154 0.        ]\n",
      " [0.         1.         0.        ]\n",
      " [0.         0.         1.        ]]\n"
     ]
    }
   ],
   "source": [
    "# Display tf-idf valeus along with indexing.\n",
    "\n",
    "\n",
    "# get indexing\n",
    "print(\"Word indexes:\")\n",
    "print(tfidf.vocabulary_)\n",
    "\n",
    "# display tf-idf values\n",
    "print(\"\\ntf-idf value:\")\n",
    "print(result)\n",
    "\n",
    "# in matrix room\n",
    "print(\"\\ntf-idf values in matrix form:\")\n",
    "print(result.toarray())"
   ]
  },
  {
   "cell_type": "markdown",
   "metadata": {},
   "source": [
    "### Python Implementation"
   ]
  },
  {
   "cell_type": "code",
   "execution_count": 4,
   "metadata": {},
   "outputs": [],
   "source": [
    "import numpy as np\n",
    "import pandas as pd"
   ]
  },
  {
   "cell_type": "code",
   "execution_count": 1,
   "metadata": {},
   "outputs": [],
   "source": [
    "# small corpus\n",
    "corpus = [\n",
    "    \"data science is one of the most important fields of science\",\n",
    "    \"this is one of the best data science cources\",\n",
    "    \"data scientists analyze data\"\n",
    "]"
   ]
  },
  {
   "cell_type": "code",
   "execution_count": 3,
   "metadata": {},
   "outputs": [
    {
     "name": "stdout",
     "output_type": "stream",
     "text": [
      "Number of words in the corpus:  14\n",
      "The words in the corpus: \n",
      " {'one', 'of', 'fields', 'is', 'this', 'the', 'important', 'best', 'science', 'most', 'cources', 'scientists', 'analyze', 'data'}\n"
     ]
    }
   ],
   "source": [
    "# creating the word set\n",
    "\n",
    "words_set = set()\n",
    "\n",
    "for doc in corpus:\n",
    "    words = doc.split(\" \")\n",
    "    words_set = words_set.union(set(words))\n",
    "    \n",
    "print(\"Number of words in the corpus: \", len(words_set))\n",
    "print(\"The words in the corpus: \\n\", words_set)"
   ]
  },
  {
   "cell_type": "markdown",
   "metadata": {},
   "source": [
    "##### Computing  Term Frequency"
   ]
  },
  {
   "cell_type": "code",
   "execution_count": 8,
   "metadata": {},
   "outputs": [
    {
     "data": {
      "text/html": [
       "<div>\n",
       "<style scoped>\n",
       "    .dataframe tbody tr th:only-of-type {\n",
       "        vertical-align: middle;\n",
       "    }\n",
       "\n",
       "    .dataframe tbody tr th {\n",
       "        vertical-align: top;\n",
       "    }\n",
       "\n",
       "    .dataframe thead th {\n",
       "        text-align: right;\n",
       "    }\n",
       "</style>\n",
       "<table border=\"1\" class=\"dataframe\">\n",
       "  <thead>\n",
       "    <tr style=\"text-align: right;\">\n",
       "      <th></th>\n",
       "      <th>one</th>\n",
       "      <th>of</th>\n",
       "      <th>fields</th>\n",
       "      <th>is</th>\n",
       "      <th>this</th>\n",
       "      <th>the</th>\n",
       "      <th>important</th>\n",
       "      <th>best</th>\n",
       "      <th>science</th>\n",
       "      <th>most</th>\n",
       "      <th>cources</th>\n",
       "      <th>scientists</th>\n",
       "      <th>analyze</th>\n",
       "      <th>data</th>\n",
       "    </tr>\n",
       "  </thead>\n",
       "  <tbody>\n",
       "    <tr>\n",
       "      <th>0</th>\n",
       "      <td>0.090909</td>\n",
       "      <td>0.181818</td>\n",
       "      <td>0.090909</td>\n",
       "      <td>0.090909</td>\n",
       "      <td>0.000000</td>\n",
       "      <td>0.090909</td>\n",
       "      <td>0.090909</td>\n",
       "      <td>0.000000</td>\n",
       "      <td>0.181818</td>\n",
       "      <td>0.090909</td>\n",
       "      <td>0.000000</td>\n",
       "      <td>0.00</td>\n",
       "      <td>0.00</td>\n",
       "      <td>0.090909</td>\n",
       "    </tr>\n",
       "    <tr>\n",
       "      <th>1</th>\n",
       "      <td>0.111111</td>\n",
       "      <td>0.111111</td>\n",
       "      <td>0.000000</td>\n",
       "      <td>0.111111</td>\n",
       "      <td>0.111111</td>\n",
       "      <td>0.111111</td>\n",
       "      <td>0.000000</td>\n",
       "      <td>0.111111</td>\n",
       "      <td>0.111111</td>\n",
       "      <td>0.000000</td>\n",
       "      <td>0.111111</td>\n",
       "      <td>0.00</td>\n",
       "      <td>0.00</td>\n",
       "      <td>0.111111</td>\n",
       "    </tr>\n",
       "    <tr>\n",
       "      <th>2</th>\n",
       "      <td>0.000000</td>\n",
       "      <td>0.000000</td>\n",
       "      <td>0.000000</td>\n",
       "      <td>0.000000</td>\n",
       "      <td>0.000000</td>\n",
       "      <td>0.000000</td>\n",
       "      <td>0.000000</td>\n",
       "      <td>0.000000</td>\n",
       "      <td>0.000000</td>\n",
       "      <td>0.000000</td>\n",
       "      <td>0.000000</td>\n",
       "      <td>0.25</td>\n",
       "      <td>0.25</td>\n",
       "      <td>0.500000</td>\n",
       "    </tr>\n",
       "  </tbody>\n",
       "</table>\n",
       "</div>"
      ],
      "text/plain": [
       "        one        of    fields        is      this       the  important  \\\n",
       "0  0.090909  0.181818  0.090909  0.090909  0.000000  0.090909   0.090909   \n",
       "1  0.111111  0.111111  0.000000  0.111111  0.111111  0.111111   0.000000   \n",
       "2  0.000000  0.000000  0.000000  0.000000  0.000000  0.000000   0.000000   \n",
       "\n",
       "       best   science      most   cources  scientists  analyze      data  \n",
       "0  0.000000  0.181818  0.090909  0.000000        0.00     0.00  0.090909  \n",
       "1  0.111111  0.111111  0.000000  0.111111        0.00     0.00  0.111111  \n",
       "2  0.000000  0.000000  0.000000  0.000000        0.25     0.25  0.500000  "
      ]
     },
     "execution_count": 8,
     "metadata": {},
     "output_type": "execute_result"
    }
   ],
   "source": [
    "# Number of documents in the corpus\n",
    "n_docs = len(corpus)\n",
    "\n",
    "# Number of unique words in the document\n",
    "n_words_set = len(words_set)\n",
    "\n",
    "df_tf = pd.DataFrame(np.zeros((n_docs, n_words_set)), columns=list(words_set))\n",
    "\n",
    "# Computer Term Frequency (TF)\n",
    "for i in range(n_docs):\n",
    "    # Words in the document\n",
    "    words = corpus[i].split(\" \")\n",
    "    \n",
    "    for w in words:\n",
    "        df_tf[w][i] = df_tf[w][i] + (1 / len(words))\n",
    "\n",
    "df_tf"
   ]
  },
  {
   "cell_type": "markdown",
   "metadata": {},
   "source": [
    "##### Computing Inverse Document Frequency"
   ]
  },
  {
   "cell_type": "code",
   "execution_count": 9,
   "metadata": {},
   "outputs": [
    {
     "name": "stdout",
     "output_type": "stream",
     "text": [
      "IDF of: \n",
      "            one: 0.17609125905568124\n",
      "             of: 0.17609125905568124\n",
      "         fields: 0.47712125471966244\n",
      "             is: 0.17609125905568124\n",
      "           this: 0.47712125471966244\n",
      "            the: 0.17609125905568124\n",
      "      important: 0.47712125471966244\n",
      "           best: 0.47712125471966244\n",
      "        science: 0.17609125905568124\n",
      "           most: 0.47712125471966244\n",
      "        cources: 0.47712125471966244\n",
      "     scientists: 0.47712125471966244\n",
      "        analyze: 0.47712125471966244\n",
      "           data:        0.0\n"
     ]
    }
   ],
   "source": [
    "print(\"IDF of: \")\n",
    "\n",
    "idf = {}\n",
    "\n",
    "\n",
    "for w in words_set:\n",
    "    # number of documents in the corpus that contain this words\n",
    "    k = 0\n",
    "    \n",
    "    for i in range(n_docs):\n",
    "        if w in corpus[i].split():\n",
    "            k+=1\n",
    "            \n",
    "    idf[w] = np.log10(n_docs / k)\n",
    "    print(f\"{w:>15}: {idf[w]:>10}\")"
   ]
  },
  {
   "cell_type": "markdown",
   "metadata": {},
   "source": [
    "##### Putting it Together: Computing TF-IDF"
   ]
  },
  {
   "cell_type": "code",
   "execution_count": 10,
   "metadata": {},
   "outputs": [
    {
     "data": {
      "text/html": [
       "<div>\n",
       "<style scoped>\n",
       "    .dataframe tbody tr th:only-of-type {\n",
       "        vertical-align: middle;\n",
       "    }\n",
       "\n",
       "    .dataframe tbody tr th {\n",
       "        vertical-align: top;\n",
       "    }\n",
       "\n",
       "    .dataframe thead th {\n",
       "        text-align: right;\n",
       "    }\n",
       "</style>\n",
       "<table border=\"1\" class=\"dataframe\">\n",
       "  <thead>\n",
       "    <tr style=\"text-align: right;\">\n",
       "      <th></th>\n",
       "      <th>one</th>\n",
       "      <th>of</th>\n",
       "      <th>fields</th>\n",
       "      <th>is</th>\n",
       "      <th>this</th>\n",
       "      <th>the</th>\n",
       "      <th>important</th>\n",
       "      <th>best</th>\n",
       "      <th>science</th>\n",
       "      <th>most</th>\n",
       "      <th>cources</th>\n",
       "      <th>scientists</th>\n",
       "      <th>analyze</th>\n",
       "      <th>data</th>\n",
       "    </tr>\n",
       "  </thead>\n",
       "  <tbody>\n",
       "    <tr>\n",
       "      <th>0</th>\n",
       "      <td>0.016008</td>\n",
       "      <td>0.032017</td>\n",
       "      <td>0.043375</td>\n",
       "      <td>0.016008</td>\n",
       "      <td>0.000000</td>\n",
       "      <td>0.016008</td>\n",
       "      <td>0.043375</td>\n",
       "      <td>0.000000</td>\n",
       "      <td>0.032017</td>\n",
       "      <td>0.043375</td>\n",
       "      <td>0.000000</td>\n",
       "      <td>0.00000</td>\n",
       "      <td>0.00000</td>\n",
       "      <td>0.0</td>\n",
       "    </tr>\n",
       "    <tr>\n",
       "      <th>1</th>\n",
       "      <td>0.019566</td>\n",
       "      <td>0.019566</td>\n",
       "      <td>0.000000</td>\n",
       "      <td>0.019566</td>\n",
       "      <td>0.053013</td>\n",
       "      <td>0.019566</td>\n",
       "      <td>0.000000</td>\n",
       "      <td>0.053013</td>\n",
       "      <td>0.019566</td>\n",
       "      <td>0.000000</td>\n",
       "      <td>0.053013</td>\n",
       "      <td>0.00000</td>\n",
       "      <td>0.00000</td>\n",
       "      <td>0.0</td>\n",
       "    </tr>\n",
       "    <tr>\n",
       "      <th>2</th>\n",
       "      <td>0.000000</td>\n",
       "      <td>0.000000</td>\n",
       "      <td>0.000000</td>\n",
       "      <td>0.000000</td>\n",
       "      <td>0.000000</td>\n",
       "      <td>0.000000</td>\n",
       "      <td>0.000000</td>\n",
       "      <td>0.000000</td>\n",
       "      <td>0.000000</td>\n",
       "      <td>0.000000</td>\n",
       "      <td>0.000000</td>\n",
       "      <td>0.11928</td>\n",
       "      <td>0.11928</td>\n",
       "      <td>0.0</td>\n",
       "    </tr>\n",
       "  </tbody>\n",
       "</table>\n",
       "</div>"
      ],
      "text/plain": [
       "        one        of    fields        is      this       the  important  \\\n",
       "0  0.016008  0.032017  0.043375  0.016008  0.000000  0.016008   0.043375   \n",
       "1  0.019566  0.019566  0.000000  0.019566  0.053013  0.019566   0.000000   \n",
       "2  0.000000  0.000000  0.000000  0.000000  0.000000  0.000000   0.000000   \n",
       "\n",
       "       best   science      most   cources  scientists  analyze  data  \n",
       "0  0.000000  0.032017  0.043375  0.000000     0.00000  0.00000   0.0  \n",
       "1  0.053013  0.019566  0.000000  0.053013     0.00000  0.00000   0.0  \n",
       "2  0.000000  0.000000  0.000000  0.000000     0.11928  0.11928   0.0  "
      ]
     },
     "execution_count": 10,
     "metadata": {},
     "output_type": "execute_result"
    }
   ],
   "source": [
    "df_tf_idf = df_tf.copy()\n",
    "\n",
    "for w in words_set:\n",
    "    for i in range(n_docs):\n",
    "        df_tf_idf[w][i] = df_tf[w][i] * idf[w]\n",
    "        \n",
    "df_tf_idf\n"
   ]
  },
  {
   "cell_type": "markdown",
   "metadata": {},
   "source": [
    "### TF-IDF Using Scikit Learn"
   ]
  },
  {
   "cell_type": "code",
   "execution_count": 11,
   "metadata": {},
   "outputs": [],
   "source": [
    "from sklearn.feature_extraction.text import TfidfVectorizer"
   ]
  },
  {
   "cell_type": "code",
   "execution_count": 18,
   "metadata": {},
   "outputs": [],
   "source": [
    "# call the `fit_transform` method on our test corpus.\n",
    "# This will perform all of the calculations we performed above\n",
    "\n",
    "tr_idf_model = TfidfVectorizer()\n",
    "tf_idf_vector = tr_idf_model.fit_transform(corpus)"
   ]
  },
  {
   "cell_type": "code",
   "execution_count": 19,
   "metadata": {},
   "outputs": [
    {
     "name": "stdout",
     "output_type": "stream",
     "text": [
      "<class 'scipy.sparse._csr.csr_matrix'> (3, 14)\n"
     ]
    }
   ],
   "source": [
    "# after the vectoring the corpus by the function, a `sparse matrix`\n",
    "# is obtained.\n",
    "\n",
    "print(type(tf_idf_vector), tf_idf_vector.shape)"
   ]
  },
  {
   "cell_type": "code",
   "execution_count": 20,
   "metadata": {},
   "outputs": [
    {
     "name": "stdout",
     "output_type": "stream",
     "text": [
      "[[0.         0.         0.         0.18952581 0.32089509 0.32089509\n",
      "  0.24404899 0.32089509 0.48809797 0.24404899 0.48809797 0.\n",
      "  0.24404899 0.        ]\n",
      " [0.         0.40029393 0.40029393 0.23642005 0.         0.\n",
      "  0.30443385 0.         0.30443385 0.30443385 0.30443385 0.\n",
      "  0.30443385 0.40029393]\n",
      " [0.54270061 0.         0.         0.64105545 0.         0.\n",
      "  0.         0.         0.         0.         0.         0.54270061\n",
      "  0.         0.        ]]\n"
     ]
    }
   ],
   "source": [
    "# convert to an regular array to get a better idea of the values.\n",
    "\n",
    "tf_idf_array = tf_idf_vector.toarray()\n",
    "\n",
    "print(tf_idf_array)"
   ]
  },
  {
   "cell_type": "code",
   "execution_count": 21,
   "metadata": {},
   "outputs": [
    {
     "name": "stdout",
     "output_type": "stream",
     "text": [
      "['analyze' 'best' 'cources' 'data' 'fields' 'important' 'is' 'most' 'of'\n",
      " 'one' 'science' 'scientists' 'the' 'this']\n"
     ]
    }
   ],
   "source": [
    "# \n",
    "words_set = tr_idf_model.get_feature_names_out()\n",
    "\n",
    "print(words_set)"
   ]
  },
  {
   "cell_type": "code",
   "execution_count": 22,
   "metadata": {},
   "outputs": [
    {
     "data": {
      "text/html": [
       "<div>\n",
       "<style scoped>\n",
       "    .dataframe tbody tr th:only-of-type {\n",
       "        vertical-align: middle;\n",
       "    }\n",
       "\n",
       "    .dataframe tbody tr th {\n",
       "        vertical-align: top;\n",
       "    }\n",
       "\n",
       "    .dataframe thead th {\n",
       "        text-align: right;\n",
       "    }\n",
       "</style>\n",
       "<table border=\"1\" class=\"dataframe\">\n",
       "  <thead>\n",
       "    <tr style=\"text-align: right;\">\n",
       "      <th></th>\n",
       "      <th>analyze</th>\n",
       "      <th>best</th>\n",
       "      <th>cources</th>\n",
       "      <th>data</th>\n",
       "      <th>fields</th>\n",
       "      <th>important</th>\n",
       "      <th>is</th>\n",
       "      <th>most</th>\n",
       "      <th>of</th>\n",
       "      <th>one</th>\n",
       "      <th>science</th>\n",
       "      <th>scientists</th>\n",
       "      <th>the</th>\n",
       "      <th>this</th>\n",
       "    </tr>\n",
       "  </thead>\n",
       "  <tbody>\n",
       "    <tr>\n",
       "      <th>0</th>\n",
       "      <td>0.000000</td>\n",
       "      <td>0.000000</td>\n",
       "      <td>0.000000</td>\n",
       "      <td>0.189526</td>\n",
       "      <td>0.320895</td>\n",
       "      <td>0.320895</td>\n",
       "      <td>0.244049</td>\n",
       "      <td>0.320895</td>\n",
       "      <td>0.488098</td>\n",
       "      <td>0.244049</td>\n",
       "      <td>0.488098</td>\n",
       "      <td>0.000000</td>\n",
       "      <td>0.244049</td>\n",
       "      <td>0.000000</td>\n",
       "    </tr>\n",
       "    <tr>\n",
       "      <th>1</th>\n",
       "      <td>0.000000</td>\n",
       "      <td>0.400294</td>\n",
       "      <td>0.400294</td>\n",
       "      <td>0.236420</td>\n",
       "      <td>0.000000</td>\n",
       "      <td>0.000000</td>\n",
       "      <td>0.304434</td>\n",
       "      <td>0.000000</td>\n",
       "      <td>0.304434</td>\n",
       "      <td>0.304434</td>\n",
       "      <td>0.304434</td>\n",
       "      <td>0.000000</td>\n",
       "      <td>0.304434</td>\n",
       "      <td>0.400294</td>\n",
       "    </tr>\n",
       "    <tr>\n",
       "      <th>2</th>\n",
       "      <td>0.542701</td>\n",
       "      <td>0.000000</td>\n",
       "      <td>0.000000</td>\n",
       "      <td>0.641055</td>\n",
       "      <td>0.000000</td>\n",
       "      <td>0.000000</td>\n",
       "      <td>0.000000</td>\n",
       "      <td>0.000000</td>\n",
       "      <td>0.000000</td>\n",
       "      <td>0.000000</td>\n",
       "      <td>0.000000</td>\n",
       "      <td>0.542701</td>\n",
       "      <td>0.000000</td>\n",
       "      <td>0.000000</td>\n",
       "    </tr>\n",
       "  </tbody>\n",
       "</table>\n",
       "</div>"
      ],
      "text/plain": [
       "    analyze      best   cources      data    fields  important        is  \\\n",
       "0  0.000000  0.000000  0.000000  0.189526  0.320895   0.320895  0.244049   \n",
       "1  0.000000  0.400294  0.400294  0.236420  0.000000   0.000000  0.304434   \n",
       "2  0.542701  0.000000  0.000000  0.641055  0.000000   0.000000  0.000000   \n",
       "\n",
       "       most        of       one   science  scientists       the      this  \n",
       "0  0.320895  0.488098  0.244049  0.488098    0.000000  0.244049  0.000000  \n",
       "1  0.000000  0.304434  0.304434  0.304434    0.000000  0.304434  0.400294  \n",
       "2  0.000000  0.000000  0.000000  0.000000    0.542701  0.000000  0.000000  "
      ]
     },
     "execution_count": 22,
     "metadata": {},
     "output_type": "execute_result"
    }
   ],
   "source": [
    "# dataframe to better show the TF-IDF scores of each document\n",
    "\n",
    "df_tf_idf = pd.DataFrame(tf_idf_array, columns=words_set)\n",
    "\n",
    "df_tf_idf"
   ]
  }
 ],
 "metadata": {
  "kernelspec": {
   "display_name": "artofai",
   "language": "python",
   "name": "python3"
  },
  "language_info": {
   "codemirror_mode": {
    "name": "ipython",
    "version": 3
   },
   "file_extension": ".py",
   "mimetype": "text/x-python",
   "name": "python",
   "nbconvert_exporter": "python",
   "pygments_lexer": "ipython3",
   "version": "3.12.0"
  }
 },
 "nbformat": 4,
 "nbformat_minor": 2
}
