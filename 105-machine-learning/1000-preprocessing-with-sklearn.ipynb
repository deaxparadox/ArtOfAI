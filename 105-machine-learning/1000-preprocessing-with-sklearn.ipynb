{
 "cells": [
  {
   "cell_type": "code",
   "execution_count": 2,
   "id": "81e94a1d-e0dc-40d2-9f6c-80dff53e24f1",
   "metadata": {},
   "outputs": [],
   "source": [
    "import numpy as np\n",
    "import pandas as pd"
   ]
  },
  {
   "cell_type": "markdown",
   "id": "159c7227-e768-43e2-b4d8-76049ab8389d",
   "metadata": {},
   "source": [
    "### Missing Values"
   ]
  },
  {
   "cell_type": "markdown",
   "id": "f32a465d-6c6c-42f9-bd83-e5a26511b623",
   "metadata": {},
   "source": [
    "Handling missing values is an essential preprocessing task that can drastically deteriorate your model when not done with sufficient care."
   ]
  },
  {
   "cell_type": "markdown",
   "id": "ce815cbe-4227-4342-a425-2c4727c32ea5",
   "metadata": {},
   "source": [
    "# Creating dataset with mising value\n",
    "X"
   ]
  },
  {
   "cell_type": "code",
   "execution_count": null,
   "id": "31ab6860-9433-4b63-9b58-8e2754baaea8",
   "metadata": {},
   "outputs": [],
   "source": []
  }
 ],
 "metadata": {
  "kernelspec": {
   "display_name": "ai-projects",
   "language": "python",
   "name": "ai-projects"
  },
  "language_info": {
   "codemirror_mode": {
    "name": "ipython",
    "version": 3
   },
   "file_extension": ".py",
   "mimetype": "text/x-python",
   "name": "python",
   "nbconvert_exporter": "python",
   "pygments_lexer": "ipython3",
   "version": "3.12.0"
  }
 },
 "nbformat": 4,
 "nbformat_minor": 5
}
