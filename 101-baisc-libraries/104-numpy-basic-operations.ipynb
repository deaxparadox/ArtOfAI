{
 "cells": [
  {
   "cell_type": "code",
   "execution_count": 2,
   "id": "a496099b-9399-4754-a59d-68ba29a803a0",
   "metadata": {},
   "outputs": [],
   "source": [
    "import numpy as np"
   ]
  },
  {
   "cell_type": "markdown",
   "id": "58a28a3e-53ff-4896-bd85-569032fda119",
   "metadata": {},
   "source": [
    "### Reshaping the array.\n",
    "\n",
    "Reshape function is used for reshaping the array."
   ]
  },
  {
   "cell_type": "code",
   "execution_count": 3,
   "id": "6fe70526-8bb8-46b6-bd5d-1e76daca70af",
   "metadata": {},
   "outputs": [
    {
     "name": "stdout",
     "output_type": "stream",
     "text": [
      "[0 1 2 3 4 5]\n"
     ]
    }
   ],
   "source": [
    "# 1d array\n",
    "a = np.arange(6)\n",
    "print(a)"
   ]
  },
  {
   "cell_type": "code",
   "execution_count": 4,
   "id": "d054f937-6c25-474a-9151-cc3965b1e9b8",
   "metadata": {},
   "outputs": [
    {
     "name": "stdout",
     "output_type": "stream",
     "text": [
      "[[ 0  1  2]\n",
      " [ 3  4  5]\n",
      " [ 6  7  8]\n",
      " [ 9 10 11]]\n"
     ]
    }
   ],
   "source": [
    "# 2d array\n",
    "b = np.arange(12).reshape(4,3)\n",
    "print(b)"
   ]
  },
  {
   "cell_type": "code",
   "execution_count": 5,
   "id": "3cf3ce4a-08a5-4ce1-8304-9c4b799faf15",
   "metadata": {},
   "outputs": [],
   "source": [
    "# 3d array\n",
    "c = np.arange(24).reshape(2,3,4)"
   ]
  },
  {
   "cell_type": "markdown",
   "id": "2d70f227-ddf9-48c1-8b86-85f4c731b843",
   "metadata": {},
   "source": [
    "### Arithmetic Operations\n",
    "\n",
    "Arithmetic operators on arrays apply elementwise. A new array is created and filled with the result."
   ]
  },
  {
   "cell_type": "code",
   "execution_count": 6,
   "id": "9a471fb6-c381-4007-8334-6838e171aebd",
   "metadata": {},
   "outputs": [
    {
     "data": {
      "text/plain": [
       "array([0, 1, 2, 3])"
      ]
     },
     "execution_count": 6,
     "metadata": {},
     "output_type": "execute_result"
    }
   ],
   "source": [
    "# creating two array.\n",
    "a = np.array([20, 30, 40, 50])\n",
    "b = np.arange(4)\n",
    "b"
   ]
  },
  {
   "cell_type": "code",
   "execution_count": 7,
   "id": "cfe096e3-fa23-41ac-9d2a-c01f4588dcad",
   "metadata": {},
   "outputs": [
    {
     "data": {
      "text/plain": [
       "array([20, 29, 38, 47])"
      ]
     },
     "execution_count": 7,
     "metadata": {},
     "output_type": "execute_result"
    }
   ],
   "source": [
    "# subraction performed on the array\n",
    "c = a - b \n",
    "c"
   ]
  },
  {
   "cell_type": "code",
   "execution_count": 8,
   "id": "ae6c699a-0228-45bc-9b91-fa88e81ea4dd",
   "metadata": {},
   "outputs": [
    {
     "data": {
      "text/plain": [
       "array([0, 1, 4, 9])"
      ]
     },
     "execution_count": 8,
     "metadata": {},
     "output_type": "execute_result"
    }
   ],
   "source": [
    "# exponential performed on array\n",
    "b ** 2"
   ]
  },
  {
   "cell_type": "code",
   "execution_count": 9,
   "id": "15fc6599-5a5e-46a8-b411-9c6c05ebf887",
   "metadata": {},
   "outputs": [
    {
     "data": {
      "text/plain": [
       "array([ 9.12945251, -9.88031624,  7.4511316 , -2.62374854])"
      ]
     },
     "execution_count": 9,
     "metadata": {},
     "output_type": "execute_result"
    }
   ],
   "source": [
    "# using sin() on array `a`\n",
    "10 * np.sin(a)"
   ]
  },
  {
   "cell_type": "code",
   "execution_count": 10,
   "id": "95bac15c-c149-494b-8554-43134611efcb",
   "metadata": {},
   "outputs": [
    {
     "data": {
      "text/plain": [
       "array([ True,  True, False, False])"
      ]
     },
     "execution_count": 10,
     "metadata": {},
     "output_type": "execute_result"
    }
   ],
   "source": [
    "# checking all value less than 35 in `a`\n",
    "a < 35"
   ]
  },
  {
   "cell_type": "markdown",
   "id": "cf0bef35-756c-4e2f-989e-38020bac7ed7",
   "metadata": {},
   "source": [
    "The product operator `*` operators elementwise in NumPy arrays."
   ]
  },
  {
   "cell_type": "code",
   "execution_count": 11,
   "id": "a4b11caf-9c82-42b9-99e7-65611b767bee",
   "metadata": {},
   "outputs": [],
   "source": [
    "A = np.array([[1, 1,], [0, 1]])"
   ]
  },
  {
   "cell_type": "code",
   "execution_count": 12,
   "id": "d8d65da2-5444-4f9b-b297-6a23f20bbe69",
   "metadata": {},
   "outputs": [],
   "source": [
    "B = np.array([[2, 0], [3, 4]])"
   ]
  },
  {
   "cell_type": "code",
   "execution_count": 13,
   "id": "fe1e07ce-abf1-41d8-a662-4efdf42c2ddb",
   "metadata": {},
   "outputs": [
    {
     "data": {
      "text/plain": [
       "array([[2, 0],\n",
       "       [0, 4]])"
      ]
     },
     "execution_count": 13,
     "metadata": {},
     "output_type": "execute_result"
    }
   ],
   "source": [
    "A * B"
   ]
  },
  {
   "cell_type": "markdown",
   "id": "f0a67b92-e6b9-45fc-8ff2-aca0bb007580",
   "metadata": {},
   "source": [
    "The matrix product can be erformaed using the `@` operator"
   ]
  },
  {
   "cell_type": "code",
   "execution_count": 14,
   "id": "f994a5c8-83a0-49e6-ae73-3545298f952b",
   "metadata": {},
   "outputs": [
    {
     "data": {
      "text/plain": [
       "array([[5, 4],\n",
       "       [3, 4]])"
      ]
     },
     "execution_count": 14,
     "metadata": {},
     "output_type": "execute_result"
    }
   ],
   "source": [
    "A @ B"
   ]
  },
  {
   "cell_type": "markdown",
   "id": "66ea2f6c-2600-4192-864c-74df0150c00f",
   "metadata": {},
   "source": [
    "matrix using `dot()` funcion."
   ]
  },
  {
   "cell_type": "code",
   "execution_count": 15,
   "id": "77094f4d-203d-4fe2-814c-a595f4f9ec8c",
   "metadata": {},
   "outputs": [
    {
     "data": {
      "text/plain": [
       "array([[5, 4],\n",
       "       [3, 4]])"
      ]
     },
     "execution_count": 15,
     "metadata": {},
     "output_type": "execute_result"
    }
   ],
   "source": [
    "A.dot(B)"
   ]
  },
  {
   "cell_type": "markdown",
   "id": "90c2b4a8-d670-44a7-9565-42fb67f785c8",
   "metadata": {},
   "source": [
    "Some operations, such as `+=` and `*=`, act in place to modify an existing array rather than create a new one."
   ]
  },
  {
   "cell_type": "code",
   "execution_count": 16,
   "id": "e52fa815-a6f2-423a-82fc-d52b149cd2cb",
   "metadata": {},
   "outputs": [],
   "source": [
    "# create instance of default random number generator.\n",
    "# using which we will generate numpy array of random element.\n",
    "\n",
    "rg = np.random.default_rng(1)"
   ]
  },
  {
   "cell_type": "code",
   "execution_count": 17,
   "id": "f2da211e-0529-4a3a-939a-e2a106562395",
   "metadata": {},
   "outputs": [
    {
     "data": {
      "text/plain": [
       "array([[1, 1, 1],\n",
       "       [1, 1, 1]])"
      ]
     },
     "execution_count": 17,
     "metadata": {},
     "output_type": "execute_result"
    }
   ],
   "source": [
    "# generating numpy array of ones with shape (2, 3)\n",
    "\n",
    "a = np.ones((2, 3), dtype=int)\n",
    "a"
   ]
  },
  {
   "cell_type": "code",
   "execution_count": 18,
   "id": "8df68cc0-a80e-42d1-a1e4-f89bda295228",
   "metadata": {},
   "outputs": [
    {
     "data": {
      "text/plain": [
       "array([[0.51182162, 0.9504637 , 0.14415961],\n",
       "       [0.94864945, 0.31183145, 0.42332645]])"
      ]
     },
     "execution_count": 18,
     "metadata": {},
     "output_type": "execute_result"
    }
   ],
   "source": [
    "# now we will generate a random numpy array of shape (2, 3)\n",
    "\n",
    "b = rg.random((2, 3))\n",
    "b"
   ]
  },
  {
   "cell_type": "code",
   "execution_count": 21,
   "id": "b773b6c1-ded4-470b-9005-77394b4a4360",
   "metadata": {},
   "outputs": [
    {
     "data": {
      "text/plain": [
       "array([[9, 9, 9],\n",
       "       [9, 9, 9]])"
      ]
     },
     "execution_count": 21,
     "metadata": {},
     "output_type": "execute_result"
    }
   ],
   "source": [
    "# multiplying 3 to the ones array.\n",
    "# therefore all the elements will get mutiple by  3\n",
    "# without returning new array\n",
    "\n",
    "a *= 3\n",
    "a"
   ]
  },
  {
   "cell_type": "code",
   "execution_count": 20,
   "id": "a4808844-ad08-41a0-928d-d82cc9036ace",
   "metadata": {},
   "outputs": [
    {
     "data": {
      "text/plain": [
       "array([[3.51182162, 3.9504637 , 3.14415961],\n",
       "       [3.94864945, 3.31183145, 3.42332645]])"
      ]
     },
     "execution_count": 20,
     "metadata": {},
     "output_type": "execute_result"
    }
   ],
   "source": [
    "# added 3 to the array\n",
    "# therefore all the elements will be increased by 3\n",
    "# with out returning new array\n",
    "\n",
    "b += 3\n",
    "b"
   ]
  },
  {
   "cell_type": "markdown",
   "id": "8b0352fd-c45d-434d-8575-9f96c5264731",
   "metadata": {},
   "source": [
    "### Unary operations\n",
    "\n",
    "Operations such as computing the sum of all elements in the array, are implemeneted as methods in the `ndarray` class.\n",
    "\n",
    "Suppose we have the a random numpy array of shape (2, 3)"
   ]
  },
  {
   "cell_type": "code",
   "execution_count": 22,
   "id": "6b9fa414-1a3e-413b-b37b-573da762c29a",
   "metadata": {},
   "outputs": [],
   "source": [
    "rg = np.random.default_rng(1)"
   ]
  },
  {
   "cell_type": "code",
   "execution_count": 24,
   "id": "423805bb-8c75-45bd-947d-1ca1d414ddda",
   "metadata": {},
   "outputs": [
    {
     "data": {
      "text/plain": [
       "array([[0.82770259, 0.40919914, 0.54959369],\n",
       "       [0.02755911, 0.75351311, 0.53814331]])"
      ]
     },
     "execution_count": 24,
     "metadata": {},
     "output_type": "execute_result"
    }
   ],
   "source": [
    "a = rg.random((2, 3))\n",
    "a"
   ]
  },
  {
   "cell_type": "markdown",
   "id": "192a03d3-ee09-4f12-a6fa-d46244dabbb7",
   "metadata": {},
   "source": [
    "To find the all of all element we use `sum()` method"
   ]
  },
  {
   "cell_type": "code",
   "execution_count": 25,
   "id": "26bacba3-9375-475d-b570-f4b607c84ff8",
   "metadata": {},
   "outputs": [
    {
     "data": {
      "text/plain": [
       "3.1057109529998157"
      ]
     },
     "execution_count": 25,
     "metadata": {},
     "output_type": "execute_result"
    }
   ],
   "source": [
    "a.sum()"
   ]
  },
  {
   "cell_type": "markdown",
   "id": "6f7b542f-bca2-4726-847f-f5b28ad14ff3",
   "metadata": {},
   "source": [
    "and to find minimun and maximum values, we use `min()` and `max()` method."
   ]
  },
  {
   "cell_type": "code",
   "execution_count": 26,
   "id": "5fc4cd63-f52d-4bd9-8ade-6638941956ea",
   "metadata": {},
   "outputs": [
    {
     "data": {
      "text/plain": [
       "0.027559113243068367"
      ]
     },
     "execution_count": 26,
     "metadata": {},
     "output_type": "execute_result"
    }
   ],
   "source": [
    "a.min()"
   ]
  },
  {
   "cell_type": "code",
   "execution_count": 27,
   "id": "07005144-6bb4-48ef-b9bf-38e8dd96efdc",
   "metadata": {},
   "outputs": [
    {
     "data": {
      "text/plain": [
       "0.8277025938204418"
      ]
     },
     "execution_count": 27,
     "metadata": {},
     "output_type": "execute_result"
    }
   ],
   "source": [
    "a.max()"
   ]
  },
  {
   "cell_type": "markdown",
   "id": "436f999c-df8a-40f7-9ed7-785ae0b6bdaa",
   "metadata": {},
   "source": [
    "By default, these operations, apply to the array as though it were a list of numbers, regardless of its shape. However, by specifying the `axis` parameter you can apply an operation along the specified axis of an array:"
   ]
  },
  {
   "cell_type": "code",
   "execution_count": 29,
   "id": "15999a5a-203b-4265-ade2-6e2c58850d40",
   "metadata": {},
   "outputs": [
    {
     "data": {
      "text/plain": [
       "array([[ 0,  1,  2,  3],\n",
       "       [ 4,  5,  6,  7],\n",
       "       [ 8,  9, 10, 11]])"
      ]
     },
     "execution_count": 29,
     "metadata": {},
     "output_type": "execute_result"
    }
   ],
   "source": [
    "b = np.arange(12).reshape(3, 4)\n",
    "b"
   ]
  },
  {
   "cell_type": "code",
   "execution_count": 31,
   "id": "ff81876f-0b6e-4765-a494-57aa5ab3992f",
   "metadata": {},
   "outputs": [
    {
     "data": {
      "text/plain": [
       "array([12, 15, 18, 21])"
      ]
     },
     "execution_count": 31,
     "metadata": {},
     "output_type": "execute_result"
    }
   ],
   "source": [
    "# sum of each column\n",
    "\n",
    "b.sum(axis=0)"
   ]
  },
  {
   "cell_type": "code",
   "execution_count": 32,
   "id": "527f2fff-f141-4582-9a04-03453572999f",
   "metadata": {},
   "outputs": [
    {
     "data": {
      "text/plain": [
       "array([0, 4, 8])"
      ]
     },
     "execution_count": 32,
     "metadata": {},
     "output_type": "execute_result"
    }
   ],
   "source": [
    "# min of each row\n",
    "\n",
    "b.min(axis=1)"
   ]
  },
  {
   "cell_type": "code",
   "execution_count": 34,
   "id": "7030991b-9cd0-4d74-9fe9-28b2222d1e95",
   "metadata": {},
   "outputs": [
    {
     "data": {
      "text/plain": [
       "array([[ 0,  1,  3,  6],\n",
       "       [ 4,  9, 15, 22],\n",
       "       [ 8, 17, 27, 38]])"
      ]
     },
     "execution_count": 34,
     "metadata": {},
     "output_type": "execute_result"
    }
   ],
   "source": [
    "# cumulative sum along each row\n",
    "\n",
    "b.cumsum(axis=1)"
   ]
  },
  {
   "cell_type": "code",
   "execution_count": null,
   "id": "344079d4-4557-4495-9835-ba7524bc11a4",
   "metadata": {},
   "outputs": [],
   "source": []
  },
  {
   "cell_type": "code",
   "execution_count": null,
   "id": "f98ab4ed-1084-4062-b995-31bceeae912f",
   "metadata": {},
   "outputs": [],
   "source": []
  },
  {
   "cell_type": "code",
   "execution_count": null,
   "id": "572a036e-1d2f-4c1d-a5b8-82407f04640b",
   "metadata": {},
   "outputs": [],
   "source": []
  },
  {
   "cell_type": "code",
   "execution_count": null,
   "id": "93a9527b-27df-4a28-94ba-7705d5a9d123",
   "metadata": {},
   "outputs": [],
   "source": []
  }
 ],
 "metadata": {
  "kernelspec": {
   "display_name": "artofai",
   "language": "python",
   "name": "artofai"
  },
  "language_info": {
   "codemirror_mode": {
    "name": "ipython",
    "version": 3
   },
   "file_extension": ".py",
   "mimetype": "text/x-python",
   "name": "python",
   "nbconvert_exporter": "python",
   "pygments_lexer": "ipython3",
   "version": "3.11.6"
  }
 },
 "nbformat": 4,
 "nbformat_minor": 5
}
