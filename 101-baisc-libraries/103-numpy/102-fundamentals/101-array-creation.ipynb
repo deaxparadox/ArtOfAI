{
 "cells": [
  {
   "cell_type": "markdown",
   "id": "9153d225-afaa-42fe-b8d9-62013d7221c1",
   "metadata": {},
   "source": [
    "# Array creation"
   ]
  },
  {
   "cell_type": "code",
   "execution_count": null,
   "id": "3183feef-5c0e-4a31-b78f-433308362ece",
   "metadata": {},
   "outputs": [],
   "source": []
  }
 ],
 "metadata": {
  "kernelspec": {
   "display_name": "artofai",
   "language": "python",
   "name": "artofai"
  },
  "language_info": {
   "codemirror_mode": {
    "name": "ipython",
    "version": 3
   },
   "file_extension": ".py",
   "mimetype": "text/x-python",
   "name": "python",
   "nbconvert_exporter": "python",
   "pygments_lexer": "ipython3",
   "version": "3.11.6"
  }
 },
 "nbformat": 4,
 "nbformat_minor": 5
}
