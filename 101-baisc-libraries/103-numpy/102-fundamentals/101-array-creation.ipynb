{
 "cells": [
  {
   "cell_type": "markdown",
   "id": "9153d225-afaa-42fe-b8d9-62013d7221c1",
   "metadata": {},
   "source": [
    "# Array creation"
   ]
  },
  {
   "cell_type": "markdown",
   "id": "b7b7c567-5ec7-4c6f-81be-c302d45fd513",
   "metadata": {},
   "source": [
    "### Introduction\n",
    "\n",
    "Therea are 6 general mechanisms for creating arrays:\n",
    "\n",
    "1. Conversion from other Python structures (i.e. lists and tuples)\n",
    "2. Intrinsic NumPy array creation functions (e.g. arange, ones, zeros, etc)\n",
    "3. Replacing, joining, or mutating existing arrays\n",
    "4. Reading arrays from disk, either from standard or custom formats\n",
    "5. Creating arrays from raw bytes through the use of strings or buggers\n",
    "6. Use of special library functions (e.g. random)"
   ]
  }
 ],
 "metadata": {
  "kernelspec": {
   "display_name": "artofai",
   "language": "python",
   "name": "artofai"
  },
  "language_info": {
   "codemirror_mode": {
    "name": "ipython",
    "version": 3
   },
   "file_extension": ".py",
   "mimetype": "text/x-python",
   "name": "python",
   "nbconvert_exporter": "python",
   "pygments_lexer": "ipython3",
   "version": "3.11.6"
  }
 },
 "nbformat": 4,
 "nbformat_minor": 5
}
