{
 "cells": [
  {
   "cell_type": "code",
   "execution_count": null,
   "id": "d08659bb-de4c-4de9-a43e-39a52ea33b76",
   "metadata": {},
   "outputs": [],
   "source": [
    "lab1"
   ]
  }
 ],
 "metadata": {
  "kernelspec": {
   "display_name": "artofai",
   "language": "python",
   "name": "artofai"
  },
  "language_info": {
   "codemirror_mode": {
    "name": "ipython",
    "version": 3
   },
   "file_extension": ".py",
   "mimetype": "text/x-python",
   "name": "python",
   "nbconvert_exporter": "python",
   "pygments_lexer": "ipython3",
   "version": "3.12.0"
  }
 },
 "nbformat": 4,
 "nbformat_minor": 5
}
