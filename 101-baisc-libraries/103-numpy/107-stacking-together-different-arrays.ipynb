{
 "cells": [
  {
   "cell_type": "code",
   "execution_count": 1,
   "id": "936f5cde-3d17-4cd8-92d3-e01ff834e1b3",
   "metadata": {},
   "outputs": [],
   "source": [
    "import numpy as np\n",
    "import secrets"
   ]
  },
  {
   "cell_type": "code",
   "execution_count": 2,
   "id": "bd12c69c-d304-4a4a-bbeb-4cdb09135c66",
   "metadata": {},
   "outputs": [],
   "source": [
    "rg = np.random.default_rng(1)"
   ]
  },
  {
   "cell_type": "markdown",
   "id": "4ae0a3dc-8695-411c-88f4-b65fbfc35ea1",
   "metadata": {},
   "source": [
    "Severals arrays can be stacked together along.\n",
    "\n",
    "Let's suppose we have two ndarray `a` and `b`, and we have to stack them vertical on those on top of one another.\n",
    "\n",
    "First of all we are going to create our arrays `a` and `b`, after that we have to use the `ndarray.vstack` function, to stack them vertically."
   ]
  },
  {
   "cell_type": "code",
   "execution_count": 3,
   "id": "b8619447-7a0c-4928-b2f5-a070d2eabe14",
   "metadata": {},
   "outputs": [
    {
     "data": {
      "text/plain": [
       "array([[5., 9.],\n",
       "       [1., 9.]])"
      ]
     },
     "execution_count": 3,
     "metadata": {},
     "output_type": "execute_result"
    }
   ],
   "source": [
    "a = np.floor(10 * rg.random((2, 2)))\n",
    "a"
   ]
  },
  {
   "cell_type": "code",
   "execution_count": 4,
   "id": "6d3403c9-6f20-4810-9d59-fa99e655fe28",
   "metadata": {},
   "outputs": [
    {
     "data": {
      "text/plain": [
       "array([[3., 4.],\n",
       "       [8., 4.]])"
      ]
     },
     "execution_count": 4,
     "metadata": {},
     "output_type": "execute_result"
    }
   ],
   "source": [
    "b = np.floor(10 * rg.random((2, 2)))\n",
    "b"
   ]
  },
  {
   "cell_type": "code",
   "execution_count": 5,
   "id": "7de98487-6bca-40cc-93cd-86eea82e881b",
   "metadata": {},
   "outputs": [
    {
     "data": {
      "text/plain": [
       "array([[5., 9.],\n",
       "       [1., 9.],\n",
       "       [3., 4.],\n",
       "       [8., 4.]])"
      ]
     },
     "execution_count": 5,
     "metadata": {},
     "output_type": "execute_result"
    }
   ],
   "source": [
    "# stacking \"a\" and \"b\" vertically\n",
    "np.vstack((a, b))"
   ]
  },
  {
   "cell_type": "markdown",
   "id": "f5474677-e25a-4663-b1d6-5522a418542a",
   "metadata": {},
   "source": [
    "Now we are going to stack them horizontally."
   ]
  },
  {
   "cell_type": "code",
   "execution_count": 6,
   "id": "a8d8dba9-20a2-4abd-97e3-2b2b08a3e8c6",
   "metadata": {},
   "outputs": [
    {
     "data": {
      "text/plain": [
       "array([[5., 9., 3., 4.],\n",
       "       [1., 9., 8., 4.]])"
      ]
     },
     "execution_count": 6,
     "metadata": {},
     "output_type": "execute_result"
    }
   ],
   "source": [
    "# stacking \"a\" and \"b\" horizontally\n",
    "np.hstack((a, b))"
   ]
  },
  {
   "cell_type": "markdown",
   "id": "4266c740-d2b6-44e9-9afd-b8e340216858",
   "metadata": {},
   "source": [
    "### numpy.floor()\n",
    "\n",
    "This function return the floor of the input, element-wise.\n",
    "\n",
    "The floor of the scalar x is the largest integer *i*, such that *i<=x*.\n",
    "\n",
    "\n",
    "\n",
    "Some spreadsheet programs calculate the “floor-towards-zero”, where floor(-2.5) == -2. NumPy instead uses the definition of **floor** where *floor*(-2.5) == -3. The “floor-towards-zero” function is called `fix` in NumPy."
   ]
  },
  {
   "cell_type": "code",
   "execution_count": 7,
   "id": "c6aebe2f-25c9-47d5-8904-8e0daeeabd90",
   "metadata": {},
   "outputs": [],
   "source": [
    "afloor = np.array([-1.7, -1.5, -0.2, 0.2, 1.5, 1.7, 2.0])"
   ]
  },
  {
   "cell_type": "code",
   "execution_count": 8,
   "id": "38610b14-5c7d-44dc-af1c-24e1320f2588",
   "metadata": {},
   "outputs": [
    {
     "data": {
      "text/plain": [
       "array([-2., -2., -1.,  0.,  1.,  1.,  2.])"
      ]
     },
     "execution_count": 8,
     "metadata": {},
     "output_type": "execute_result"
    }
   ],
   "source": [
    "np.floor(afloor)"
   ]
  },
  {
   "cell_type": "markdown",
   "id": "b61decee-36ec-48dc-a00c-32b9511a701f",
   "metadata": {},
   "source": [
    "### np.column_stack()"
   ]
  },
  {
   "cell_type": "markdown",
   "id": "7ef119fb-2d14-4ada-86eb-d0a363566985",
   "metadata": {},
   "source": [
    "There are other function such as `column_stack` stacks 1D arrays as columns into a 2D array. It is equivalent to `hstack` only for 2D arrays:"
   ]
  },
  {
   "cell_type": "code",
   "execution_count": 9,
   "id": "79ae54b4-0504-466f-b68c-f51b3c4a8b0b",
   "metadata": {},
   "outputs": [],
   "source": [
    "from numpy import newaxis"
   ]
  },
  {
   "cell_type": "code",
   "execution_count": 10,
   "id": "f7463a65-9cdd-4a5f-8fe3-49ade09af089",
   "metadata": {},
   "outputs": [
    {
     "data": {
      "text/plain": [
       "array([[5., 9., 3., 4.],\n",
       "       [1., 9., 8., 4.]])"
      ]
     },
     "execution_count": 10,
     "metadata": {},
     "output_type": "execute_result"
    }
   ],
   "source": [
    "# with 2D arrays\n",
    "# \n",
    "# stacking 2D arrays, similar to `hstack`\n",
    "\n",
    "np.column_stack((a, b))"
   ]
  },
  {
   "cell_type": "code",
   "execution_count": 11,
   "id": "f3d0c397-c2b4-4fce-b480-1ed5e69297b5",
   "metadata": {},
   "outputs": [
    {
     "data": {
      "text/plain": [
       "array([[5., 9., 3., 4.],\n",
       "       [1., 9., 8., 4.]])"
      ]
     },
     "execution_count": 11,
     "metadata": {},
     "output_type": "execute_result"
    }
   ],
   "source": [
    "# will get the same result as above\n",
    "# similar to 2D arrays, with `column_stack`\n",
    "\n",
    "np.hstack((a, b))"
   ]
  },
  {
   "cell_type": "code",
   "execution_count": 12,
   "id": "d84b5f75-b8f9-45e7-903d-908d90ac32fc",
   "metadata": {},
   "outputs": [
    {
     "data": {
      "text/plain": [
       "(array([4., 2.]), array([3., 8.]))"
      ]
     },
     "execution_count": 12,
     "metadata": {},
     "output_type": "execute_result"
    }
   ],
   "source": [
    "# but for 1D array, `column_stack` will\n",
    "# stack them vertically, and return a 2D arrays\n",
    "\n",
    "a = np.array([4., 2.])\n",
    "b = np.array([3., 8.])\n",
    "a, b"
   ]
  },
  {
   "cell_type": "code",
   "execution_count": 13,
   "id": "d6f437b8-7c2c-42e9-8d72-d559b3d096c7",
   "metadata": {},
   "outputs": [
    {
     "data": {
      "text/plain": [
       "array([[4., 3.],\n",
       "       [2., 8.]])"
      ]
     },
     "execution_count": 13,
     "metadata": {},
     "output_type": "execute_result"
    }
   ],
   "source": [
    "# `column_stack` will returns a 2D array,\n",
    "# 1D arrays are stack vertically returning 2D array.\n",
    "\n",
    "np.column_stack((a, b))"
   ]
  },
  {
   "cell_type": "code",
   "execution_count": 14,
   "id": "7352f450-e220-4617-87e0-ab6c9636299f",
   "metadata": {},
   "outputs": [
    {
     "data": {
      "text/plain": [
       "array([4., 2., 3., 8.])"
      ]
     },
     "execution_count": 14,
     "metadata": {},
     "output_type": "execute_result"
    }
   ],
   "source": [
    "# but, `hstack` will align 1D arrays horizontally\n",
    "# the result is different\n",
    "\n",
    "np.hstack((a, b))"
   ]
  },
  {
   "cell_type": "markdown",
   "id": "4b46ed88-6fc3-48cd-97aa-8a18ab504ecf",
   "metadata": {},
   "source": [
    "On the other hand, the function `row_stack` is equivalent to `vstack` for any input arrays. In fact, `row_stack` is in alias for `vstack`:"
   ]
  },
  {
   "cell_type": "code",
   "execution_count": 15,
   "id": "8e5862ff-c815-4e3c-83d4-210a8979bc71",
   "metadata": {},
   "outputs": [
    {
     "data": {
      "text/plain": [
       "False"
      ]
     },
     "execution_count": 15,
     "metadata": {},
     "output_type": "execute_result"
    }
   ],
   "source": [
    "# whereas `hstack` is not an alias to `column_stack`\n",
    "\n",
    "np.column_stack is np.hstack"
   ]
  },
  {
   "cell_type": "code",
   "execution_count": 16,
   "id": "1480093d-b38d-435d-bd5a-c7893d7b06b4",
   "metadata": {},
   "outputs": [
    {
     "data": {
      "text/plain": [
       "True"
      ]
     },
     "execution_count": 16,
     "metadata": {},
     "output_type": "execute_result"
    }
   ],
   "source": [
    "# `vstack` is an alias to `row_stack`\n",
    "\n",
    "np.row_stack is np.vstack"
   ]
  },
  {
   "cell_type": "code",
   "execution_count": 17,
   "id": "8d496a27-2c48-47cd-933f-d6dd6a45052e",
   "metadata": {},
   "outputs": [
    {
     "data": {
      "text/plain": [
       "(array([4., 2.]), array([3., 8.]))"
      ]
     },
     "execution_count": 17,
     "metadata": {},
     "output_type": "execute_result"
    }
   ],
   "source": [
    "a, b"
   ]
  },
  {
   "cell_type": "code",
   "execution_count": 18,
   "id": "41a1b689-e5cf-4437-9e5c-a4d525d442a5",
   "metadata": {},
   "outputs": [
    {
     "data": {
      "text/plain": [
       "array([[4., 2.],\n",
       "       [3., 8.]])"
      ]
     },
     "execution_count": 18,
     "metadata": {},
     "output_type": "execute_result"
    }
   ],
   "source": [
    "# using `row_stack` on above arrays\n",
    "\n",
    "np.row_stack((a, b))"
   ]
  },
  {
   "cell_type": "code",
   "execution_count": 19,
   "id": "71dfde62-7a80-445f-b317-9bc4a343bab4",
   "metadata": {},
   "outputs": [
    {
     "data": {
      "text/plain": [
       "array([[4., 2.],\n",
       "       [3., 8.]])"
      ]
     },
     "execution_count": 19,
     "metadata": {},
     "output_type": "execute_result"
    }
   ],
   "source": [
    "# using `vstack` on above arrays on comparing them\n",
    "# with `row_stack`\n",
    "\n",
    "np.vstack((a, b))"
   ]
  }
 ],
 "metadata": {
  "kernelspec": {
   "display_name": "artofai",
   "language": "python",
   "name": "artofai"
  },
  "language_info": {
   "codemirror_mode": {
    "name": "ipython",
    "version": 3
   },
   "file_extension": ".py",
   "mimetype": "text/x-python",
   "name": "python",
   "nbconvert_exporter": "python",
   "pygments_lexer": "ipython3",
   "version": "3.11.6"
  }
 },
 "nbformat": 4,
 "nbformat_minor": 5
}
