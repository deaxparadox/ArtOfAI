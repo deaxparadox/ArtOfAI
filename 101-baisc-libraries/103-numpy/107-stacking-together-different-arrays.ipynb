{
 "cells": [
  {
   "cell_type": "code",
   "execution_count": 19,
   "id": "936f5cde-3d17-4cd8-92d3-e01ff834e1b3",
   "metadata": {},
   "outputs": [],
   "source": [
    "import numpy as np\n",
    "import secrets"
   ]
  },
  {
   "cell_type": "code",
   "execution_count": 20,
   "id": "bd12c69c-d304-4a4a-bbeb-4cdb09135c66",
   "metadata": {},
   "outputs": [],
   "source": [
    "rg = np.random.default_rng(1)"
   ]
  },
  {
   "cell_type": "markdown",
   "id": "4ae0a3dc-8695-411c-88f4-b65fbfc35ea1",
   "metadata": {},
   "source": [
    "Severals arrays can be stacked together along.\n",
    "\n",
    "Let's suppose we have two ndarray `a` and `b`, and we have to stack them vertical on those on top of one another.\n",
    "\n",
    "First of all we are going to create our arrays `a` and `b`, after that we have to use the `ndarray.vstack` function, to stack them vertically."
   ]
  },
  {
   "cell_type": "code",
   "execution_count": 21,
   "id": "b8619447-7a0c-4928-b2f5-a070d2eabe14",
   "metadata": {},
   "outputs": [
    {
     "data": {
      "text/plain": [
       "array([[5., 9.],\n",
       "       [1., 9.]])"
      ]
     },
     "execution_count": 21,
     "metadata": {},
     "output_type": "execute_result"
    }
   ],
   "source": [
    "a = np.floor(10 * rg.random((2, 2)))\n",
    "a"
   ]
  },
  {
   "cell_type": "code",
   "execution_count": 22,
   "id": "6d3403c9-6f20-4810-9d59-fa99e655fe28",
   "metadata": {},
   "outputs": [
    {
     "data": {
      "text/plain": [
       "array([[3., 4.],\n",
       "       [8., 4.]])"
      ]
     },
     "execution_count": 22,
     "metadata": {},
     "output_type": "execute_result"
    }
   ],
   "source": [
    "b = np.floor(10 * rg.random((2, 2)))\n",
    "b"
   ]
  },
  {
   "cell_type": "code",
   "execution_count": 23,
   "id": "7de98487-6bca-40cc-93cd-86eea82e881b",
   "metadata": {},
   "outputs": [
    {
     "data": {
      "text/plain": [
       "array([[5., 9.],\n",
       "       [1., 9.],\n",
       "       [3., 4.],\n",
       "       [8., 4.]])"
      ]
     },
     "execution_count": 23,
     "metadata": {},
     "output_type": "execute_result"
    }
   ],
   "source": [
    "# stacking \"a\" and \"b\" vertically\n",
    "np.vstack((a, b))"
   ]
  },
  {
   "cell_type": "markdown",
   "id": "f5474677-e25a-4663-b1d6-5522a418542a",
   "metadata": {},
   "source": [
    "Now we are going to stack them horizontally."
   ]
  },
  {
   "cell_type": "code",
   "execution_count": 24,
   "id": "a8d8dba9-20a2-4abd-97e3-2b2b08a3e8c6",
   "metadata": {},
   "outputs": [
    {
     "data": {
      "text/plain": [
       "array([[5., 9., 3., 4.],\n",
       "       [1., 9., 8., 4.]])"
      ]
     },
     "execution_count": 24,
     "metadata": {},
     "output_type": "execute_result"
    }
   ],
   "source": [
    "# stacking \"a\" and \"b\" horizontally\n",
    "np.hstack((a, b))"
   ]
  },
  {
   "cell_type": "markdown",
   "id": "4266c740-d2b6-44e9-9afd-b8e340216858",
   "metadata": {},
   "source": [
    "#### numpy.floor()\n",
    "\n",
    "This function return the floor of the input, element-wise.\n",
    "\n",
    "The floor of the scalar x is the largest integer *i*, such that *i<=x*.\n",
    "\n",
    "\n",
    "\n",
    "Some spreadsheet programs calculate the “floor-towards-zero”, where floor(-2.5) == -2. NumPy instead uses the definition of **floor** where *floor*(-2.5) == -3. The “floor-towards-zero” function is called `fix` in NumPy."
   ]
  },
  {
   "cell_type": "code",
   "execution_count": 25,
   "id": "c6aebe2f-25c9-47d5-8904-8e0daeeabd90",
   "metadata": {},
   "outputs": [],
   "source": [
    "afloor = np.array([-1.7, -1.5, -0.2, 0.2, 1.5, 1.7, 2.0])"
   ]
  },
  {
   "cell_type": "code",
   "execution_count": 26,
   "id": "38610b14-5c7d-44dc-af1c-24e1320f2588",
   "metadata": {},
   "outputs": [
    {
     "data": {
      "text/plain": [
       "array([-2., -2., -1.,  0.,  1.,  1.,  2.])"
      ]
     },
     "execution_count": 26,
     "metadata": {},
     "output_type": "execute_result"
    }
   ],
   "source": [
    "np.floor(afloor)"
   ]
  },
  {
   "cell_type": "markdown",
   "id": "7ef119fb-2d14-4ada-86eb-d0a363566985",
   "metadata": {},
   "source": [
    "There are other function such as `column_stack` stacks 1D arrays as columns into a 2D array. It is equivalent to `hstack` only for 2D arrays:"
   ]
  },
  {
   "cell_type": "code",
   "execution_count": 27,
   "id": "79ae54b4-0504-466f-b68c-f51b3c4a8b0b",
   "metadata": {},
   "outputs": [],
   "source": [
    "from numpy import newaxis"
   ]
  },
  {
   "cell_type": "code",
   "execution_count": 29,
   "id": "f7463a65-9cdd-4a5f-8fe3-49ade09af089",
   "metadata": {},
   "outputs": [
    {
     "data": {
      "text/plain": [
       "array([[5., 9., 3., 4.],\n",
       "       [1., 9., 8., 4.]])"
      ]
     },
     "execution_count": 29,
     "metadata": {},
     "output_type": "execute_result"
    }
   ],
   "source": [
    "# with 2D arrays\n",
    "np.column_stack((a, b))"
   ]
  },
  {
   "cell_type": "code",
   "execution_count": 41,
   "id": "d84b5f75-b8f9-45e7-903d-908d90ac32fc",
   "metadata": {},
   "outputs": [],
   "source": [
    "a = np.array([4., 2.])\n",
    "b = np.array([3., 8.])"
   ]
  },
  {
   "cell_type": "code",
   "execution_count": 42,
   "id": "d4ff8c9b-6c97-4a94-bfb6-d76a1042fdaf",
   "metadata": {},
   "outputs": [
    {
     "data": {
      "text/plain": [
       "(array([4., 2.]), array([3., 8.]))"
      ]
     },
     "execution_count": 42,
     "metadata": {},
     "output_type": "execute_result"
    }
   ],
   "source": [
    "a, b"
   ]
  },
  {
   "cell_type": "code",
   "execution_count": 43,
   "id": "d6f437b8-7c2c-42e9-8d72-d559b3d096c7",
   "metadata": {},
   "outputs": [
    {
     "data": {
      "text/plain": [
       "array([[4., 3.],\n",
       "       [2., 8.]])"
      ]
     },
     "execution_count": 43,
     "metadata": {},
     "output_type": "execute_result"
    }
   ],
   "source": [
    "# returns a 2D array\n",
    "np.column_stack((a, b))"
   ]
  },
  {
   "cell_type": "code",
   "execution_count": 44,
   "id": "7352f450-e220-4617-87e0-ab6c9636299f",
   "metadata": {},
   "outputs": [
    {
     "data": {
      "text/plain": [
       "array([4., 2., 3., 8.])"
      ]
     },
     "execution_count": 44,
     "metadata": {},
     "output_type": "execute_result"
    }
   ],
   "source": [
    "# the result is different\n",
    "np.hstack((a, b))"
   ]
  },
  {
   "cell_type": "code",
   "execution_count": null,
   "id": "49df585d-76ef-4b39-b45f-7007c1e62a4f",
   "metadata": {},
   "outputs": [],
   "source": []
  }
 ],
 "metadata": {
  "kernelspec": {
   "display_name": "artofai",
   "language": "python",
   "name": "artofai"
  },
  "language_info": {
   "codemirror_mode": {
    "name": "ipython",
    "version": 3
   },
   "file_extension": ".py",
   "mimetype": "text/x-python",
   "name": "python",
   "nbconvert_exporter": "python",
   "pygments_lexer": "ipython3",
   "version": "3.12.0"
  }
 },
 "nbformat": 4,
 "nbformat_minor": 5
}
