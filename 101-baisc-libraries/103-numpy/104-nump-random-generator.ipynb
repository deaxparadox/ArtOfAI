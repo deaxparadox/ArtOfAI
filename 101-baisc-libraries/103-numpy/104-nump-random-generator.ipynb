{
 "cells": [
  {
   "cell_type": "code",
   "execution_count": 1,
   "id": "331c4a70-cb5d-4d17-898b-7234092bc2ca",
   "metadata": {},
   "outputs": [],
   "source": [
    "import numpy as np"
   ]
  },
  {
   "cell_type": "markdown",
   "id": "77012b8f-f75b-4f5a-be3c-53a911871ffa",
   "metadata": {},
   "source": [
    "## numpy.random"
   ]
  },
  {
   "cell_type": "markdown",
   "id": "cc9ca1cf-008c-49a5-9bcf-c5544a5d5431",
   "metadata": {},
   "source": [
    "The `numpy.random` module iplements pseudo-random number generators (PRNGsor RNGs,for short) with the ability to draw samples from a variety of probability distributions.\n",
    "\n",
    "Users will create a `Generator` instance with `default_rng` and call the various methods on it to obtain samples from different distributions."
   ]
  },
  {
   "cell_type": "code",
   "execution_count": 2,
   "id": "97dd5390-b19f-4c28-a901-51b37efb7b70",
   "metadata": {},
   "outputs": [],
   "source": [
    "# creating instance of random Generator\n",
    "rng = np.random.default_rng()"
   ]
  },
  {
   "cell_type": "code",
   "execution_count": 3,
   "id": "5d78aaf6-caac-43ce-8617-3bb703f2fa8e",
   "metadata": {},
   "outputs": [
    {
     "data": {
      "text/plain": [
       "0.8786853868805589"
      ]
     },
     "execution_count": 3,
     "metadata": {},
     "output_type": "execute_result"
    }
   ],
   "source": [
    "# Generator one random float uniformly distributed over the range [0, 1)\n",
    "rng.random()"
   ]
  },
  {
   "cell_type": "code",
   "execution_count": 4,
   "id": "8c1890ad-64b5-49f5-9634-43f6f3d0ff2d",
   "metadata": {},
   "outputs": [
    {
     "data": {
      "text/plain": [
       "array([-0.00317814, -1.01563755,  1.58014286, -0.14333773,  1.56100575,\n",
       "       -1.42431792, -0.3165518 ,  1.40615197,  1.87851287, -1.11619265])"
      ]
     },
     "execution_count": 4,
     "metadata": {},
     "output_type": "execute_result"
    }
   ],
   "source": [
    "# Generate an array of 10 numbers according to a unit Gaussian distribution\n",
    "rng.standard_normal(10)"
   ]
  },
  {
   "cell_type": "code",
   "execution_count": 5,
   "id": "7a3d1f91-ea0a-4b07-b2cf-2ff167be1b93",
   "metadata": {},
   "outputs": [
    {
     "data": {
      "text/plain": [
       "array([4, 3, 7, 5, 0])"
      ]
     },
     "execution_count": 5,
     "metadata": {},
     "output_type": "execute_result"
    }
   ],
   "source": [
    "# Generate an array of 5 integers uniformly over the range [0, 10)\n",
    "rng.integers(low=0, high=10, size=5)"
   ]
  },
  {
   "cell_type": "markdown",
   "id": "f55d0ec4-492e-44a5-970f-b08d9850474f",
   "metadata": {},
   "source": [
    "### seed"
   ]
  },
  {
   "cell_type": "markdown",
   "id": "b226eccb-79ab-4e38-8cd5-4c1e97e1f1fd",
   "metadata": {},
   "source": [
    "Our RNGs are deterministic sequences and can be reproduced by specifying a seed integer to derive its initial state.\n",
    "\n",
    "\n",
    "By default, with no seed provided, `default_rng` will create seed the RNG from nondeterministic data from the operating system and therefore generate different numbers each time. The pseudo-random sequences will be independent for all practical purposes, at least those purposes for which our pseudo-randomness was good in the first place."
   ]
  },
  {
   "cell_type": "code",
   "execution_count": 7,
   "id": "1e70514c-b8ff-4649-b826-a768fbb55ed5",
   "metadata": {},
   "outputs": [
    {
     "data": {
      "text/plain": [
       "0.14270453328981303"
      ]
     },
     "execution_count": 7,
     "metadata": {},
     "output_type": "execute_result"
    }
   ],
   "source": [
    "rng1 = np.random.default_rng()\n",
    "rng1.random()"
   ]
  },
  {
   "cell_type": "code",
   "execution_count": 16,
   "id": "19ebf801-238e-4705-ba28-4d9f0dd57657",
   "metadata": {},
   "outputs": [
    {
     "data": {
      "text/plain": [
       "0.2568361848725905"
      ]
     },
     "execution_count": 16,
     "metadata": {},
     "output_type": "execute_result"
    }
   ],
   "source": [
    "rng2 = np.random.default_rng()\n",
    "rng2.random()"
   ]
  },
  {
   "cell_type": "markdown",
   "id": "f1c91118-efdd-43d0-acac-ac0247eaf5c9",
   "metadata": {},
   "source": [
    "Both `rng1` and `rng2` produced the different random values."
   ]
  },
  {
   "cell_type": "markdown",
   "id": "4199df26-98e0-4c4a-bec2-0fafd3a5047c",
   "metadata": {},
   "source": [
    "Seeds should be large position integers. `default_rng` can take positive integers of any size. It's recommended using very large, unique numbers to ensure that you seed is different from anyone else's.\n",
    "\n",
    "A convenient way to get such a seed it to use `secrets.randbits` from python `secret` module, to get an arbitrary 128-bit integer."
   ]
  },
  {
   "cell_type": "code",
   "execution_count": 10,
   "id": "0f1e842a-8661-41af-88d7-3302919923af",
   "metadata": {},
   "outputs": [],
   "source": [
    "import secrets"
   ]
  },
  {
   "cell_type": "code",
   "execution_count": 11,
   "id": "cd24970a-3314-46db-a7dd-d3767f5e3dc1",
   "metadata": {},
   "outputs": [
    {
     "data": {
      "text/plain": [
       "150056391817741963357772572991497990638"
      ]
     },
     "execution_count": 11,
     "metadata": {},
     "output_type": "execute_result"
    }
   ],
   "source": [
    "secrets.randbits(128)"
   ]
  },
  {
   "cell_type": "code",
   "execution_count": 19,
   "id": "ea45fdf7-c2dc-4824-9d34-dd1867bad98a",
   "metadata": {},
   "outputs": [
    {
     "name": "stdout",
     "output_type": "stream",
     "text": [
      "secret bit: 254157805732080653108750837195325084834\n"
     ]
    }
   ],
   "source": [
    "s = secrets.randbits(128)\n",
    "print(f\"secret bit: {s}\")"
   ]
  },
  {
   "cell_type": "code",
   "execution_count": 20,
   "id": "675955e0-5b19-4d5d-87cc-41c779f51d20",
   "metadata": {},
   "outputs": [
    {
     "name": "stdout",
     "output_type": "stream",
     "text": [
      "0.9202600551861744\n"
     ]
    }
   ],
   "source": [
    "\n",
    "rng1 = np.random.default_rng(s)\n",
    "print(rng1.random())"
   ]
  },
  {
   "cell_type": "code",
   "execution_count": 21,
   "id": "05965353-0002-4182-8601-6b4bb973b4df",
   "metadata": {},
   "outputs": [
    {
     "name": "stdout",
     "output_type": "stream",
     "text": [
      "0.9202600551861744\n"
     ]
    }
   ],
   "source": [
    "rng2 = np.random.default_rng(s)\n",
    "print(rng2.random())"
   ]
  },
  {
   "cell_type": "markdown",
   "id": "764316c6-5b81-47bc-a073-39eb54dd11a4",
   "metadata": {},
   "source": [
    "This time both `rng1` and `rng2` produces same random value, because seed provided to both random generator is same."
   ]
  },
  {
   "cell_type": "markdown",
   "id": "9ce2e07c-995f-4f01-90cb-70915e001be3",
   "metadata": {},
   "source": [
    "Seed is basically used for generating the same random value every time."
   ]
  }
 ],
 "metadata": {
  "kernelspec": {
   "display_name": "artofai",
   "language": "python",
   "name": "artofai"
  },
  "language_info": {
   "codemirror_mode": {
    "name": "ipython",
    "version": 3
   },
   "file_extension": ".py",
   "mimetype": "text/x-python",
   "name": "python",
   "nbconvert_exporter": "python",
   "pygments_lexer": "ipython3",
   "version": "3.11.6"
  }
 },
 "nbformat": 4,
 "nbformat_minor": 5
}
