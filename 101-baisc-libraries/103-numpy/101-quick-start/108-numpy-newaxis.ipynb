{
 "cells": [
  {
   "cell_type": "code",
   "execution_count": 21,
   "id": "f0e46e70-9be8-4d30-b2b3-f2bc5203a092",
   "metadata": {},
   "outputs": [],
   "source": [
    "from numpy import newaxis\n",
    "import numpy as np"
   ]
  },
  {
   "cell_type": "markdown",
   "id": "9c9ab752-4451-4622-a711-09b17ad21f3b",
   "metadata": {},
   "source": [
    "### numpy.newaxis\n",
    "\n",
    "A convenient alias for None, usefull for indexing arrays."
   ]
  },
  {
   "cell_type": "code",
   "execution_count": 22,
   "id": "7675d1fb-af08-4551-90cd-2c8e81d87dbc",
   "metadata": {},
   "outputs": [
    {
     "data": {
      "text/plain": [
       "True"
      ]
     },
     "execution_count": 22,
     "metadata": {},
     "output_type": "execute_result"
    }
   ],
   "source": [
    "newaxis is None"
   ]
  },
  {
   "cell_type": "code",
   "execution_count": 23,
   "id": "19e9d663-6e19-45c0-bc33-b5ead4817aca",
   "metadata": {},
   "outputs": [
    {
     "data": {
      "text/plain": [
       "array([0, 1, 2])"
      ]
     },
     "execution_count": 23,
     "metadata": {},
     "output_type": "execute_result"
    }
   ],
   "source": [
    "x = np.arange(3)\n",
    "x"
   ]
  },
  {
   "cell_type": "code",
   "execution_count": 24,
   "id": "32922aff-7957-4acf-a404-363905a978a3",
   "metadata": {},
   "outputs": [
    {
     "data": {
      "text/plain": [
       "array([[0],\n",
       "       [1],\n",
       "       [2]])"
      ]
     },
     "execution_count": 24,
     "metadata": {},
     "output_type": "execute_result"
    }
   ],
   "source": [
    "x[:, newaxis]"
   ]
  },
  {
   "cell_type": "code",
   "execution_count": 25,
   "id": "8fb7a4bf-d475-449f-8bd3-14d92be87b14",
   "metadata": {},
   "outputs": [
    {
     "data": {
      "text/plain": [
       "array([[[0]],\n",
       "\n",
       "       [[1]],\n",
       "\n",
       "       [[2]]])"
      ]
     },
     "execution_count": 25,
     "metadata": {},
     "output_type": "execute_result"
    }
   ],
   "source": [
    "x[:, newaxis, newaxis]"
   ]
  },
  {
   "cell_type": "code",
   "execution_count": 26,
   "id": "5bfcb533-c371-44d6-b223-918fd602b5c8",
   "metadata": {},
   "outputs": [
    {
     "data": {
      "text/plain": [
       "array([[0, 0, 0],\n",
       "       [0, 1, 2],\n",
       "       [0, 2, 4]])"
      ]
     },
     "execution_count": 26,
     "metadata": {},
     "output_type": "execute_result"
    }
   ],
   "source": [
    "x[:, newaxis] * x"
   ]
  },
  {
   "cell_type": "markdown",
   "id": "95a3d129-8d7e-4422-a64b-be331a43d43b",
   "metadata": {},
   "source": [
    "Let try to use `newaxis` with `column_stack` and `row_stack`"
   ]
  },
  {
   "cell_type": "code",
   "execution_count": 27,
   "id": "2c509285-ed6a-4f87-a093-dd757efefc72",
   "metadata": {},
   "outputs": [
    {
     "data": {
      "text/plain": [
       "(array([0, 1, 2]), array([0, 1, 2]))"
      ]
     },
     "execution_count": 27,
     "metadata": {},
     "output_type": "execute_result"
    }
   ],
   "source": [
    "x = np.arange(3)\n",
    "y = np.arange(3)\n",
    "x, y"
   ]
  },
  {
   "cell_type": "code",
   "execution_count": 37,
   "id": "be5cc486-829d-4a10-b0a0-e1b38e42183e",
   "metadata": {},
   "outputs": [
    {
     "data": {
      "text/plain": [
       "(array([[0],\n",
       "        [1],\n",
       "        [2]]),\n",
       " array([[0],\n",
       "        [1],\n",
       "        [2]]))"
      ]
     },
     "execution_count": 37,
     "metadata": {},
     "output_type": "execute_result"
    }
   ],
   "source": [
    "x[:, newaxis], y[:, newaxis]"
   ]
  },
  {
   "cell_type": "code",
   "execution_count": 36,
   "id": "fdcf80c4-42c1-4d43-9da8-ba9b6091ff71",
   "metadata": {},
   "outputs": [
    {
     "data": {
      "text/plain": [
       "(array([[0, 0],\n",
       "        [1, 1],\n",
       "        [2, 2]]),\n",
       " (3, 2))"
      ]
     },
     "execution_count": 36,
     "metadata": {},
     "output_type": "execute_result"
    }
   ],
   "source": [
    "cstk = np.column_stack((x, y))\n",
    "cstk, cstk.shape"
   ]
  },
  {
   "cell_type": "code",
   "execution_count": 38,
   "id": "a22e0e51-ba38-41c9-a268-412cccb8dfcc",
   "metadata": {},
   "outputs": [
    {
     "data": {
      "text/plain": [
       "(array([[0, 0],\n",
       "        [1, 1],\n",
       "        [2, 2]]),\n",
       " (3, 2))"
      ]
     },
     "execution_count": 38,
     "metadata": {},
     "output_type": "execute_result"
    }
   ],
   "source": [
    "cstk2 = np.column_stack((x[: newaxis], y[:, newaxis]))\n",
    "cstk2, cstk2.shape"
   ]
  },
  {
   "cell_type": "code",
   "execution_count": 33,
   "id": "9ee30947-f973-488d-9ef6-18abac8c17ce",
   "metadata": {},
   "outputs": [
    {
     "data": {
      "text/plain": [
       "(array([[0, 1, 2],\n",
       "        [0, 1, 2]]),\n",
       " (2, 3))"
      ]
     },
     "execution_count": 33,
     "metadata": {},
     "output_type": "execute_result"
    }
   ],
   "source": [
    "rstk = np.row_stack((x, y))\n",
    "rstk, rstk.shape"
   ]
  },
  {
   "cell_type": "code",
   "execution_count": 35,
   "id": "9647efb3-c0cf-4d1a-aa4e-8f95606d376e",
   "metadata": {},
   "outputs": [
    {
     "data": {
      "text/plain": [
       "(array([[0],\n",
       "        [1],\n",
       "        [2],\n",
       "        [0],\n",
       "        [1],\n",
       "        [2]]),\n",
       " (6, 1))"
      ]
     },
     "execution_count": 35,
     "metadata": {},
     "output_type": "execute_result"
    }
   ],
   "source": [
    "rstk2 = np.row_stack((x[:, newaxis], y[:, newaxis]))\n",
    "rstk2, rstk2.shape"
   ]
  },
  {
   "cell_type": "markdown",
   "id": "53062acf-ce4f-4072-bd29-3de10a65e975",
   "metadata": {},
   "source": [
    "Outer product, same as `outer(x, y)`:"
   ]
  },
  {
   "cell_type": "code",
   "execution_count": 41,
   "id": "17bafc46-e50c-495c-bf9b-5d163d456a5c",
   "metadata": {},
   "outputs": [],
   "source": [
    "x = np.arange(3)\n",
    "y = np.arange(3, 6)"
   ]
  },
  {
   "cell_type": "code",
   "execution_count": 43,
   "id": "336e6fb3-afb4-4ccb-a101-cc459e7cddea",
   "metadata": {},
   "outputs": [
    {
     "data": {
      "text/plain": [
       "array([[ 0,  0,  0],\n",
       "       [ 3,  4,  5],\n",
       "       [ 6,  8, 10]])"
      ]
     },
     "execution_count": 43,
     "metadata": {},
     "output_type": "execute_result"
    }
   ],
   "source": [
    "x[:, newaxis] * y"
   ]
  },
  {
   "cell_type": "markdown",
   "id": "1866e763-0043-4d1b-b3cf-34bf208cda97",
   "metadata": {},
   "source": [
    "`x[newaxis, :]` is equivalent to `x[newaxis]` and `x[None]`:"
   ]
  },
  {
   "cell_type": "code",
   "execution_count": 44,
   "id": "f4b413c6-f1ca-43b4-9da3-a29cef618745",
   "metadata": {},
   "outputs": [
    {
     "data": {
      "text/plain": [
       "(1, 3)"
      ]
     },
     "execution_count": 44,
     "metadata": {},
     "output_type": "execute_result"
    }
   ],
   "source": [
    "x[newaxis, :].shape"
   ]
  },
  {
   "cell_type": "code",
   "execution_count": null,
   "id": "74acf378-edf2-4bca-847a-ee6c9e3b6567",
   "metadata": {},
   "outputs": [],
   "source": []
  }
 ],
 "metadata": {
  "kernelspec": {
   "display_name": "artofai",
   "language": "python",
   "name": "artofai"
  },
  "language_info": {
   "codemirror_mode": {
    "name": "ipython",
    "version": 3
   },
   "file_extension": ".py",
   "mimetype": "text/x-python",
   "name": "python",
   "nbconvert_exporter": "python",
   "pygments_lexer": "ipython3",
   "version": "3.12.0"
  }
 },
 "nbformat": 4,
 "nbformat_minor": 5
}
