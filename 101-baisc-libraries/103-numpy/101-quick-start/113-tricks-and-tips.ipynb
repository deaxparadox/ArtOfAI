{
 "cells": [
  {
   "cell_type": "code",
   "execution_count": 2,
   "id": "7a99ed7e-cf7a-4a01-9ee3-be926f7a42ce",
   "metadata": {},
   "outputs": [],
   "source": [
    "import numpy as np"
   ]
  },
  {
   "cell_type": "markdown",
   "id": "b722053e-4256-480e-9980-b0feba02d4b7",
   "metadata": {},
   "source": [
    "### \"Automatic\" reshaping"
   ]
  },
  {
   "cell_type": "markdown",
   "id": "f842224c-9e55-479e-bf70-27870bf3909d",
   "metadata": {},
   "source": [
    "To change the dimensions of an array, you can omit one of the sizes which will then be deduced automtaically:"
   ]
  },
  {
   "cell_type": "code",
   "execution_count": 3,
   "id": "f84264cb-a54e-43d8-9d3d-c200aed7793e",
   "metadata": {},
   "outputs": [],
   "source": [
    "a = np.arange(30)"
   ]
  },
  {
   "cell_type": "code",
   "execution_count": 6,
   "id": "de91c458-b17f-45fc-bb85-6df5da82f609",
   "metadata": {},
   "outputs": [],
   "source": [
    "# -1 means \"whatever is needed\"\n",
    "b = a.reshape((2, 1, -3))"
   ]
  },
  {
   "cell_type": "code",
   "execution_count": 7,
   "id": "88cc7925-ca1f-4744-97df-9c6e597e8d6c",
   "metadata": {},
   "outputs": [
    {
     "data": {
      "text/plain": [
       "(2, 1, 15)"
      ]
     },
     "execution_count": 7,
     "metadata": {},
     "output_type": "execute_result"
    }
   ],
   "source": [
    "b.shape"
   ]
  },
  {
   "cell_type": "code",
   "execution_count": 9,
   "id": "b6756f4c-e2d6-439d-b7f2-131c89b49398",
   "metadata": {},
   "outputs": [
    {
     "data": {
      "text/plain": [
       "array([[[ 0,  1,  2,  3,  4,  5,  6,  7,  8,  9, 10, 11, 12, 13, 14]],\n",
       "\n",
       "       [[15, 16, 17, 18, 19, 20, 21, 22, 23, 24, 25, 26, 27, 28, 29]]])"
      ]
     },
     "execution_count": 9,
     "metadata": {},
     "output_type": "execute_result"
    }
   ],
   "source": [
    "b"
   ]
  },
  {
   "cell_type": "markdown",
   "id": "e6a33532-0519-45e8-b6a0-7c7512631e92",
   "metadata": {},
   "source": [
    "### Vector stacking"
   ]
  },
  {
   "cell_type": "markdown",
   "id": "c0b323ad-8d29-4d8e-b4fd-8deae8576ef9",
   "metadata": {},
   "source": [
    "Construct a 2D array from a list of equally-sized row vectors?\n",
    "\n",
    "In NumPy this works via the functions `column_stack`, `dstack`, `hstack`, and `vstack`, depending on the dimensions in which the stacking is to be done. For example:"
   ]
  },
  {
   "cell_type": "code",
   "execution_count": 10,
   "id": "04ad3150-7440-452d-8ef9-31590ab45210",
   "metadata": {},
   "outputs": [],
   "source": [
    "x = np.arange(0, 10, 2)"
   ]
  },
  {
   "cell_type": "code",
   "execution_count": 11,
   "id": "e4312ac7-275a-420e-9395-315bf1702450",
   "metadata": {},
   "outputs": [],
   "source": [
    "y = np.arange(5)"
   ]
  },
  {
   "cell_type": "code",
   "execution_count": 12,
   "id": "15a75db2-53bd-43d1-b953-642fa9abac75",
   "metadata": {},
   "outputs": [],
   "source": [
    "m = np.vstack([x, y])"
   ]
  },
  {
   "cell_type": "code",
   "execution_count": 13,
   "id": "cee8b8cc-916b-4fec-a48f-b41f25746943",
   "metadata": {},
   "outputs": [
    {
     "data": {
      "text/plain": [
       "array([[0, 2, 4, 6, 8],\n",
       "       [0, 1, 2, 3, 4]])"
      ]
     },
     "execution_count": 13,
     "metadata": {},
     "output_type": "execute_result"
    }
   ],
   "source": [
    "m"
   ]
  },
  {
   "cell_type": "code",
   "execution_count": 15,
   "id": "790333f0-e816-4dcd-be7a-be3cc1533213",
   "metadata": {},
   "outputs": [],
   "source": [
    "xy = np.hstack([x, y])"
   ]
  },
  {
   "cell_type": "code",
   "execution_count": 16,
   "id": "e80d2463-9db3-4cec-b255-f5590131c59a",
   "metadata": {},
   "outputs": [
    {
     "data": {
      "text/plain": [
       "array([0, 2, 4, 6, 8, 0, 1, 2, 3, 4])"
      ]
     },
     "execution_count": 16,
     "metadata": {},
     "output_type": "execute_result"
    }
   ],
   "source": [
    "xy"
   ]
  },
  {
   "cell_type": "markdown",
   "id": "02835cc9-e37e-464c-a215-5dea4b4b5086",
   "metadata": {},
   "source": [
    "### Histograms"
   ]
  },
  {
   "cell_type": "markdown",
   "id": "548b0014-a9b0-43fe-90a4-9c375b436fbb",
   "metadata": {},
   "source": [
    "The NumPy `histograms function applied to an array returns a pair of vectors: the histogram of the array and a vector of the bin edges.\n",
    "\n",
    "`matplotlib` also has a function to build histograms (called `hist`, as in Matlab) that differs from the one in NumPy. \n",
    "\n",
    "The main difference is that `pylab.hist` plots the histograms automatically, while `numpy.histogram` only generates the data."
   ]
  },
  {
   "cell_type": "code",
   "execution_count": 17,
   "id": "a7fbe150-9b6c-4598-8e5a-1b6caf4b0ad2",
   "metadata": {},
   "outputs": [],
   "source": [
    "rg = np.random.default_rng(1)"
   ]
  },
  {
   "cell_type": "code",
   "execution_count": 18,
   "id": "fec3e8db-4a37-48f7-b3d1-a4aaf7333185",
   "metadata": {},
   "outputs": [],
   "source": [
    "import matplotlib.pyplot as plt"
   ]
  },
  {
   "cell_type": "code",
   "execution_count": 19,
   "id": "49b8cf48-834f-4736-8e32-84554e95da72",
   "metadata": {},
   "outputs": [],
   "source": [
    "# Build a vector of 10000 normal deviates with variance 0.5^2 and mean 2\n",
    "mu, sigma = 2, 0.5"
   ]
  },
  {
   "cell_type": "code",
   "execution_count": 20,
   "id": "d17f5082-85fa-4c81-a224-065fdc28e8cd",
   "metadata": {},
   "outputs": [],
   "source": [
    "v = rg.normal(mu, sigma, 10000)"
   ]
  },
  {
   "cell_type": "code",
   "execution_count": 21,
   "id": "a0501577-9ccc-4736-bf47-8525481bea10",
   "metadata": {},
   "outputs": [
    {
     "data": {
      "text/plain": [
       "(array([0.00128706, 0.00257412, 0.00257412, 0.00257412, 0.00772237,\n",
       "        0.00900943, 0.01415767, 0.03861183, 0.04247301, 0.03989889,\n",
       "        0.05663068, 0.08623308, 0.13900258, 0.16088261, 0.24454157,\n",
       "        0.30117225, 0.34750645, 0.41700774, 0.51997261, 0.60234451,\n",
       "        0.68214229, 0.69501289, 0.78768128, 0.73619884, 0.79540365,\n",
       "        0.78896834, 0.72976354, 0.7014482 , 0.69501289, 0.60749275,\n",
       "        0.57660329, 0.4478972 , 0.39126652, 0.28186634, 0.24196745,\n",
       "        0.20592975, 0.13385434, 0.10425193, 0.07851072, 0.04762125,\n",
       "        0.0296024 , 0.03217652, 0.01029649, 0.00900943, 0.0064353 ,\n",
       "        0.00772237, 0.00514824, 0.00128706, 0.00257412, 0.00128706]),\n",
       " array([0.08106893, 0.15876533, 0.23646173, 0.31415813, 0.39185453,\n",
       "        0.46955093, 0.54724733, 0.62494373, 0.70264013, 0.78033653,\n",
       "        0.85803293, 0.93572933, 1.01342573, 1.09112213, 1.16881853,\n",
       "        1.24651493, 1.32421133, 1.40190773, 1.47960413, 1.55730053,\n",
       "        1.63499693, 1.71269333, 1.79038973, 1.86808613, 1.94578253,\n",
       "        2.02347893, 2.10117533, 2.17887173, 2.25656814, 2.33426454,\n",
       "        2.41196094, 2.48965734, 2.56735374, 2.64505014, 2.72274654,\n",
       "        2.80044294, 2.87813934, 2.95583574, 3.03353214, 3.11122854,\n",
       "        3.18892494, 3.26662134, 3.34431774, 3.42201414, 3.49971054,\n",
       "        3.57740694, 3.65510334, 3.73279974, 3.81049614, 3.88819254,\n",
       "        3.96588894]),\n",
       " <BarContainer object of 50 artists>)"
      ]
     },
     "execution_count": 21,
     "metadata": {},
     "output_type": "execute_result"
    },
    {
     "data": {
      "image/png": "[encoded data removed]",
      "text/plain": [
       "<Figure size 640x480 with 1 Axes>"
      ]
     },
     "metadata": {},
     "output_type": "display_data"
    }
   ],
   "source": [
    "# Plot a normalized histogram with 50 bins\n",
    "plt.hist(v, bins=50, density=True)              # matploglib version (plot)"
   ]
  },
  {
   "cell_type": "code",
   "execution_count": 22,
   "id": "3195ce6d-3800-425c-a541-6938fd1d6c7e",
   "metadata": {},
   "outputs": [],
   "source": [
    "# Computer the histogram with numpy and then plot it\n",
    "(n, bins) = np.histogram(v, bins=50, density=True)        # NumPy version (no plot)"
   ]
  },
  {
   "cell_type": "code",
   "execution_count": 23,
   "id": "26925950-e441-45a4-a0a6-e50c6b42d8e2",
   "metadata": {},
   "outputs": [
    {
     "data": {
      "text/plain": [
       "[<matplotlib.lines.Line2D at 0x20dec3316d0>]"
      ]
     },
     "execution_count": 23,
     "metadata": {},
     "output_type": "execute_result"
    },
    {
     "data": {
      "image/png": "[encoded data removed]",
      "text/plain": [
       "<Figure size 640x480 with 1 Axes>"
      ]
     },
     "metadata": {},
     "output_type": "display_data"
    }
   ],
   "source": [
    "plt.plot(.5 * (bins[1:] + bins[:-1]), n)"
   ]
  },
  {
   "cell_type": "code",
   "execution_count": null,
   "id": "e439157a-8e22-461b-bcf5-f59ce86b67dc",
   "metadata": {},
   "outputs": [],
   "source": []
  },
  {
   "cell_type": "code",
   "execution_count": null,
   "id": "e51e7a02-383c-4f69-831b-64dc61beee3c",
   "metadata": {},
   "outputs": [],
   "source": []
  }
 ],
 "metadata": {
  "kernelspec": {
   "display_name": "artofai",
   "language": "python",
   "name": "artofai"
  },
  "language_info": {
   "codemirror_mode": {
    "name": "ipython",
    "version": 3
   },
   "file_extension": ".py",
   "mimetype": "text/x-python",
   "name": "python",
   "nbconvert_exporter": "python",
   "pygments_lexer": "ipython3",
   "version": "3.11.6"
  }
 },
 "nbformat": 4,
 "nbformat_minor": 5
}
