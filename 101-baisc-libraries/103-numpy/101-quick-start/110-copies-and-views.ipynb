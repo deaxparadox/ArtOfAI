{
 "cells": [
  {
   "cell_type": "code",
   "execution_count": 76,
   "id": "ee68b99e-a544-425e-b125-7ede5880e860",
   "metadata": {},
   "outputs": [],
   "source": [
    "import numpy as np"
   ]
  },
  {
   "cell_type": "code",
   "execution_count": 77,
   "id": "ed565dc8-06d8-4d58-82a0-3fe17058f855",
   "metadata": {},
   "outputs": [],
   "source": [
    "rg = np.random.default_rng()"
   ]
  },
  {
   "cell_type": "markdown",
   "id": "ff4db453-33ba-4084-89ce-18adddd5ef81",
   "metadata": {},
   "source": [
    "# Copies and Views"
   ]
  },
  {
   "cell_type": "markdown",
   "id": "5660a10b-2663-4b47-a22e-3a9f50527cf9",
   "metadata": {},
   "source": [
    "### No Copy at All\n",
    "\n",
    "Simple assignments make no copy of objects or their data."
   ]
  },
  {
   "cell_type": "code",
   "execution_count": 78,
   "id": "086c6b45-d516-48b8-8b18-6004fb3ee0df",
   "metadata": {},
   "outputs": [],
   "source": [
    "a = np.array(\n",
    "    [\n",
    "        [0, 1, 2, 3],\n",
    "        [4, 5, 6, 7],\n",
    "        [8, 9, 10, 11]\n",
    "    ]\n",
    ")"
   ]
  },
  {
   "cell_type": "code",
   "execution_count": 79,
   "id": "6eca4dfc-befc-42c6-813f-dd8caf636ad0",
   "metadata": {},
   "outputs": [],
   "source": [
    "# no new object is created\n",
    "b = a"
   ]
  },
  {
   "cell_type": "code",
   "execution_count": 80,
   "id": "4c54e056-1753-446b-a939-86800790fb6e",
   "metadata": {},
   "outputs": [
    {
     "data": {
      "text/plain": [
       "True"
      ]
     },
     "execution_count": 80,
     "metadata": {},
     "output_type": "execute_result"
    }
   ],
   "source": [
    "# a and b are two names for the two ndarray object\n",
    "b is a"
   ]
  },
  {
   "cell_type": "markdown",
   "id": "dace4f72-266b-4fbe-87e1-40949cb11b2e",
   "metadata": {},
   "source": [
    "Python passes mutable objects as references, so function calls make no copy"
   ]
  },
  {
   "cell_type": "code",
   "execution_count": 81,
   "id": "670e995e-a16d-4b10-8165-123fcf243656",
   "metadata": {},
   "outputs": [],
   "source": [
    "def f(x):\n",
    "    print(id(x))"
   ]
  },
  {
   "cell_type": "code",
   "execution_count": 82,
   "id": "226f6465-f678-4d37-bba8-0d878f4a7e27",
   "metadata": {},
   "outputs": [
    {
     "data": {
      "text/plain": [
       "140016736843216"
      ]
     },
     "execution_count": 82,
     "metadata": {},
     "output_type": "execute_result"
    }
   ],
   "source": [
    "# id is a unique identifier of an object\n",
    "id(a)"
   ]
  },
  {
   "cell_type": "code",
   "execution_count": 83,
   "id": "259d442d-d4f2-4e5d-b490-010924de08c2",
   "metadata": {},
   "outputs": [
    {
     "name": "stdout",
     "output_type": "stream",
     "text": [
      "140016736843216\n"
     ]
    }
   ],
   "source": [
    "f(a)"
   ]
  },
  {
   "cell_type": "markdown",
   "id": "546a7a6c-511b-4158-9534-b68039749fb3",
   "metadata": {},
   "source": [
    "### View or Shallow Copy\n",
    "\n",
    "Different array objects can share the same data. \n",
    "\n",
    "The `view` method creates a new array object that looks at the same data."
   ]
  },
  {
   "cell_type": "code",
   "execution_count": 84,
   "id": "66cddb2c-eb1b-47f1-9582-7b0d705e24de",
   "metadata": {},
   "outputs": [],
   "source": [
    "# a = np.arange(15).reshape(3, 5)"
   ]
  },
  {
   "cell_type": "code",
   "execution_count": 85,
   "id": "db5a190f-5ea1-4853-baae-c9d5448e25cf",
   "metadata": {},
   "outputs": [],
   "source": [
    "c = a.view()"
   ]
  },
  {
   "cell_type": "code",
   "execution_count": 86,
   "id": "055c130c-491f-42ab-999e-ff130675f5bd",
   "metadata": {},
   "outputs": [
    {
     "data": {
      "text/plain": [
       "array([[ 0,  1,  2,  3],\n",
       "       [ 4,  5,  6,  7],\n",
       "       [ 8,  9, 10, 11]])"
      ]
     },
     "execution_count": 86,
     "metadata": {},
     "output_type": "execute_result"
    }
   ],
   "source": [
    "c"
   ]
  },
  {
   "cell_type": "code",
   "execution_count": 87,
   "id": "48c03db8-776d-4a15-89eb-8997f4299565",
   "metadata": {},
   "outputs": [
    {
     "data": {
      "text/plain": [
       "False"
      ]
     },
     "execution_count": 87,
     "metadata": {},
     "output_type": "execute_result"
    }
   ],
   "source": [
    "c is a"
   ]
  },
  {
   "cell_type": "code",
   "execution_count": 88,
   "id": "31942566-7991-4f6f-8b64-bf01b39bf6e5",
   "metadata": {},
   "outputs": [
    {
     "data": {
      "text/plain": [
       "False"
      ]
     },
     "execution_count": 88,
     "metadata": {},
     "output_type": "execute_result"
    }
   ],
   "source": [
    "# c is view of the data owned by a\n",
    "\n",
    "c.base is True"
   ]
  },
  {
   "cell_type": "code",
   "execution_count": 89,
   "id": "534d7f03-716e-4d80-8370-00eb44ed1c7f",
   "metadata": {},
   "outputs": [
    {
     "data": {
      "text/plain": [
       "(2, 6)"
      ]
     },
     "execution_count": 89,
     "metadata": {},
     "output_type": "execute_result"
    }
   ],
   "source": [
    "# a's shape doesn't change\n",
    "\n",
    "c = c.reshape((2, 6))\n",
    "c.shape"
   ]
  },
  {
   "cell_type": "code",
   "execution_count": 90,
   "id": "3cdca071-f597-4eae-9694-bd6d3b6d3154",
   "metadata": {},
   "outputs": [
    {
     "data": {
      "text/plain": [
       "(3, 4)"
      ]
     },
     "execution_count": 90,
     "metadata": {},
     "output_type": "execute_result"
    }
   ],
   "source": [
    "a.shape"
   ]
  },
  {
   "cell_type": "code",
   "execution_count": 91,
   "id": "010b1dad-0771-4466-8a82-ba190e19627b",
   "metadata": {},
   "outputs": [
    {
     "data": {
      "text/plain": [
       "array([[   0,    1,    2,    3, 1234,    5],\n",
       "       [   6,    7,    8,    9,   10,   11]])"
      ]
     },
     "execution_count": 91,
     "metadata": {},
     "output_type": "execute_result"
    }
   ],
   "source": [
    "# a's data doesn't change\n",
    "\n",
    "c[0, 4] = 1234\n",
    "c"
   ]
  },
  {
   "cell_type": "code",
   "execution_count": 92,
   "id": "a60800d3-46cf-4a6a-8cac-6c61e4668988",
   "metadata": {},
   "outputs": [
    {
     "data": {
      "text/plain": [
       "array([[   0,    1,    2,    3],\n",
       "       [1234,    5,    6,    7],\n",
       "       [   8,    9,   10,   11]])"
      ]
     },
     "execution_count": 92,
     "metadata": {},
     "output_type": "execute_result"
    }
   ],
   "source": [
    "a"
   ]
  },
  {
   "cell_type": "markdown",
   "id": "ac524832-2553-448c-be4b-4dd3997a8b80",
   "metadata": {},
   "source": [
    "Slicing an array returns a view of it:"
   ]
  },
  {
   "cell_type": "code",
   "execution_count": 93,
   "id": "213dcdce-1d14-4a9f-b72c-809c0071509a",
   "metadata": {},
   "outputs": [
    {
     "data": {
      "text/plain": [
       "array([[ 1,  2],\n",
       "       [ 5,  6],\n",
       "       [ 9, 10]])"
      ]
     },
     "execution_count": 93,
     "metadata": {},
     "output_type": "execute_result"
    }
   ],
   "source": [
    "s = a[:, 1:3]\n",
    "s"
   ]
  },
  {
   "cell_type": "code",
   "execution_count": 94,
   "id": "16ee33ad-a053-4ecd-b727-d129c3a825ea",
   "metadata": {},
   "outputs": [
    {
     "data": {
      "text/plain": [
       "array([[10, 10],\n",
       "       [10, 10],\n",
       "       [10, 10]])"
      ]
     },
     "execution_count": 94,
     "metadata": {},
     "output_type": "execute_result"
    }
   ],
   "source": [
    "# s[:] is a view of s.\n",
    "\n",
    "s[:] = 10\n",
    "s"
   ]
  },
  {
   "cell_type": "code",
   "execution_count": 95,
   "id": "b079d271-4d35-47d1-b526-aa0480619302",
   "metadata": {},
   "outputs": [
    {
     "data": {
      "text/plain": [
       "array([[   0,   10,   10,    3],\n",
       "       [1234,   10,   10,    7],\n",
       "       [   8,   10,   10,   11]])"
      ]
     },
     "execution_count": 95,
     "metadata": {},
     "output_type": "execute_result"
    }
   ],
   "source": [
    "a"
   ]
  },
  {
   "cell_type": "markdown",
   "id": "41672bf8-5ed9-492f-b3a0-7bd4a016e7c5",
   "metadata": {},
   "source": [
    "### Deep Copy\n",
    "\n",
    "The `copy` method makes a complete copy of the array and its data."
   ]
  },
  {
   "cell_type": "code",
   "execution_count": 96,
   "id": "70fdca6e-98d2-408e-8822-0b9999555338",
   "metadata": {},
   "outputs": [],
   "source": [
    "# a new array object with new data is created.\n",
    "\n",
    "d = a.copy()"
   ]
  },
  {
   "cell_type": "code",
   "execution_count": 97,
   "id": "1284967c-815c-440c-bb60-b49625c4e204",
   "metadata": {},
   "outputs": [
    {
     "data": {
      "text/plain": [
       "False"
      ]
     },
     "execution_count": 97,
     "metadata": {},
     "output_type": "execute_result"
    }
   ],
   "source": [
    "d is a"
   ]
  },
  {
   "cell_type": "code",
   "execution_count": 98,
   "id": "583b5eeb-de7f-42fb-828c-6315edbf7606",
   "metadata": {},
   "outputs": [
    {
     "data": {
      "text/plain": [
       "False"
      ]
     },
     "execution_count": 98,
     "metadata": {},
     "output_type": "execute_result"
    }
   ],
   "source": [
    "# d doesn't share anything with a\n",
    "\n",
    "d.base is a"
   ]
  },
  {
   "cell_type": "code",
   "execution_count": 99,
   "id": "520a5bb2-23a9-4e72-96e8-b1cc0775f00d",
   "metadata": {},
   "outputs": [],
   "source": [
    "d[0, 0] = 9999"
   ]
  },
  {
   "cell_type": "code",
   "execution_count": 100,
   "id": "0a948843-e232-41b8-ac05-e26864957bd1",
   "metadata": {},
   "outputs": [
    {
     "data": {
      "text/plain": [
       "array([[   0,   10,   10,    3],\n",
       "       [1234,   10,   10,    7],\n",
       "       [   8,   10,   10,   11]])"
      ]
     },
     "execution_count": 100,
     "metadata": {},
     "output_type": "execute_result"
    }
   ],
   "source": [
    "a"
   ]
  },
  {
   "cell_type": "markdown",
   "id": "8ad32ed8-c90a-4ab8-aff1-da3b7b5539f3",
   "metadata": {},
   "source": [
    "Sometimes `copy` should be called after slicing if the original array is not required anymore.\n",
    "\n",
    "For example, suppose `a` is a huge intermidate result and the final result `b` only contains a small fraction of `a`, a deep copy should be made when constructing `b` with slicing:"
   ]
  },
  {
   "cell_type": "code",
   "execution_count": 101,
   "id": "e932f080-879a-497d-92b9-7f1f46df898e",
   "metadata": {},
   "outputs": [
    {
     "data": {
      "text/plain": [
       "array([       0,        1,        2, ..., 99999997, 99999998, 99999999])"
      ]
     },
     "execution_count": 101,
     "metadata": {},
     "output_type": "execute_result"
    }
   ],
   "source": [
    "a = np.arange(int(1e8))\n",
    "a"
   ]
  },
  {
   "cell_type": "code",
   "execution_count": 103,
   "id": "78f9f274-215c-48d7-8dff-34de75884056",
   "metadata": {},
   "outputs": [
    {
     "data": {
      "text/plain": [
       "array([ 0,  1,  2,  3,  4,  5,  6,  7,  8,  9, 10, 11, 12, 13, 14, 15, 16,\n",
       "       17, 18, 19, 20, 21, 22, 23, 24, 25, 26, 27, 28, 29, 30, 31, 32, 33,\n",
       "       34, 35, 36, 37, 38, 39, 40, 41, 42, 43, 44, 45, 46, 47, 48, 49, 50,\n",
       "       51, 52, 53, 54, 55, 56, 57, 58, 59, 60, 61, 62, 63, 64, 65, 66, 67,\n",
       "       68, 69, 70, 71, 72, 73, 74, 75, 76, 77, 78, 79, 80, 81, 82, 83, 84,\n",
       "       85, 86, 87, 88, 89, 90, 91, 92, 93, 94, 95, 96, 97, 98, 99])"
      ]
     },
     "execution_count": 103,
     "metadata": {},
     "output_type": "execute_result"
    }
   ],
   "source": [
    "b = a[:100].copy()\n",
    "b"
   ]
  },
  {
   "cell_type": "code",
   "execution_count": 104,
   "id": "ddfcf2bf-e5c8-4b3e-8051-d7f5913ab251",
   "metadata": {},
   "outputs": [],
   "source": [
    "# delet the memory of a\n",
    "\n",
    "del a"
   ]
  },
  {
   "cell_type": "markdown",
   "id": "aef7c003-a5a4-4130-8e07-e04757a84529",
   "metadata": {},
   "source": [
    "If `b = a[:100]` is used instead, `a` is referenced by `b` and will persist in memory even if `del a` is executed."
   ]
  },
  {
   "cell_type": "code",
   "execution_count": null,
   "id": "2386b8cb-330d-4062-86ee-17a8845b30ed",
   "metadata": {},
   "outputs": [],
   "source": []
  },
  {
   "cell_type": "code",
   "execution_count": null,
   "id": "d6b647ac-1758-49aa-ac43-4048933e95bd",
   "metadata": {},
   "outputs": [],
   "source": []
  }
 ],
 "metadata": {
  "kernelspec": {
   "display_name": "artofai",
   "language": "python",
   "name": "artofai"
  },
  "language_info": {
   "codemirror_mode": {
    "name": "ipython",
    "version": 3
   },
   "file_extension": ".py",
   "mimetype": "text/x-python",
   "name": "python",
   "nbconvert_exporter": "python",
   "pygments_lexer": "ipython3",
   "version": "3.12.0"
  }
 },
 "nbformat": 4,
 "nbformat_minor": 5
}
