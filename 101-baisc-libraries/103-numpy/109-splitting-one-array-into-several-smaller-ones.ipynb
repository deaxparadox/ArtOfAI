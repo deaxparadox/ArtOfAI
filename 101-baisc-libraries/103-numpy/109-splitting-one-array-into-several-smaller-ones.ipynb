{
 "cells": [
  {
   "cell_type": "code",
   "execution_count": 3,
   "id": "6060bd1d-ad47-4260-bf3d-131403464ff7",
   "metadata": {},
   "outputs": [],
   "source": [
    "import numpy as np"
   ]
  },
  {
   "cell_type": "code",
   "execution_count": 4,
   "id": "31bdc323-0af5-4015-99c9-ecaf56e71dce",
   "metadata": {},
   "outputs": [],
   "source": [
    "rg = np.random.default_rng()"
   ]
  },
  {
   "cell_type": "code",
   "execution_count": null,
   "id": "e957e006-9076-43af-a55d-4b8314a15f6f",
   "metadata": {},
   "outputs": [],
   "source": []
  },
  {
   "cell_type": "markdown",
   "id": "1e51770c-246c-45a9-a40a-c45531df0f8d",
   "metadata": {},
   "source": [
    "# Splitting one array into several smaller ones"
   ]
  },
  {
   "cell_type": "markdown",
   "id": "377245ff-221b-468d-a440-5128410237a0",
   "metadata": {},
   "source": [
    "### Split"
   ]
  },
  {
   "cell_type": "markdown",
   "id": "603e4ecc-a1f1-467d-8631-362f44db2d13",
   "metadata": {},
   "source": [
    "\n",
    "\n",
    "Split an array into multiple sub-arrays as views into array.\n",
    "\n",
    "**Syntax** \n",
    "\n",
    "```py\n",
    "numpy.split(array, indices_or_sections, axis=0)\n",
    "```\n",
    "\n",
    "#### Parameters:\n",
    "\n",
    "**array**: ***ndarray***\n",
    "\n",
    "- Array to be divided into sub-arrays\n",
    "\n",
    "**indices_or_sections** : ***int or 1-D array***\n",
    "\n",
    "- If *indices_or_sections* is an integer, N, the array will be divided into N equal arrays along *axis*. If such a split is not possible, an error is raised.\n",
    "- If *indices_or_sections* is a 1-D array of sorted integers, the entries indicate where along axis the array is split. For example, `[2, 3]`, would, for `axis=0`, result in\n",
    "    - `array[:2]`\n",
    "    - `array[2:3]`\n",
    "    - `array[3:]`\n",
    "- If an index exceeds the dimension of the array along *axis*, an empty sub-array is returned correspondingly.\n",
    "\n",
    "\n",
    "**axis**: ***int, optional***\n",
    "\n",
    "- The axis along which to split, default is 0.\n",
    "\n",
    "\n",
    "#### Returns\n",
    "\n",
    "**sub-arrays**: ***list of ndarrays***\n",
    "\n",
    "- A list of sub-arrays as views into array.\n",
    "\n",
    "#### Raises\n",
    "\n",
    "**ValueError**\n",
    "\n",
    "- If *indices_or_sections* is given as an integer, but a split does not result in equal division.\n"
   ]
  },
  {
   "cell_type": "code",
   "execution_count": 28,
   "id": "ecd3129b-d9d0-451b-ab49-d752d40ec9d4",
   "metadata": {},
   "outputs": [],
   "source": [
    "x = np.arange(9.0)"
   ]
  },
  {
   "cell_type": "code",
   "execution_count": 30,
   "id": "ca01020d-aeb9-4fce-9abf-f32ec4f7db0a",
   "metadata": {},
   "outputs": [
    {
     "data": {
      "text/plain": [
       "[array([0., 1., 2.]), array([3., 4., 5.]), array([6., 7., 8.])]"
      ]
     },
     "execution_count": 30,
     "metadata": {},
     "output_type": "execute_result"
    }
   ],
   "source": [
    "# Split the array in 3 equal parts\n",
    "\n",
    "np.split(x, 3)"
   ]
  },
  {
   "cell_type": "code",
   "execution_count": 31,
   "id": "cda6ce88-f413-4ead-90c8-19f04517fc32",
   "metadata": {},
   "outputs": [
    {
     "data": {
      "text/plain": [
       "[array([0., 1., 2.]),\n",
       " array([3., 4.]),\n",
       " array([5.]),\n",
       " array([6., 7., 8.]),\n",
       " array([], dtype=float64)]"
      ]
     },
     "execution_count": 31,
     "metadata": {},
     "output_type": "execute_result"
    }
   ],
   "source": [
    "# Split the array on 1-D ndarray\n",
    "\n",
    "np.split(x, [3, 5, 6, 10])"
   ]
  },
  {
   "cell_type": "markdown",
   "id": "b5f6f89b-8740-40a6-b58e-9f4c9aa3cf27",
   "metadata": {},
   "source": [
    "### Horizontal Split"
   ]
  },
  {
   "cell_type": "markdown",
   "id": "043a1cd8-41b1-4541-a51f-a15999714d74",
   "metadata": {},
   "source": [
    "Using `hsplit`, you can split an array along its horizontal axis, either by specifying the number of equally shaped arrays to return, or by specifing the columns after which the division should occur:"
   ]
  },
  {
   "cell_type": "code",
   "execution_count": 6,
   "id": "a156dc7c-13e3-4010-b9ee-0abc2ce41515",
   "metadata": {},
   "outputs": [],
   "source": [
    "a = np.floor(10 * rg.random((2, 12)))"
   ]
  },
  {
   "cell_type": "code",
   "execution_count": 8,
   "id": "172608cd-28b2-4afb-bcbf-b522ebd7b7ac",
   "metadata": {},
   "outputs": [
    {
     "data": {
      "text/plain": [
       "array([[6., 4., 8., 3., 1., 5., 1., 4., 9., 9., 9., 5.],\n",
       "       [9., 9., 6., 8., 7., 0., 4., 1., 7., 8., 6., 0.]])"
      ]
     },
     "execution_count": 8,
     "metadata": {},
     "output_type": "execute_result"
    }
   ],
   "source": [
    "a"
   ]
  },
  {
   "cell_type": "code",
   "execution_count": 9,
   "id": "eb89ed06-c608-4669-851f-f0913a0f06e6",
   "metadata": {},
   "outputs": [
    {
     "data": {
      "text/plain": [
       "[array([[6., 4., 8., 3.],\n",
       "        [9., 9., 6., 8.]]),\n",
       " array([[1., 5., 1., 4.],\n",
       "        [7., 0., 4., 1.]]),\n",
       " array([[9., 9., 9., 5.],\n",
       "        [7., 8., 6., 0.]])]"
      ]
     },
     "execution_count": 9,
     "metadata": {},
     "output_type": "execute_result"
    }
   ],
   "source": [
    "# Split `a` into 3\n",
    "\n",
    "np.hsplit(a, 3)"
   ]
  },
  {
   "cell_type": "code",
   "execution_count": 11,
   "id": "71b0229e-2356-4f51-9df8-436d875be52a",
   "metadata": {},
   "outputs": [
    {
     "data": {
      "text/plain": [
       "[array([[6., 4., 8.],\n",
       "        [9., 9., 6.]]),\n",
       " array([[3.],\n",
       "        [8.]]),\n",
       " array([[1., 5., 1., 4., 9., 9., 9., 5.],\n",
       "        [7., 0., 4., 1., 7., 8., 6., 0.]])]"
      ]
     },
     "execution_count": 11,
     "metadata": {},
     "output_type": "execute_result"
    }
   ],
   "source": [
    "# Split `a` after the third and forth column\n",
    "\n",
    "np.hsplit(a, (3, 4))"
   ]
  },
  {
   "cell_type": "markdown",
   "id": "ba98d383-85f5-4148-8762-e223562b48d4",
   "metadata": {
    "jp-MarkdownHeadingCollapsed": true
   },
   "source": [
    "### Vertical Split"
   ]
  },
  {
   "cell_type": "markdown",
   "id": "a25ae893-72fb-4e3c-a253-217607d3b7be",
   "metadata": {},
   "source": [
    "Split an array into multiple sub-arrays vertically (row-wise).\n",
    "\n",
    "`vsplit` is equivalent to `split` with *axis=0* (default), the array is always split along the first axis regardless of the array dimension."
   ]
  },
  {
   "cell_type": "code",
   "execution_count": 15,
   "id": "396b958d-9176-4b41-9ee3-a7aa4b9fa54e",
   "metadata": {},
   "outputs": [],
   "source": [
    "array = np.floor(10 * rg.random((4, 4)))"
   ]
  },
  {
   "cell_type": "code",
   "execution_count": 16,
   "id": "6f41fdeb-345e-4931-8314-aa123ddee1b4",
   "metadata": {},
   "outputs": [
    {
     "data": {
      "text/plain": [
       "array([[0., 6., 0., 5.],\n",
       "       [6., 1., 7., 8.],\n",
       "       [1., 2., 1., 8.],\n",
       "       [9., 8., 3., 1.]])"
      ]
     },
     "execution_count": 16,
     "metadata": {},
     "output_type": "execute_result"
    }
   ],
   "source": [
    "array"
   ]
  },
  {
   "cell_type": "code",
   "execution_count": 18,
   "id": "25e5361c-af26-4040-b74d-75d09dbab579",
   "metadata": {},
   "outputs": [
    {
     "data": {
      "text/plain": [
       "[array([[0., 6., 0., 5.],\n",
       "        [6., 1., 7., 8.]]),\n",
       " array([[1., 2., 1., 8.],\n",
       "        [9., 8., 3., 1.]])]"
      ]
     },
     "execution_count": 18,
     "metadata": {},
     "output_type": "execute_result"
    }
   ],
   "source": [
    "# spliting the array vertically in 2\n",
    "\n",
    "np.vsplit(array, 2)"
   ]
  },
  {
   "cell_type": "code",
   "execution_count": 21,
   "id": "66562a71-0098-436e-b684-f4c961bc61d8",
   "metadata": {},
   "outputs": [
    {
     "data": {
      "text/plain": [
       "[array([[0., 6., 0., 5.],\n",
       "        [6., 1., 7., 8.],\n",
       "        [1., 2., 1., 8.]]),\n",
       " array([[9., 8., 3., 1.]]),\n",
       " array([], shape=(0, 4), dtype=float64)]"
      ]
     },
     "execution_count": 21,
     "metadata": {},
     "output_type": "execute_result"
    }
   ],
   "source": [
    "# splitting the another array\n",
    "\n",
    "np.vsplit(array, np.array([3, 6]))"
   ]
  },
  {
   "cell_type": "code",
   "execution_count": null,
   "id": "db84d868-8058-4db0-8d96-7aefbecba4ba",
   "metadata": {},
   "outputs": [],
   "source": []
  },
  {
   "cell_type": "code",
   "execution_count": null,
   "id": "b4b70653-5ca5-4961-a3de-3e4697b61459",
   "metadata": {},
   "outputs": [],
   "source": []
  },
  {
   "cell_type": "code",
   "execution_count": null,
   "id": "e9eb0999-5be0-43f3-8b18-1b81ff14bdb9",
   "metadata": {},
   "outputs": [],
   "source": []
  },
  {
   "cell_type": "code",
   "execution_count": null,
   "id": "6cd58ba8-e2c3-4fa6-8199-fce795303415",
   "metadata": {},
   "outputs": [],
   "source": []
  },
  {
   "cell_type": "code",
   "execution_count": null,
   "id": "c7b87372-3b4e-412a-af4b-8a726e7ab255",
   "metadata": {},
   "outputs": [],
   "source": []
  },
  {
   "cell_type": "code",
   "execution_count": null,
   "id": "800ebbcd-b0a4-4ca0-a2d9-89d17ec835c2",
   "metadata": {},
   "outputs": [],
   "source": []
  },
  {
   "cell_type": "code",
   "execution_count": null,
   "id": "887dfde5-fe3a-41f9-9338-848fd735e2a4",
   "metadata": {},
   "outputs": [],
   "source": []
  },
  {
   "cell_type": "code",
   "execution_count": null,
   "id": "e5826a83-8174-409e-9b68-38f7f7b4e6e9",
   "metadata": {},
   "outputs": [],
   "source": []
  },
  {
   "cell_type": "code",
   "execution_count": null,
   "id": "2d394767-75c6-4371-a45d-1f7d70f8d014",
   "metadata": {},
   "outputs": [],
   "source": []
  },
  {
   "cell_type": "code",
   "execution_count": null,
   "id": "b93434b8-b1c4-44c0-b8d6-b9cdeb83132e",
   "metadata": {},
   "outputs": [],
   "source": []
  },
  {
   "cell_type": "code",
   "execution_count": null,
   "id": "a979627c-abce-4664-87a8-f56b80e280ad",
   "metadata": {},
   "outputs": [],
   "source": []
  }
 ],
 "metadata": {
  "kernelspec": {
   "display_name": "artofai",
   "language": "python",
   "name": "artofai"
  },
  "language_info": {
   "codemirror_mode": {
    "name": "ipython",
    "version": 3
   },
   "file_extension": ".py",
   "mimetype": "text/x-python",
   "name": "python",
   "nbconvert_exporter": "python",
   "pygments_lexer": "ipython3",
   "version": "3.11.6"
  }
 },
 "nbformat": 4,
 "nbformat_minor": 5
}
