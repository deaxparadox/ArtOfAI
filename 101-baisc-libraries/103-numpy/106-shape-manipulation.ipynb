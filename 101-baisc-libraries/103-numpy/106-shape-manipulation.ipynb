{
 "cells": [
  {
   "cell_type": "code",
   "execution_count": 2,
   "id": "8e1ddc38-a31f-4ec2-91c6-37a408410ad4",
   "metadata": {},
   "outputs": [],
   "source": [
    "import numpy as np\n",
    "import secrets"
   ]
  },
  {
   "cell_type": "markdown",
   "id": "e9771ee0-3906-4e7e-8a49-1929d4a93d23",
   "metadata": {},
   "source": [
    "# Shape Manipulation"
   ]
  },
  {
   "cell_type": "markdown",
   "id": "714919e4-852c-4afc-bce7-fcb71f462d94",
   "metadata": {},
   "source": [
    "### Changing the shape of an array"
   ]
  },
  {
   "cell_type": "markdown",
   "id": "58af1b8c-7168-4d5b-ba00-1760fbb213da",
   "metadata": {},
   "source": [
    "An array has a shape given by the number of elements along each axis:"
   ]
  },
  {
   "cell_type": "code",
   "execution_count": 3,
   "id": "a5b94d26-9a65-4e6e-9c96-44a7c26708b7",
   "metadata": {},
   "outputs": [],
   "source": [
    "rg = np.random.default_rng(1)"
   ]
  },
  {
   "cell_type": "code",
   "execution_count": 5,
   "id": "c6bf48b7-2ede-4914-9724-b5eb677d9d06",
   "metadata": {},
   "outputs": [
    {
     "data": {
      "text/plain": [
       "array([[3., 7., 3., 4.],\n",
       "       [1., 4., 2., 2.],\n",
       "       [7., 2., 4., 9.]])"
      ]
     },
     "execution_count": 5,
     "metadata": {},
     "output_type": "execute_result"
    }
   ],
   "source": [
    "a = np.floor(10 * rg.random((3, 4)))\n",
    "a"
   ]
  },
  {
   "cell_type": "code",
   "execution_count": 6,
   "id": "c5a3717a-2a4f-4558-bb83-5ab4645d13cc",
   "metadata": {},
   "outputs": [
    {
     "data": {
      "text/plain": [
       "(3, 4)"
      ]
     },
     "execution_count": 6,
     "metadata": {},
     "output_type": "execute_result"
    }
   ],
   "source": [
    "a.shape"
   ]
  },
  {
   "cell_type": "markdown",
   "id": "609bbabc-57c3-4570-a0c5-02db3dc2c3f7",
   "metadata": {},
   "source": [
    "The shape of an array can be changed with various commands. Note that the following three commands all return a modified array, but do not change the original array:"
   ]
  },
  {
   "cell_type": "code",
   "execution_count": 8,
   "id": "412ea481-046a-4aa7-9807-2129c2d2e3de",
   "metadata": {},
   "outputs": [
    {
     "data": {
      "text/plain": [
       "array([3., 7., 3., 4., 1., 4., 2., 2., 7., 2., 4., 9.])"
      ]
     },
     "execution_count": 8,
     "metadata": {},
     "output_type": "execute_result"
    }
   ],
   "source": [
    "# returns the array, flattened\n",
    "a.ravel()"
   ]
  },
  {
   "cell_type": "code",
   "execution_count": 9,
   "id": "585b799c-6ddd-4dc8-8a50-5c1b1662f761",
   "metadata": {},
   "outputs": [
    {
     "data": {
      "text/plain": [
       "array([[3., 7.],\n",
       "       [3., 4.],\n",
       "       [1., 4.],\n",
       "       [2., 2.],\n",
       "       [7., 2.],\n",
       "       [4., 9.]])"
      ]
     },
     "execution_count": 9,
     "metadata": {},
     "output_type": "execute_result"
    }
   ],
   "source": [
    "# returns the array with a modified shape\n",
    "a.reshape(6, 2)"
   ]
  },
  {
   "cell_type": "code",
   "execution_count": 10,
   "id": "2617de62-c09c-4207-ba02-af725255f755",
   "metadata": {},
   "outputs": [
    {
     "data": {
      "text/plain": [
       "array([[3., 1., 7.],\n",
       "       [7., 4., 2.],\n",
       "       [3., 2., 4.],\n",
       "       [4., 2., 9.]])"
      ]
     },
     "execution_count": 10,
     "metadata": {},
     "output_type": "execute_result"
    }
   ],
   "source": [
    "# returns the array, tranposed\n",
    "a.T"
   ]
  },
  {
   "cell_type": "code",
   "execution_count": 11,
   "id": "b116608f-81e9-450e-887a-07838ba78985",
   "metadata": {},
   "outputs": [
    {
     "name": "stdout",
     "output_type": "stream",
     "text": [
      "(4, 3)\n"
     ]
    }
   ],
   "source": [
    "# check the shape of transposed matrix\n",
    "print(a.T.shape)"
   ]
  },
  {
   "cell_type": "code",
   "execution_count": 12,
   "id": "cdf0bcb5-56d8-46c7-8636-8564c6c3d183",
   "metadata": {},
   "outputs": [
    {
     "name": "stdout",
     "output_type": "stream",
     "text": [
      "(3, 4)\n"
     ]
    }
   ],
   "source": [
    "# checking shape of original matrix \n",
    "print(a.shape)"
   ]
  },
  {
   "cell_type": "markdown",
   "id": "465c9594-28e2-4f15-af22-f64408d4b7c7",
   "metadata": {},
   "source": [
    "The `reshape` function returns its argument with a modified shape, wherea's the `ndarray.resize` method modifies the array itself:"
   ]
  },
  {
   "cell_type": "code",
   "execution_count": 13,
   "id": "ef23742e-493b-4c3e-b605-049ef0c6008c",
   "metadata": {},
   "outputs": [
    {
     "data": {
      "text/plain": [
       "array([[3., 7., 3., 4.],\n",
       "       [1., 4., 2., 2.],\n",
       "       [7., 2., 4., 9.]])"
      ]
     },
     "execution_count": 13,
     "metadata": {},
     "output_type": "execute_result"
    }
   ],
   "source": [
    "a"
   ]
  },
  {
   "cell_type": "code",
   "execution_count": 14,
   "id": "3d34cc58-9936-44ee-b2e0-ce0acd2604b2",
   "metadata": {},
   "outputs": [],
   "source": [
    "# ndarray.resize() method modifies the array itself.\n",
    "a.resize((2, 6))"
   ]
  },
  {
   "cell_type": "code",
   "execution_count": 15,
   "id": "64705da0-3389-44e8-8ead-bcff34817ddd",
   "metadata": {},
   "outputs": [
    {
     "data": {
      "text/plain": [
       "array([[3., 7., 3., 4., 1., 4.],\n",
       "       [2., 2., 7., 2., 4., 9.]])"
      ]
     },
     "execution_count": 15,
     "metadata": {},
     "output_type": "execute_result"
    }
   ],
   "source": [
    "a"
   ]
  },
  {
   "cell_type": "markdown",
   "id": "20227f8e-985b-4d16-a841-5d654a06adfa",
   "metadata": {},
   "source": [
    "If a dimension is given as `-1` in a reshaping operation, the other dimensions are automaticaly calculated:"
   ]
  },
  {
   "cell_type": "code",
   "execution_count": 16,
   "id": "3b8110fa-edb1-4b4e-9481-910c3419aaa8",
   "metadata": {},
   "outputs": [
    {
     "data": {
      "text/plain": [
       "array([[3., 7., 3., 4.],\n",
       "       [1., 4., 2., 2.],\n",
       "       [7., 2., 4., 9.]])"
      ]
     },
     "execution_count": 16,
     "metadata": {},
     "output_type": "execute_result"
    }
   ],
   "source": [
    "a.reshape(3, -1)"
   ]
  },
  {
   "cell_type": "code",
   "execution_count": null,
   "id": "6580790a-3739-43ab-b2aa-a5541b0b5dc4",
   "metadata": {},
   "outputs": [],
   "source": []
  }
 ],
 "metadata": {
  "kernelspec": {
   "display_name": "artofai",
   "language": "python",
   "name": "artofai"
  },
  "language_info": {
   "codemirror_mode": {
    "name": "ipython",
    "version": 3
   },
   "file_extension": ".py",
   "mimetype": "text/x-python",
   "name": "python",
   "nbconvert_exporter": "python",
   "pygments_lexer": "ipython3",
   "version": "3.12.0"
  }
 },
 "nbformat": 4,
 "nbformat_minor": 5
}
