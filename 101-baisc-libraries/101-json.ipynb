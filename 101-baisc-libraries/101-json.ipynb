{
 "cells": [
  {
   "cell_type": "markdown",
   "id": "a0954819-26a6-4092-92f1-465121ef5545",
   "metadata": {},
   "source": [
    "# json (JavaScript Object Notation)"
   ]
  },
  {
   "cell_type": "code",
   "execution_count": 1,
   "id": "18b1b922-ebe2-4a3f-98f8-f37598e413af",
   "metadata": {},
   "outputs": [],
   "source": [
    "import json"
   ]
  },
  {
   "cell_type": "markdown",
   "id": "4e8a03f9-03cf-467c-a4d6-6428261ed4ca",
   "metadata": {},
   "source": [
    "JSON is a lightweight data interchange format inspired by JavaScript object literal syntax."
   ]
  },
  {
   "cell_type": "markdown",
   "id": "704f2278-566d-47eb-bab0-a5f9fe228510",
   "metadata": {},
   "source": [
    "### Encoding basic Python object hierarchies:"
   ]
  },
  {
   "cell_type": "code",
   "execution_count": 3,
   "id": "71f0d0d0-e958-4083-b9c7-dc48d11091b4",
   "metadata": {},
   "outputs": [
    {
     "data": {
      "text/plain": [
       "'[\"foo\", {\"bar\": [\"baz\", null, 1.0, 2]}]'"
      ]
     },
     "execution_count": 3,
     "metadata": {},
     "output_type": "execute_result"
    }
   ],
   "source": [
    "json.dumps(['foo', {'bar': ('baz', None, 1.0, 2)}])"
   ]
  },
  {
   "cell_type": "code",
   "execution_count": 4,
   "id": "466349da-7d7f-4f58-8305-5009e25f5b8a",
   "metadata": {},
   "outputs": [
    {
     "name": "stdout",
     "output_type": "stream",
     "text": [
      "\"\\\"foo\\bar\"\n"
     ]
    }
   ],
   "source": [
    "print(json.dumps(\"\\\"foo\\bar\"))"
   ]
  },
  {
   "cell_type": "code",
   "execution_count": 5,
   "id": "2f47a776-2e85-4464-b8a5-302e8d8b1fbe",
   "metadata": {},
   "outputs": [
    {
     "name": "stdout",
     "output_type": "stream",
     "text": [
      "\"\\u1234\"\n"
     ]
    }
   ],
   "source": [
    "print(json.dumps('\\u1234'))"
   ]
  },
  {
   "cell_type": "code",
   "execution_count": 6,
   "id": "2c30ab0b-ca1e-4e87-9f90-10647d043c9d",
   "metadata": {},
   "outputs": [
    {
     "name": "stdout",
     "output_type": "stream",
     "text": [
      "{\"a\": 0, \"b\": 0, \"c\": 0}\n"
     ]
    }
   ],
   "source": [
    "# sorting keys while encoding\n",
    "print(json.dumps({\"c\": 0, \"b\": 0, \"a\": 0}, sort_keys=True))"
   ]
  },
  {
   "cell_type": "code",
   "execution_count": 7,
   "id": "ad2c1415-4660-46ab-a362-b237743748b4",
   "metadata": {},
   "outputs": [
    {
     "data": {
      "text/plain": [
       "'[\"streaming API\"]'"
      ]
     },
     "execution_count": 7,
     "metadata": {},
     "output_type": "execute_result"
    }
   ],
   "source": [
    "from io import StringIO\n",
    "io = StringIO()\n",
    "json.dump(['streaming API'], io)\n",
    "io.getvalue()"
   ]
  },
  {
   "cell_type": "markdown",
   "id": "7745b6f1-0eaf-4028-b437-4db792b809f5",
   "metadata": {},
   "source": [
    "Pretty printing:"
   ]
  },
  {
   "cell_type": "code",
   "execution_count": 9,
   "id": "ba69fd67-7f8d-4247-90dd-38bf3bd1ed86",
   "metadata": {},
   "outputs": [
    {
     "name": "stdout",
     "output_type": "stream",
     "text": [
      "{\n",
      "    \"4\": 5,\n",
      "    \"6\": 7\n",
      "}\n"
     ]
    }
   ],
   "source": [
    "print(json.dumps({'4': 5, '6': 7}, sort_keys=True, indent=4))\n"
   ]
  },
  {
   "cell_type": "code",
   "execution_count": null,
   "id": "8ee9045b-0ece-430c-98b0-db57e292aa7c",
   "metadata": {},
   "outputs": [],
   "source": []
  },
  {
   "cell_type": "markdown",
   "id": "93dac196-7a72-429b-b835-17948caeb4d5",
   "metadata": {},
   "source": [
    "### Decoding a JSON"
   ]
  },
  {
   "cell_type": "code",
   "execution_count": 10,
   "id": "77bdb4c1-57a7-4588-b974-0186c2c17aae",
   "metadata": {},
   "outputs": [
    {
     "data": {
      "text/plain": [
       "['foo', {'bar': ['baz', None, 1.0, 2]}]"
      ]
     },
     "execution_count": 10,
     "metadata": {},
     "output_type": "execute_result"
    }
   ],
   "source": [
    "json.loads('[\"foo\", {\"bar\":[\"baz\", null, 1.0, 2]}]')\n"
   ]
  },
  {
   "cell_type": "code",
   "execution_count": 11,
   "id": "282b9d31-3a29-4e17-b436-f0b50ede573d",
   "metadata": {},
   "outputs": [
    {
     "data": {
      "text/plain": [
       "'\"foo\\x08ar'"
      ]
     },
     "execution_count": 11,
     "metadata": {},
     "output_type": "execute_result"
    }
   ],
   "source": [
    "json.loads('\"\\\\\"foo\\\\bar\"')\n"
   ]
  },
  {
   "cell_type": "code",
   "execution_count": 12,
   "id": "d8002d99-5dc4-4b29-8ae1-c2031bd0bcaa",
   "metadata": {},
   "outputs": [
    {
     "data": {
      "text/plain": [
       "['streaming API']"
      ]
     },
     "execution_count": 12,
     "metadata": {},
     "output_type": "execute_result"
    }
   ],
   "source": [
    "from io import StringIO\n",
    "io = StringIO('[\"streaming API\"]')\n",
    "json.load(io)\n",
    "['streaming API']"
   ]
  },
  {
   "cell_type": "code",
   "execution_count": null,
   "id": "2110d633-132d-45ba-b53b-1886e5e6fb1b",
   "metadata": {},
   "outputs": [],
   "source": []
  },
  {
   "cell_type": "code",
   "execution_count": null,
   "id": "096c0360-80f5-41fe-9e0d-caf5a0c25fa1",
   "metadata": {},
   "outputs": [],
   "source": []
  },
  {
   "cell_type": "code",
   "execution_count": null,
   "id": "613330dd-0d26-40a7-90b1-5a9c08210eb6",
   "metadata": {},
   "outputs": [],
   "source": []
  },
  {
   "cell_type": "code",
   "execution_count": null,
   "id": "a255b619-5e3d-4408-ae8c-d1aec97fc27a",
   "metadata": {},
   "outputs": [],
   "source": []
  }
 ],
 "metadata": {
  "kernelspec": {
   "display_name": "Python 3 (ipykernel)",
   "language": "python",
   "name": "python3"
  },
  "language_info": {
   "codemirror_mode": {
    "name": "ipython",
    "version": 3
   },
   "file_extension": ".py",
   "mimetype": "text/x-python",
   "name": "python",
   "nbconvert_exporter": "python",
   "pygments_lexer": "ipython3",
   "version": "3.12.0"
  }
 },
 "nbformat": 4,
 "nbformat_minor": 5
}
