{
 "cells": [
  {
   "cell_type": "code",
   "execution_count": 6,
   "id": "4d6dba7b-2861-4fbc-ac68-528002c87a85",
   "metadata": {},
   "outputs": [],
   "source": [
    "import csv"
   ]
  },
  {
   "cell_type": "markdown",
   "id": "b82929ed-0a61-4f9f-a49b-da37e88e8b8a",
   "metadata": {},
   "source": [
    "The so-called CSV (Comma Separated Values) format is the most common import and export format for spreadsheets and databases."
   ]
  },
  {
   "cell_type": "code",
   "execution_count": 20,
   "id": "5b9fdbaf-bf21-4e58-a944-79936c3891e6",
   "metadata": {},
   "outputs": [],
   "source": [
    "someiterable = [(x, y, z) for x in range(3) for y in range(3, 6) for z in range(7,10)]"
   ]
  },
  {
   "cell_type": "code",
   "execution_count": 25,
   "id": "c3215e19-2b0a-414b-b94b-ff418e1ec213",
   "metadata": {},
   "outputs": [],
   "source": [
    "# writing a simple `some.csv` file\n",
    "import csv\n",
    "with open('some.csv', 'w', newline='') as f:\n",
    "    writer = csv.writer(f)\n",
    "    # writing row heading\n",
    "    writer.writerow(['x','y','z'])\n",
    "    \n",
    "    # writing rows\n",
    "    writer.writerows(someiterable)"
   ]
  },
  {
   "cell_type": "code",
   "execution_count": 17,
   "id": "9abd2e07-5b85-4805-b6bc-0c344c9d6e5c",
   "metadata": {},
   "outputs": [
    {
     "name": "stdout",
     "output_type": "stream",
     "text": [
      "Id,Diagnosis,Radius (mean),Texture (mean),Perimeter (mean),Area (mean),Smoothness (mean),Compactness (mean),Concavity (mean),Concave points (mean),Symmetry (mean),Fractal dimension (mean),Radius (se),Texture (se),Perimeter (se),Area (se),Smoothness (se),Compactness (se),Concavity (se),Concave points (se),Symmetry (se),Fractal dimension (se),Radius (worst),Texture (worst),Perimeter (worst),Area (worst),Smoothness (worst),Compactness (worst),Concavity (worst),Concave points (worst),Symmetry (worst),Fractal dimension (worst)\n"
     ]
    }
   ],
   "source": [
    "# read a `cancer_b` csv file\n",
    "filename = 'cancer_b.csv'\n",
    "with open(filename, mode='r', newline=\"\") as csvfile:\n",
    "    reader = csv.reader(csvfile, delimiter=\",\")\n",
    "    for row in reader:\n",
    "        print(\",\".join(row))\n",
    "        break\n"
   ]
  },
  {
   "cell_type": "code",
   "execution_count": 26,
   "id": "b7e30930-861b-4a60-95a6-42b980c19832",
   "metadata": {},
   "outputs": [],
   "source": [
    "import csv\n",
    "with open('eggs.csv', 'w', newline='') as csvfile:\n",
    "    spamwriter = csv.writer(csvfile, delimiter=' ',\n",
    "                            quotechar='|', quoting=csv.QUOTE_MINIMAL)\n",
    "    spamwriter.writerow(['Spam'] * 5 + ['Baked Beans'])\n",
    "    spamwriter.writerow(['Spam', 'Lovely Spam', 'Wonderful Spam'])"
   ]
  },
  {
   "cell_type": "code",
   "execution_count": null,
   "id": "937782ee-31a5-4737-ac55-037620d70585",
   "metadata": {},
   "outputs": [],
   "source": []
  },
  {
   "cell_type": "code",
   "execution_count": null,
   "id": "a49bdbd4-94d4-4d9f-9e81-398a1944fcc0",
   "metadata": {},
   "outputs": [],
   "source": []
  },
  {
   "cell_type": "code",
   "execution_count": null,
   "id": "d36b63af-d0b1-40ea-b316-591045e025aa",
   "metadata": {},
   "outputs": [],
   "source": []
  },
  {
   "cell_type": "code",
   "execution_count": null,
   "id": "f16598f1-2bd6-4571-8533-db805d835acc",
   "metadata": {},
   "outputs": [],
   "source": []
  },
  {
   "cell_type": "code",
   "execution_count": null,
   "id": "649cd011-5c87-4cab-a55c-f57f89c9fb4d",
   "metadata": {},
   "outputs": [],
   "source": []
  },
  {
   "cell_type": "code",
   "execution_count": null,
   "id": "34e46564-3d3a-4bc9-9464-3c0388bc6f6a",
   "metadata": {},
   "outputs": [],
   "source": []
  },
  {
   "cell_type": "code",
   "execution_count": null,
   "id": "ba7c454c-c955-46dd-9e4c-ad9130d4e070",
   "metadata": {},
   "outputs": [],
   "source": []
  },
  {
   "cell_type": "code",
   "execution_count": null,
   "id": "80147d3e-587a-4658-9680-055c2dfbb30c",
   "metadata": {},
   "outputs": [],
   "source": []
  },
  {
   "cell_type": "code",
   "execution_count": null,
   "id": "df7032a4-7b76-4393-8289-902f0197f266",
   "metadata": {},
   "outputs": [],
   "source": []
  }
 ],
 "metadata": {
  "kernelspec": {
   "display_name": "artofai",
   "language": "python",
   "name": "artofai"
  },
  "language_info": {
   "codemirror_mode": {
    "name": "ipython",
    "version": 3
   },
   "file_extension": ".py",
   "mimetype": "text/x-python",
   "name": "python",
   "nbconvert_exporter": "python",
   "pygments_lexer": "ipython3",
   "version": "3.11.6"
  }
 },
 "nbformat": 4,
 "nbformat_minor": 5
}
