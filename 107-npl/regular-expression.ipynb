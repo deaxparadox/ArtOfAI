{
 "cells": [
  {
   "cell_type": "markdown",
   "metadata": {},
   "source": [
    "# Regular expression\n",
    "\n",
    "\n",
    "- [Simple Patterns](#simple-patterns)\n",
    "    - [[] Square brackets](#1---square-brackets)\n",
    "\n",
    "Regular expressions are essentially a tiny, high specialized programming language embedded inside Python and made available through the `re` module. Using this little language you specify the rules of the set of possible string that you want to match.\n",
    "\n",
    "Regular expression patterns are compiled into a series of bytecodes which are then executed by a matching engine written in C."
   ]
  },
  {
   "cell_type": "markdown",
   "metadata": {},
   "source": [
    "### Simple Patterns\n",
    "\n",
    "Most letters and characters will simply match themselves. For example, the regular expression `test` will match the string `text` exactly. There are metacharacters which doesn't match themselves: `. ^ $ * + ? { } [ ] \\ | ( )`\n",
    "\n",
    "\n",
    "#### 1. [ ] Square brackets\n",
    "\n",
    "The `[` and `]` are used for specifying a character class, which is a set of character you wish to match. Characters can be listed individually, or a range of characters can be indicated by giving two characters and separating them by a `'-'`.\n",
    "\n",
    "Example:\n",
    "\n",
    "`[abc]` will match any of the characters `a`, `b`, and `c`; this is the same as `[a-c]`, which uses a range to express the same set of characters.\n",
    "\n",
    "If you wanted to match only lowercase letters you RE would be `[a-z]`."
   ]
  },
  {
   "cell_type": "code",
   "execution_count": null,
   "metadata": {
    "vscode": {
     "languageId": "plaintext"
    }
   },
   "outputs": [],
   "source": []
  }
 ],
 "metadata": {
  "language_info": {
   "name": "python"
  }
 },
 "nbformat": 4,
 "nbformat_minor": 2
}
