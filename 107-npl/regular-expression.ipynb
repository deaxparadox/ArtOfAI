{
 "cells": [
  {
   "cell_type": "code",
   "execution_count": 1,
   "metadata": {},
   "outputs": [],
   "source": [
    "import re"
   ]
  },
  {
   "cell_type": "markdown",
   "metadata": {},
   "source": [
    "# Regular expression\n",
    "\n",
    "\n",
    "- [Simple Patterns](#simple-patterns)\n",
    "- [Meta characters](#meta-characters)\n",
    "    - [[] Square brackets](#1---square-brackets)\n",
    "- [Special Characters](#special-characters)\n",
    "\n",
    "Regular expressions are essentially a tiny, high specialized programming language embedded inside Python and made available through the `re` module. Using this little language you specify the rules of the set of possible string that you want to match.\n",
    "\n",
    "Regular expression patterns are compiled into a series of bytecodes which are then executed by a matching engine written in C."
   ]
  },
  {
   "cell_type": "markdown",
   "metadata": {},
   "source": [
    "### Simple Patterns\n",
    "\n",
    "Most letters and characters will simply match themselves. For example, the regular expression `test` will match the string `text` exactly. There are metacharacters which doesn't match themselves: `. ^ $ * + ? { } [ ] \\ | ( )`\n"
   ]
  },
  {
   "cell_type": "markdown",
   "metadata": {},
   "source": [
    "### Meta characters"
   ]
  },
  {
   "cell_type": "markdown",
   "metadata": {},
   "source": [
    "#### 1. [ ] Square brackets\n",
    "\n",
    "The `[` and `]` are used for specifying a character class, which is a set of character you wish to match. Characters can be listed individually, or a range of characters can be indicated by giving two characters and separating them by a `'-'`.\n",
    "\n",
    "Example:\n",
    "\n",
    "`[abc]` will match any of the characters `a`, `b`, and `c`; this is the same as `[a-c]`, which uses a range to express the same set of characters.\n",
    "\n",
    "If you wanted to match only lowercase letters you RE would be `[a-z]`."
   ]
  },
  {
   "cell_type": "markdown",
   "metadata": {},
   "source": [
    "#### 2. Caret `^`\n",
    "\n",
    "You can match the characters not listed within the class by *complementing* the set. This is indicated by including a `'^'` as the first character of the class. For example, `[^5]` will match any character except `'5'`. \n",
    "\n",
    "If the caret appears elsewhere in a character class, it does not have special meaning. For example: `[5^]` will match either `'5'` or a `'^'`."
   ]
  },
  {
   "cell_type": "markdown",
   "metadata": {},
   "source": [
    "#### 3. Backlash `\\`\n",
    "\n",
    "The backlash can followed by various characters to signal various special sequences. It's also used to escape all the meta characters so you can still match them in patterns. For example, if you need to match a `[` or `\\`, you can precede them with a backlash to remote their special meaning: `\\[` or `\\\\`."
   ]
  },
  {
   "cell_type": "markdown",
   "metadata": {},
   "source": [
    "### Special Characters\n",
    "\n",
    "- `\\d` Matches any decimal digit; this is equivalent to the class `[0-9]`.\n",
    "\n",
    "- `\\D` Matches any non-digit character; this is equivalent to the class `[^0-9]`.\n",
    "\n",
    "- `\\s` Matches any whitespace character; this is equivalent to the class ` [\\t\\n\\r\\f\\v]`.\n",
    "\n",
    "- `\\S` Matches any non-whitespace character; this is equivalent to the class `^ [\\t\\n\\r\\f\\v]`.\n",
    "\n",
    "- `\\w` Matches any alphanumeric character; this is equivalent to the class `[a-zA-Z0-9_]`.\n",
    "\n",
    "- `\\W` Matches any non-alphanumeric character; this is equivalent to the class `[^a-zA-Z0-9_]`.\n",
    "\n",
    "These sequences can be included inside a character class. For example, `[\\s,.]` is a character class that will match any whitespace character, or `','` or `'.'`.\n"
   ]
  }
 ],
 "metadata": {
  "kernelspec": {
   "display_name": "artofai",
   "language": "python",
   "name": "python3"
  },
  "language_info": {
   "codemirror_mode": {
    "name": "ipython",
    "version": 3
   },
   "file_extension": ".py",
   "mimetype": "text/x-python",
   "name": "python",
   "nbconvert_exporter": "python",
   "pygments_lexer": "ipython3",
   "version": "3.12.0"
  }
 },
 "nbformat": 4,
 "nbformat_minor": 2
}
