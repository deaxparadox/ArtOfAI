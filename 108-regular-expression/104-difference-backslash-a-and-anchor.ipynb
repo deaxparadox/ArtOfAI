{
 "cells": [
  {
   "cell_type": "code",
   "execution_count": 4,
   "metadata": {},
   "outputs": [],
   "source": [
    "import re"
   ]
  },
  {
   "cell_type": "markdown",
   "metadata": {},
   "source": [
    "### Difference `\\A` and `^`\n",
    "\n",
    "1. [Multiline mode off](#multiline-mode-off)\n",
    "2. [Multiline mode on](#multiline-mode-on)\n",
    "\n",
    "\n",
    "##### MULTILINE mode off\n",
    "\n",
    "Both perform similarly, when not in `re.MULTILINE` mode.\n",
    "\n",
    "\n",
    "- Using `^`, only the first occurrence of `From` will be replace with `f`"
   ]
  },
  {
   "cell_type": "code",
   "execution_count": 5,
   "metadata": {},
   "outputs": [
    {
     "name": "stdout",
     "output_type": "stream",
     "text": [
      "f the evidence\n",
      "From the new line\n",
      "Third line.\n"
     ]
    }
   ],
   "source": [
    "# using ^, not in MULTILINE mode\n",
    "\n",
    "text = \"From the evidence\\nFrom the new line\\nThird line.\"\n",
    "pattern = re.compile(r\"^From\")\n",
    "match_obj = pattern.sub(\"f\", text)\n",
    "print(match_obj)"
   ]
  },
  {
   "cell_type": "markdown",
   "metadata": {},
   "source": [
    "- Using `\\A`, only the first occurrence of `From` will be replace with `f`"
   ]
  },
  {
   "cell_type": "code",
   "execution_count": 6,
   "metadata": {},
   "outputs": [
    {
     "name": "stdout",
     "output_type": "stream",
     "text": [
      "f the evidence\n",
      "From the new line\n",
      "Third line.\n"
     ]
    }
   ],
   "source": [
    "# using \\A, not in MULTILINE mode\n",
    "\n",
    "text = \"From the evidence\\nFrom the new line\\nThird line.\"\n",
    "pattern = re.compile(r\"^From\")\n",
    "match_obj = pattern.sub(\"f\", text)\n",
    "print(match_obj)"
   ]
  },
  {
   "cell_type": "markdown",
   "metadata": {},
   "source": [
    "##### MULTILINE mode on\n",
    "\n",
    "\n",
    "- Using `\\A`, in this mode, pattern will work the same, as not in MULTILINE mode. Only the first occurrence of `From` will be replace with `f`."
   ]
  },
  {
   "cell_type": "code",
   "execution_count": null,
   "metadata": {},
   "outputs": [],
   "source": []
  },
  {
   "cell_type": "code",
   "execution_count": 7,
   "metadata": {},
   "outputs": [
    {
     "name": "stdout",
     "output_type": "stream",
     "text": [
      "f the evidence\n",
      "From the new line\n",
      "Third line.\n"
     ]
    }
   ],
   "source": [
    "text = \"From the evidence\\nFrom the new line\\nThird line.\"\n",
    "pattern = re.compile(r\"\\AFrom\", re.MULTILINE)\n",
    "match_obj = pattern.sub(\"f\", text)\n",
    "print(match_obj)"
   ]
  },
  {
   "cell_type": "markdown",
   "metadata": {},
   "source": [
    "- Using `^`, in this mode, pattern will match each line, after the end of line (`\\n`). All the occurence of `From` will will be replace with `f`."
   ]
  },
  {
   "cell_type": "code",
   "execution_count": 8,
   "metadata": {},
   "outputs": [
    {
     "name": "stdout",
     "output_type": "stream",
     "text": [
      "f the evidence\n",
      "f the new line\n",
      "Third line.\n"
     ]
    }
   ],
   "source": [
    "text = \"From the evidence\\nFrom the new line\\nThird line.\"\n",
    "pattern = re.compile(r\"^From\", re.MULTILINE)\n",
    "match_obj = pattern.sub(\"f\", text)\n",
    "print(match_obj)"
   ]
  },
  {
   "cell_type": "code",
   "execution_count": null,
   "metadata": {},
   "outputs": [],
   "source": []
  }
 ],
 "metadata": {
  "kernelspec": {
   "display_name": "artofai",
   "language": "python",
   "name": "python3"
  },
  "language_info": {
   "codemirror_mode": {
    "name": "ipython",
    "version": 3
   },
   "file_extension": ".py",
   "mimetype": "text/x-python",
   "name": "python",
   "nbconvert_exporter": "python",
   "pygments_lexer": "ipython3",
   "version": "3.12.0"
  }
 },
 "nbformat": 4,
 "nbformat_minor": 2
}
