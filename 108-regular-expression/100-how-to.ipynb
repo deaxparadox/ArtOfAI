{
 "cells": [
  {
   "cell_type": "markdown",
   "metadata": {},
   "source": [
    "# How to regular expression?\n",
    "\n",
    "Before moving forward, read the following:\n",
    "\n",
    "- [Predefined character sets >>>](101-predefined-character-set.md)\n",
    "- [Special Metacharacters >>>](102-special-metacharacter.md)\n"
   ]
  },
  {
   "cell_type": "code",
   "execution_count": 1,
   "metadata": {},
   "outputs": [],
   "source": [
    "# importing regular expression module\n",
    "import re"
   ]
  },
  {
   "cell_type": "markdown",
   "metadata": {},
   "source": [
    "# Using regular expression\n",
    "\n",
    "The `re` module provides an interface to the regular expression engine, allowing you to compile REs into objects and then preform matches with them.\n",
    "\n",
    "\n",
    "### Compiling Regular Expressions\n",
    "\n",
    "Regular expressions are compiled into `pattern objects`, which have methods for various operations such as searching for pattern matches or performing string subsitutions."
   ]
  },
  {
   "cell_type": "code",
   "execution_count": 2,
   "metadata": {},
   "outputs": [
    {
     "data": {
      "text/plain": [
       "re.compile(r'ab*', re.UNICODE)"
      ]
     },
     "execution_count": 2,
     "metadata": {},
     "output_type": "execute_result"
    }
   ],
   "source": [
    "p = re.compile('ab*')\n",
    "p"
   ]
  },
  {
   "cell_type": "markdown",
   "metadata": {},
   "source": [
    "The RE is passed to `re.compile()` as a string."
   ]
  },
  {
   "cell_type": "markdown",
   "metadata": {},
   "source": [
    "### Using raw strings\n",
    "\n",
    "Above while compiling the regular expression, we pass the regular expression as string. But, in real usage, we pass the RE as *raw string*. Let's understand with an example.\n",
    "\n",
    "If were want to match a newline character using RE, we have to pass \"\\n\" as a string as RE. But, since we are not escaping the the backslash in before \"n\", Python might think we trying to use a newline here, which would generate error. To overcome this, we use raw string. The raw string will not interpret \"\\n\" as any special character, and will process it as just simple string.\n",
    "\n",
    "To create a raw string, we have to preceed the string with \"r\", r\"hello\\nraw string\" a simple raw string. If you print it, the \"\\n\" character will not be formatted."
   ]
  },
  {
   "cell_type": "code",
   "execution_count": 18,
   "metadata": {},
   "outputs": [
    {
     "name": "stdout",
     "output_type": "stream",
     "text": [
      "Hello\\nraw string\n"
     ]
    }
   ],
   "source": [
    "print(r\"Hello\\nraw string\")"
   ]
  },
  {
   "cell_type": "markdown",
   "metadata": {},
   "source": [
    "But, if you remove the 'r', and then print it, the newline will be formated."
   ]
  },
  {
   "cell_type": "code",
   "execution_count": 19,
   "metadata": {},
   "outputs": [
    {
     "name": "stdout",
     "output_type": "stream",
     "text": [
      "Hello\n",
      "raw string\n"
     ]
    }
   ],
   "source": [
    "print(\"Hello\\nraw string\")"
   ]
  },
  {
   "cell_type": "code",
   "execution_count": null,
   "metadata": {},
   "outputs": [],
   "source": []
  },
  {
   "cell_type": "markdown",
   "metadata": {},
   "source": [
    "### Preformaing matches\n",
    "\n",
    "- **match()**: Determine if the RE matches the begining of the string.\n",
    "- **search()**: Scan through a  string, looking for any location where this RE matches.\n",
    "- **findall()**: Find all substrings where the RE matches, and returns them as a list.\n",
    "- **finditer()**: Find all substrings where the RE matches, and returns them as an iterator.\n",
    "\n",
    "\n",
    "The `match()` and `search()` return `None` if no match can be found. If they're successfull, a `match object()` instance is returned, containing information about the match: where it starts and ends, the substring it matched, and more."
   ]
  },
  {
   "cell_type": "code",
   "execution_count": 3,
   "metadata": {},
   "outputs": [
    {
     "data": {
      "text/plain": [
       "re.compile(r'[a-z]+', re.UNICODE)"
      ]
     },
     "execution_count": 3,
     "metadata": {},
     "output_type": "execute_result"
    }
   ],
   "source": [
    "p = re.compile('[a-z]+')\n",
    "p "
   ]
  },
  {
   "cell_type": "code",
   "execution_count": 4,
   "metadata": {},
   "outputs": [],
   "source": [
    "# trying to match empty string\n",
    "\n",
    "p.match(\"\")"
   ]
  },
  {
   "cell_type": "code",
   "execution_count": 5,
   "metadata": {},
   "outputs": [
    {
     "data": {
      "text/plain": [
       "<re.Match object; span=(0, 5), match='tempo'>"
      ]
     },
     "execution_count": 5,
     "metadata": {},
     "output_type": "execute_result"
    }
   ],
   "source": [
    "# matching a string `tempo`\n",
    "\n",
    "m = p.match('tempo')\n",
    "m"
   ]
  },
  {
   "cell_type": "markdown",
   "metadata": {},
   "source": [
    "### Querying match object\n",
    "\n",
    "Match object instances have several methods and attributes; the most important ones are:\n",
    "\n",
    "- `group()`: Return the substring by the RE.\n",
    "- `start()`: Return starting position of the match.\n",
    "- `end()`: Return the ending position of the match.\n",
    "- `span()`: Return a tuple containing the (start, end) positions of the match."
   ]
  },
  {
   "cell_type": "code",
   "execution_count": 6,
   "metadata": {},
   "outputs": [
    {
     "data": {
      "text/plain": [
       "'tempo'"
      ]
     },
     "execution_count": 6,
     "metadata": {},
     "output_type": "execute_result"
    }
   ],
   "source": [
    "m.group()"
   ]
  },
  {
   "cell_type": "code",
   "execution_count": 7,
   "metadata": {},
   "outputs": [
    {
     "data": {
      "text/plain": [
       "(0, 5)"
      ]
     },
     "execution_count": 7,
     "metadata": {},
     "output_type": "execute_result"
    }
   ],
   "source": [
    "m.start(), m.end()"
   ]
  },
  {
   "cell_type": "code",
   "execution_count": 8,
   "metadata": {},
   "outputs": [
    {
     "data": {
      "text/plain": [
       "(0, 5)"
      ]
     },
     "execution_count": 8,
     "metadata": {},
     "output_type": "execute_result"
    }
   ],
   "source": [
    "m.span()"
   ]
  },
  {
   "cell_type": "markdown",
   "metadata": {},
   "source": [
    "### Two pattern matching method\n",
    "\n",
    "`findall()` returns a list of matching strings. It has to create the entire list  before it can be returned as the result."
   ]
  },
  {
   "cell_type": "code",
   "execution_count": 9,
   "metadata": {},
   "outputs": [
    {
     "data": {
      "text/plain": [
       "['12', '11', '10']"
      ]
     },
     "execution_count": 9,
     "metadata": {},
     "output_type": "execute_result"
    }
   ],
   "source": [
    "p = re.compile(r\"\\d+\")\n",
    "p.findall(\"12 drummers drumming, 11 pipers piping, 10 lords a leaping\")"
   ]
  },
  {
   "cell_type": "markdown",
   "metadata": {},
   "source": [
    "`finditer()` method returns a sequence of `match object` instances as an iterator."
   ]
  },
  {
   "cell_type": "code",
   "execution_count": 10,
   "metadata": {},
   "outputs": [
    {
     "data": {
      "text/plain": [
       "<callable_iterator at 0x1ef2b5671c0>"
      ]
     },
     "execution_count": 10,
     "metadata": {},
     "output_type": "execute_result"
    }
   ],
   "source": [
    "iterator = p.finditer(\"12 drummers drumming, 11 pipers piping, 10 lords a leaping\")\n",
    "iterator"
   ]
  },
  {
   "cell_type": "code",
   "execution_count": 11,
   "metadata": {},
   "outputs": [
    {
     "name": "stdout",
     "output_type": "stream",
     "text": [
      "(0, 2)\n",
      "(22, 24)\n",
      "(40, 42)\n"
     ]
    }
   ],
   "source": [
    "for match in iterator:\n",
    "    print(match.span())"
   ]
  },
  {
   "cell_type": "markdown",
   "metadata": {},
   "source": [
    "### Module-levels functions\n",
    "\n",
    "`re` also provides top-level functions called `match()`, `search()`, `findall()`, `sub()`, and so forth. These functions take the same arguments as the coresponsing pattern method with the RE string added as the first argument, and still return either `None` or a *match object* instance."
   ]
  },
  {
   "cell_type": "code",
   "execution_count": 21,
   "metadata": {},
   "outputs": [
    {
     "name": "stdout",
     "output_type": "stream",
     "text": [
      "None\n"
     ]
    }
   ],
   "source": [
    "print(re.match(r\"From\\s+\", \"Fromage amk\"))"
   ]
  },
  {
   "cell_type": "code",
   "execution_count": 22,
   "metadata": {},
   "outputs": [
    {
     "data": {
      "text/plain": [
       "<re.Match object; span=(0, 5), match='From '>"
      ]
     },
     "execution_count": 22,
     "metadata": {},
     "output_type": "execute_result"
    }
   ],
   "source": [
    "re.match(r\"From\\s+\", \"From aml Thu May 14 19:12:10 1998\")"
   ]
  },
  {
   "cell_type": "markdown",
   "metadata": {},
   "source": [
    "Under the hood, these functions simply create a pattern object for you and call the appropriate method on it."
   ]
  },
  {
   "cell_type": "markdown",
   "metadata": {},
   "source": [
    "### Compilation Flags\n",
    "\n",
    "Compilation flags let you modify some aspects of how regular expression work. Flags are available under two names:\n",
    "\n",
    "1. Long name such as `IGNORECASE`.\n",
    "2. Short name such as `I`\n",
    "\n",
    "Mulitple flags can be specified by bitwise "
   ]
  }
 ],
 "metadata": {
  "kernelspec": {
   "display_name": "artofai",
   "language": "python",
   "name": "python3"
  },
  "language_info": {
   "codemirror_mode": {
    "name": "ipython",
    "version": 3
   },
   "file_extension": ".py",
   "mimetype": "text/x-python",
   "name": "python",
   "nbconvert_exporter": "python",
   "pygments_lexer": "ipython3",
   "version": "3.12.0"
  }
 },
 "nbformat": 4,
 "nbformat_minor": 2
}
